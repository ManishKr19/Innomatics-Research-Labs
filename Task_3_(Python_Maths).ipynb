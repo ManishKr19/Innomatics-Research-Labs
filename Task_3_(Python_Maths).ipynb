{
  "nbformat": 4,
  "nbformat_minor": 0,
  "metadata": {
    "colab": {
      "name": "Task - 3 (Python Maths)",
      "provenance": [],
      "collapsed_sections": [],
      "authorship_tag": "ABX9TyO8RPE5k0f7TPoQITNbVWMm",
      "include_colab_link": true
    },
    "kernelspec": {
      "name": "python3",
      "display_name": "Python 3"
    },
    "language_info": {
      "name": "python"
    }
  },
  "cells": [
    {
      "cell_type": "markdown",
      "metadata": {
        "id": "view-in-github",
        "colab_type": "text"
      },
      "source": [
        "<a href=\"https://colab.research.google.com/github/ManishKr19/Innomatics-Research-Labs/blob/main/Task_3_(Python_Maths).ipynb\" target=\"_parent\"><img src=\"https://colab.research.google.com/assets/colab-badge.svg\" alt=\"Open In Colab\"/></a>"
      ]
    },
    {
      "cell_type": "markdown",
      "metadata": {
        "id": "e4XEQcLTCRuX"
      },
      "source": [
        "# **Task - 3 (Python Maths)**\n",
        "\n",
        "[*https://www.hackerrank.com/domains/python?filters%5Bsubdomains%5D%5B%5D=py-math*](https://www.hackerrank.com/domains/python?filters%5Bsubdomains%5D%5B%5D=py-math)"
      ]
    },
    {
      "cell_type": "markdown",
      "metadata": {
        "id": "gep6XeV91B35"
      },
      "source": [
        "***Mod Divmod***"
      ]
    },
    {
      "cell_type": "code",
      "metadata": {
        "colab": {
          "base_uri": "https://localhost:8080/"
        },
        "id": "yZPcqFKO1Dcu",
        "outputId": "3dfa5c53-6f9e-4cef-9fa2-ee95fbf434ec"
      },
      "source": [
        "print('{0}\\n{1}\\n({0}, {1})'.format(*divmod(int(input()), int(input()))))"
      ],
      "execution_count": 20,
      "outputs": [
        {
          "output_type": "stream",
          "name": "stdout",
          "text": [
            "177\n",
            "10\n",
            "17\n",
            "7\n",
            "(17, 7)\n"
          ]
        }
      ]
    },
    {
      "cell_type": "markdown",
      "metadata": {
        "id": "C4YdkOk21CFr"
      },
      "source": [
        "***Power - Mod Power***"
      ]
    },
    {
      "cell_type": "code",
      "metadata": {
        "colab": {
          "base_uri": "https://localhost:8080/"
        },
        "id": "dHzpz5821EJG",
        "outputId": "77845ad5-ef1a-43f0-e9b7-70c1cf46339e"
      },
      "source": [
        "a,b,m = [int(input()) for _ in '123']\n",
        "print(pow(a,b),pow(a,b,m),sep='\\n')"
      ],
      "execution_count": 21,
      "outputs": [
        {
          "output_type": "stream",
          "name": "stdout",
          "text": [
            "3\n",
            "4\n",
            "5\n",
            "81\n",
            "1\n"
          ]
        }
      ]
    },
    {
      "cell_type": "markdown",
      "metadata": {
        "id": "81pEKHBi1COf"
      },
      "source": [
        "***Integers Come In All Sizes***"
      ]
    },
    {
      "cell_type": "code",
      "metadata": {
        "colab": {
          "base_uri": "https://localhost:8080/"
        },
        "id": "2yERMOQP1E96",
        "outputId": "df6e7f10-2444-45ac-9d44-0f2e6f0a3071"
      },
      "source": [
        "a,b,c,d = (int(input()) for _ in range(4))\n",
        "print (pow(a,b)+pow(c,d))"
      ],
      "execution_count": 22,
      "outputs": [
        {
          "output_type": "stream",
          "name": "stdout",
          "text": [
            "9\n",
            "29\n",
            "7\n",
            "27\n",
            "4710194409608608369201743232\n"
          ]
        }
      ]
    },
    {
      "cell_type": "markdown",
      "metadata": {
        "id": "L3gkqoYI1CRd"
      },
      "source": [
        "***Polar Coordinates***"
      ]
    },
    {
      "cell_type": "code",
      "metadata": {
        "colab": {
          "base_uri": "https://localhost:8080/"
        },
        "id": "vfDajrgP1F0X",
        "outputId": "434460b3-bfef-4146-9568-7595afcace90"
      },
      "source": [
        "import cmath\n",
        "print(*cmath.polar(complex(input())), sep='\\n')"
      ],
      "execution_count": 23,
      "outputs": [
        {
          "output_type": "stream",
          "name": "stdout",
          "text": [
            "1+2j\n",
            "2.23606797749979\n",
            "1.1071487177940904\n"
          ]
        }
      ]
    },
    {
      "cell_type": "markdown",
      "metadata": {
        "id": "y5h70Xbo1CUH"
      },
      "source": [
        "***Triangle Quest***"
      ]
    },
    {
      "cell_type": "code",
      "metadata": {
        "colab": {
          "base_uri": "https://localhost:8080/"
        },
        "id": "6Dj2k1-R1GjU",
        "outputId": "88e0d114-6e63-4b51-d1a4-4fa81f20abb7"
      },
      "source": [
        "for i in range(1,int(input())):\n",
        "  print((10**(i)//9)*i)"
      ],
      "execution_count": 25,
      "outputs": [
        {
          "output_type": "stream",
          "name": "stdout",
          "text": [
            "5\n",
            "1\n",
            "22\n",
            "333\n",
            "4444\n"
          ]
        }
      ]
    },
    {
      "cell_type": "markdown",
      "metadata": {
        "id": "W6zhEVOK1CXH"
      },
      "source": [
        "***Triangle Quest 2***"
      ]
    },
    {
      "cell_type": "code",
      "metadata": {
        "colab": {
          "base_uri": "https://localhost:8080/"
        },
        "id": "E_9tsaom1IDB",
        "outputId": "d06ea830-5b40-49b8-b0a1-4eaf06304aa5"
      },
      "source": [
        "for x in range(1,int(input())+1):\n",
        "    print(((10**x - 1)//9)**2)"
      ],
      "execution_count": 26,
      "outputs": [
        {
          "output_type": "stream",
          "name": "stdout",
          "text": [
            "5\n",
            "1\n",
            "121\n",
            "12321\n",
            "1234321\n",
            "123454321\n"
          ]
        }
      ]
    },
    {
      "cell_type": "markdown",
      "metadata": {
        "id": "wVg8Tg_p1CZ2"
      },
      "source": [
        "***Find Angle MBC***"
      ]
    },
    {
      "cell_type": "code",
      "metadata": {
        "colab": {
          "base_uri": "https://localhost:8080/"
        },
        "id": "oHLbXgTq1IrN",
        "outputId": "1429fdc0-a545-4442-a66b-70c6aeea4deb"
      },
      "source": [
        "import math\n",
        "AB,BC=int(input()),int(input())\n",
        "hype=math.hypot(AB,BC)\n",
        "res=round(math.degrees(math.acos(BC/hype)))\n",
        "degree=chr(176)\n",
        "print(res,degree, sep='')"
      ],
      "execution_count": 27,
      "outputs": [
        {
          "output_type": "stream",
          "name": "stdout",
          "text": [
            "10\n",
            "10\n",
            "45°\n"
          ]
        }
      ]
    },
    {
      "cell_type": "code",
      "metadata": {
        "id": "k_uwXwoV_kQJ"
      },
      "source": [
        ""
      ],
      "execution_count": null,
      "outputs": []
    }
  ]
}