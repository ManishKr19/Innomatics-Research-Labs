{
  "nbformat": 4,
  "nbformat_minor": 0,
  "metadata": {
    "kernelspec": {
      "display_name": "Python 3",
      "language": "python",
      "name": "python3"
    },
    "language_info": {
      "codemirror_mode": {
        "name": "ipython",
        "version": 3
      },
      "file_extension": ".py",
      "mimetype": "text/x-python",
      "name": "python",
      "nbconvert_exporter": "python",
      "pygments_lexer": "ipython3",
      "version": "3.6.3"
    },
    "colab": {
      "name": "M4_CS2.ipynb",
      "provenance": [],
      "include_colab_link": true
    }
  },
  "cells": [
    {
      "cell_type": "markdown",
      "metadata": {
        "id": "view-in-github",
        "colab_type": "text"
      },
      "source": [
        "<a href=\"https://colab.research.google.com/github/ManishKr19/Innomatics-Research-Labs/blob/main/M4_CS2.ipynb\" target=\"_parent\"><img src=\"https://colab.research.google.com/assets/colab-badge.svg\" alt=\"Open In Colab\"/></a>"
      ]
    },
    {
      "cell_type": "code",
      "metadata": {
        "collapsed": true,
        "id": "CWekH3vwotq_"
      },
      "source": [
        "# Loading dependancy\n",
        "import numpy as np\n",
        "import pandas as pd\n",
        "import matplotlib.pyplot as plt\n",
        "import seaborn as sns\n",
        "%matplotlib inline"
      ],
      "execution_count": 1,
      "outputs": []
    },
    {
      "cell_type": "code",
      "metadata": {
        "collapsed": true,
        "id": "907gar11otq_"
      },
      "source": [
        "# Loading data through pandas\n",
        "math = pd.read_csv(r'/content/MathScoreTerm1.csv')\n",
        "physics = pd.read_csv(r'/content/PhysicsScoreTerm1.csv')\n",
        "ds = pd.read_csv(r'/content/DSScoreTerm1.csv')"
      ],
      "execution_count": 2,
      "outputs": []
    },
    {
      "cell_type": "code",
      "metadata": {
        "colab": {
          "base_uri": "https://localhost:8080/",
          "height": 0
        },
        "id": "n8HmFdwmotrA",
        "outputId": "eb722342-a53b-4785-d471-41e74fcda956"
      },
      "source": [
        "# Seems all df has same set of columns and 599 records!\n",
        "math.shape, physics.shape, ds.shape"
      ],
      "execution_count": 3,
      "outputs": [
        {
          "output_type": "execute_result",
          "data": {
            "text/plain": [
              "((599, 7), (599, 7), (599, 7))"
            ]
          },
          "metadata": {},
          "execution_count": 3
        }
      ]
    },
    {
      "cell_type": "code",
      "metadata": {
        "collapsed": true,
        "id": "z7cgBPJEotrA"
      },
      "source": [
        "def removeConfidentialCols(df, columnToRemove = ['Name', 'Ethinicity']):\n",
        "    '''Function to return dataframe after removing the columns from dataframe that are not desired. \n",
        "    Input: dataframe and list of columns that doesn't need in dataframe.\n",
        "    '''\n",
        "    return df[[column for column in df.columns if column not in columnToRemove]]"
      ],
      "execution_count": 4,
      "outputs": []
    },
    {
      "cell_type": "code",
      "metadata": {
        "collapsed": true,
        "id": "KgXi1hKjotrA"
      },
      "source": [
        "# Removed confidential columns from dataframe\n",
        "math_df, physics_df, ds_df = map(removeConfidentialCols, (math, physics, ds))"
      ],
      "execution_count": 5,
      "outputs": []
    },
    {
      "cell_type": "code",
      "metadata": {
        "colab": {
          "base_uri": "https://localhost:8080/",
          "height": 0
        },
        "id": "TDWENSSVotrB",
        "outputId": "8498e420-0659-48e4-960c-95b843697b3c"
      },
      "source": [
        "print(\"====Math Info====\")\n",
        "print(math_df.info())\n",
        "print(\"====Physics Info====\")\n",
        "print(physics_df.info())\n",
        "print(\"=====Data Structure Info=====\")\n",
        "print(ds_df.info())"
      ],
      "execution_count": 6,
      "outputs": [
        {
          "output_type": "stream",
          "name": "stdout",
          "text": [
            "====Math Info====\n",
            "<class 'pandas.core.frame.DataFrame'>\n",
            "RangeIndex: 599 entries, 0 to 598\n",
            "Data columns (total 5 columns):\n",
            " #   Column   Non-Null Count  Dtype  \n",
            "---  ------   --------------  -----  \n",
            " 0   Score    596 non-null    float64\n",
            " 1   Age      599 non-null    int64  \n",
            " 2   Subject  599 non-null    object \n",
            " 3   Sex      599 non-null    object \n",
            " 4   ID       599 non-null    int64  \n",
            "dtypes: float64(1), int64(2), object(2)\n",
            "memory usage: 23.5+ KB\n",
            "None\n",
            "====Physics Info====\n",
            "<class 'pandas.core.frame.DataFrame'>\n",
            "RangeIndex: 599 entries, 0 to 598\n",
            "Data columns (total 5 columns):\n",
            " #   Column   Non-Null Count  Dtype  \n",
            "---  ------   --------------  -----  \n",
            " 0   Score    593 non-null    float64\n",
            " 1   Age      599 non-null    int64  \n",
            " 2   Subject  599 non-null    object \n",
            " 3   Sex      599 non-null    object \n",
            " 4   ID       599 non-null    int64  \n",
            "dtypes: float64(1), int64(2), object(2)\n",
            "memory usage: 23.5+ KB\n",
            "None\n",
            "=====Data Structure Info=====\n",
            "<class 'pandas.core.frame.DataFrame'>\n",
            "RangeIndex: 599 entries, 0 to 598\n",
            "Data columns (total 5 columns):\n",
            " #   Column   Non-Null Count  Dtype  \n",
            "---  ------   --------------  -----  \n",
            " 0   Score    591 non-null    float64\n",
            " 1   Age      599 non-null    int64  \n",
            " 2   Subject  599 non-null    object \n",
            " 3   Sex      599 non-null    object \n",
            " 4   ID       599 non-null    int64  \n",
            "dtypes: float64(1), int64(2), object(2)\n",
            "memory usage: 23.5+ KB\n",
            "None\n"
          ]
        }
      ]
    },
    {
      "cell_type": "code",
      "metadata": {
        "colab": {
          "base_uri": "https://localhost:8080/",
          "height": 0
        },
        "id": "M7UdCDO9otrB",
        "outputId": "6fa7a880-12e8-4612-b17a-7dc120d18b31"
      },
      "source": [
        "(math_df['Score'], physics_df['Score'], ds_df['Score']) = map(\n",
        "    lambda df_series: df_series.fillna(0), (math_df.Score, physics_df.Score, ds_df.Score)\n",
        ")"
      ],
      "execution_count": 7,
      "outputs": [
        {
          "output_type": "stream",
          "name": "stderr",
          "text": [
            "/usr/local/lib/python3.7/dist-packages/ipykernel_launcher.py:2: SettingWithCopyWarning: \n",
            "A value is trying to be set on a copy of a slice from a DataFrame.\n",
            "Try using .loc[row_indexer,col_indexer] = value instead\n",
            "\n",
            "See the caveats in the documentation: https://pandas.pydata.org/pandas-docs/stable/user_guide/indexing.html#returning-a-view-versus-a-copy\n",
            "  \n"
          ]
        }
      ]
    },
    {
      "cell_type": "code",
      "metadata": {
        "colab": {
          "base_uri": "https://localhost:8080/",
          "height": 0
        },
        "id": "mn0brkJootrC",
        "outputId": "b5f41d04-d61e-45fa-c7c6-1ab086a22cc3"
      },
      "source": [
        "print(\"====Math Info====\")\n",
        "print(math_df.info())\n",
        "print(\"====Physics Info====\")\n",
        "print(physics_df.info())\n",
        "print(\"=====Data Structure Info=====\")\n",
        "print(ds_df.info())"
      ],
      "execution_count": 8,
      "outputs": [
        {
          "output_type": "stream",
          "name": "stdout",
          "text": [
            "====Math Info====\n",
            "<class 'pandas.core.frame.DataFrame'>\n",
            "RangeIndex: 599 entries, 0 to 598\n",
            "Data columns (total 5 columns):\n",
            " #   Column   Non-Null Count  Dtype  \n",
            "---  ------   --------------  -----  \n",
            " 0   Score    599 non-null    float64\n",
            " 1   Age      599 non-null    int64  \n",
            " 2   Subject  599 non-null    object \n",
            " 3   Sex      599 non-null    object \n",
            " 4   ID       599 non-null    int64  \n",
            "dtypes: float64(1), int64(2), object(2)\n",
            "memory usage: 23.5+ KB\n",
            "None\n",
            "====Physics Info====\n",
            "<class 'pandas.core.frame.DataFrame'>\n",
            "RangeIndex: 599 entries, 0 to 598\n",
            "Data columns (total 5 columns):\n",
            " #   Column   Non-Null Count  Dtype  \n",
            "---  ------   --------------  -----  \n",
            " 0   Score    599 non-null    float64\n",
            " 1   Age      599 non-null    int64  \n",
            " 2   Subject  599 non-null    object \n",
            " 3   Sex      599 non-null    object \n",
            " 4   ID       599 non-null    int64  \n",
            "dtypes: float64(1), int64(2), object(2)\n",
            "memory usage: 23.5+ KB\n",
            "None\n",
            "=====Data Structure Info=====\n",
            "<class 'pandas.core.frame.DataFrame'>\n",
            "RangeIndex: 599 entries, 0 to 598\n",
            "Data columns (total 5 columns):\n",
            " #   Column   Non-Null Count  Dtype  \n",
            "---  ------   --------------  -----  \n",
            " 0   Score    599 non-null    float64\n",
            " 1   Age      599 non-null    int64  \n",
            " 2   Subject  599 non-null    object \n",
            " 3   Sex      599 non-null    object \n",
            " 4   ID       599 non-null    int64  \n",
            "dtypes: float64(1), int64(2), object(2)\n",
            "memory usage: 23.5+ KB\n",
            "None\n"
          ]
        }
      ]
    },
    {
      "cell_type": "code",
      "metadata": {
        "collapsed": true,
        "id": "GUYWZZ_RotrC"
      },
      "source": [
        "# Merging all 3 dataframe \n",
        "scorecard_df = pd.concat([math_df, physics_df, ds_df])"
      ],
      "execution_count": 9,
      "outputs": []
    },
    {
      "cell_type": "code",
      "metadata": {
        "colab": {
          "base_uri": "https://localhost:8080/",
          "height": 0
        },
        "id": "taNSL_njotrC",
        "outputId": "078660c7-1ead-4c23-b28a-79f67dd72f85"
      },
      "source": [
        "scorecard_df.shape"
      ],
      "execution_count": 10,
      "outputs": [
        {
          "output_type": "execute_result",
          "data": {
            "text/plain": [
              "(1797, 5)"
            ]
          },
          "metadata": {},
          "execution_count": 10
        }
      ]
    },
    {
      "cell_type": "code",
      "metadata": {
        "collapsed": true,
        "id": "QKDrp6DzotrD"
      },
      "source": [
        "def changeCategoryNumeric(sex):\n",
        "    if sex == 'M':\n",
        "        return 1\n",
        "    else:\n",
        "        return 2\n",
        "    "
      ],
      "execution_count": 11,
      "outputs": []
    },
    {
      "cell_type": "code",
      "metadata": {
        "collapsed": true,
        "id": "8ig9kX8KotrD"
      },
      "source": [
        "scorecard_df['Sex'] = scorecard_df['Sex'].apply(changeCategoryNumeric)"
      ],
      "execution_count": 12,
      "outputs": []
    },
    {
      "cell_type": "code",
      "metadata": {
        "collapsed": true,
        "id": "saUHseyKotrD"
      },
      "source": [
        "scorecard_df.to_csv('ScoreFinal.csv', index=False)"
      ],
      "execution_count": 13,
      "outputs": []
    },
    {
      "cell_type": "code",
      "metadata": {
        "colab": {
          "base_uri": "https://localhost:8080/",
          "height": 0
        },
        "id": "XFg8JM22otrE",
        "outputId": "d51cdc01-4c86-4d3b-d62c-fb64fbf38f49"
      },
      "source": [
        "cat ScoreFinal.csv | head"
      ],
      "execution_count": 16,
      "outputs": [
        {
          "output_type": "stream",
          "name": "stdout",
          "text": [
            "Score,Age,Subject,Sex,ID\n",
            "88.0,18,Maths,1,1\n",
            "85.0,19,Maths,1,2\n",
            "45.0,19,Maths,1,3\n",
            "82.0,18,Maths,1,4\n",
            "82.0,18,Maths,2,5\n",
            "95.0,20,Maths,1,6\n",
            "95.0,18,Maths,1,7\n",
            "65.0,19,Maths,1,8\n",
            "88.0,18,Maths,1,9\n"
          ]
        }
      ]
    },
    {
      "cell_type": "markdown",
      "metadata": {
        "id": "YPq0IwN2otrE"
      },
      "source": [
        "## **Enhancement for code**"
      ]
    },
    {
      "cell_type": "code",
      "metadata": {
        "collapsed": true,
        "id": "-p_jr5zvotrF"
      },
      "source": [
        "# Convert ethnicity to numerical value\n",
        "def makeCategory(df, col = 'Ethinicity'):\n",
        "    df[col] = pd.Categorical(df[col])\n",
        "    return df"
      ],
      "execution_count": 17,
      "outputs": []
    },
    {
      "cell_type": "code",
      "metadata": {
        "collapsed": true,
        "id": "A7xItzvLotrF"
      },
      "source": [
        "def categorizeDf(scoreCard):\n",
        "    cat_columns = list(scoreCard.select_dtypes(['category']).columns)\n",
        "    for col in cat_columns:\n",
        "        scoreCard[col] = scoreCard[col].astype('category')\n",
        "        scoreCard[col] = scoreCard.loc[:, col].cat.codes\n",
        "    return scoreCard"
      ],
      "execution_count": 18,
      "outputs": []
    },
    {
      "cell_type": "code",
      "metadata": {
        "id": "nHRSfzL-otrG"
      },
      "source": [
        "math, physics, ds = map(makeCategory, (math, physics, ds))"
      ],
      "execution_count": 19,
      "outputs": []
    },
    {
      "cell_type": "code",
      "metadata": {
        "id": "3lWqSD-iotrG"
      },
      "source": [
        "math, physics, ds = map(categorizeDf, (math, physics, ds))"
      ],
      "execution_count": 20,
      "outputs": []
    },
    {
      "cell_type": "code",
      "metadata": {
        "collapsed": true,
        "id": "P3NZWZ6fotrG"
      },
      "source": [
        "means = [np.mean(df['Score'])for df in [math,physics,ds]]"
      ],
      "execution_count": 21,
      "outputs": []
    },
    {
      "cell_type": "code",
      "metadata": {
        "id": "nafYvVKHotrH"
      },
      "source": [
        "(math['Score'], physics['Score'], ds['Score']) = map(\n",
        "    lambda df_series: df_series.fillna(np.mean(df_series)), (math.Score, physics.Score, ds.Score)\n",
        ")"
      ],
      "execution_count": 22,
      "outputs": []
    },
    {
      "cell_type": "code",
      "metadata": {
        "id": "70XhwgY_4VeS"
      },
      "source": [
        ""
      ],
      "execution_count": 22,
      "outputs": []
    }
  ]
}