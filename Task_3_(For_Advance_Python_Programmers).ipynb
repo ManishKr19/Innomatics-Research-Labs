{
  "nbformat": 4,
  "nbformat_minor": 0,
  "metadata": {
    "colab": {
      "name": "Task - 3 (For Advance Python Programmers).ipynb",
      "provenance": [],
      "collapsed_sections": [],
      "authorship_tag": "ABX9TyOwHZ/PZht8tTI7xaswkBqY",
      "include_colab_link": true
    },
    "kernelspec": {
      "name": "python3",
      "display_name": "Python 3"
    },
    "language_info": {
      "name": "python"
    }
  },
  "cells": [
    {
      "cell_type": "markdown",
      "metadata": {
        "id": "view-in-github",
        "colab_type": "text"
      },
      "source": [
        "<a href=\"https://colab.research.google.com/github/ManishKr19/Innomatics-Research-Labs/blob/main/Task_3_(For_Advance_Python_Programmers).ipynb\" target=\"_parent\"><img src=\"https://colab.research.google.com/assets/colab-badge.svg\" alt=\"Open In Colab\"/></a>"
      ]
    },
    {
      "cell_type": "markdown",
      "metadata": {
        "id": "aqW6XaZRH17Z"
      },
      "source": [
        "# **Task - 3 (For Advance Python Programmers)**"
      ]
    },
    {
      "cell_type": "markdown",
      "metadata": {
        "id": "gZX3CseiICrH"
      },
      "source": [
        "***Maximum Product of Two Elements in an Array***"
      ]
    },
    {
      "cell_type": "code",
      "metadata": {
        "colab": {
          "base_uri": "https://localhost:8080/"
        },
        "id": "F9wZ1OlqIWgg",
        "outputId": "53099d14-0519-4876-f98a-1addd4cce621"
      },
      "source": [
        "class Solution:\n",
        "    def maxProduct(self, nums):\n",
        "        a,b=sorted(nums, reverse=True)[:2]\n",
        "        return((a-1)*(b-1))\n",
        "\n",
        "s = Solution()\n",
        "print(s.maxProduct([12,5,2,6,7]))"
      ],
      "execution_count": 13,
      "outputs": [
        {
          "output_type": "stream",
          "name": "stdout",
          "text": [
            "66\n"
          ]
        }
      ]
    },
    {
      "cell_type": "markdown",
      "metadata": {
        "id": "R2p7NoqqIGp4"
      },
      "source": [
        "***Count Number of Teams***"
      ]
    },
    {
      "cell_type": "code",
      "metadata": {
        "colab": {
          "base_uri": "https://localhost:8080/"
        },
        "id": "CMg88baUIXao",
        "outputId": "128176cc-22df-4189-dd1a-3428e6479bda"
      },
      "source": [
        "class Solution:\n",
        "    def numTeams(self, rating):\n",
        "        team=[]\n",
        "        for i,n in enumerate(rating):\n",
        "            team.append([0,0])\n",
        "            for m in rating[i+1:]:\n",
        "                if n < m: team[-1][1] += 1\n",
        "                elif n > m: team[-1][0] += 1\n",
        "        res=0\n",
        "        for i in range(len(rating)):\n",
        "            for j in range(i+1,len(rating)):\n",
        "                if rating[i] < rating[j]: res += team[j][1]\n",
        "                elif rating[i] > rating[j]: res += team[j][0]\n",
        "        return res\n",
        "\n",
        "s = Solution()\n",
        "print(s.numTeams([2,5,3,4,1]))"
      ],
      "execution_count": 14,
      "outputs": [
        {
          "output_type": "stream",
          "name": "stdout",
          "text": [
            "3\n"
          ]
        }
      ]
    },
    {
      "cell_type": "markdown",
      "metadata": {
        "id": "edwVo1JxIG2i"
      },
      "source": [
        "***Number of Students Doing Homework at a Given Time***"
      ]
    },
    {
      "cell_type": "code",
      "metadata": {
        "colab": {
          "base_uri": "https://localhost:8080/"
        },
        "id": "TyLioqxAIYO8",
        "outputId": "955ee2ac-f024-4c0c-961c-17d933fcfc7d"
      },
      "source": [
        "class Solution:\n",
        "    def busyStudent(self, startTime, endTime, queryTime):\n",
        "        count = 0\n",
        "        for i,j in zip(startTime, endTime):\n",
        "            if queryTime in list(range(i,j+1)):\n",
        "                count += 1\n",
        "        return count\n",
        "\n",
        "s = Solution()\n",
        "print(s.busyStudent([1,2,3], [3,2,7],4))        "
      ],
      "execution_count": 17,
      "outputs": [
        {
          "output_type": "stream",
          "name": "stdout",
          "text": [
            "1\n"
          ]
        }
      ]
    },
    {
      "cell_type": "markdown",
      "metadata": {
        "id": "lvW09AW0IOfY"
      },
      "source": [
        "***Number of Steps to Reduce a Number to Zero***"
      ]
    },
    {
      "cell_type": "code",
      "metadata": {
        "colab": {
          "base_uri": "https://localhost:8080/"
        },
        "id": "0kLkzCjUIZGS",
        "outputId": "fc931453-5176-47c7-af3f-d74b3154d9e3"
      },
      "source": [
        "class Solution:\n",
        "    def numberOfSteps(self, num: int) -> int:\n",
        "        count = 0\n",
        "        while num>0:\n",
        "            count += 1\n",
        "            if num%2 == 0:\n",
        "                num //= 2\n",
        "            else:\n",
        "                num -= 1\n",
        "        return count\n",
        "\n",
        "s = Solution()\n",
        "print(s.numberOfSteps( int(input()) ))"
      ],
      "execution_count": 18,
      "outputs": [
        {
          "output_type": "stream",
          "name": "stdout",
          "text": [
            "14\n",
            "6\n"
          ]
        }
      ]
    },
    {
      "cell_type": "markdown",
      "metadata": {
        "id": "ikbg678oIOqY"
      },
      "source": [
        "***Counting Bits***"
      ]
    },
    {
      "cell_type": "code",
      "metadata": {
        "colab": {
          "base_uri": "https://localhost:8080/"
        },
        "id": "w8qOp6ASIZ4-",
        "outputId": "cf7e1a2d-51f6-4bfa-c95d-9b9810b5e349"
      },
      "source": [
        "class Solution:\n",
        "    def countBits(self, n):\n",
        "        arr = [ str(bin(i)).count('1') for i in range(n+1) ]\n",
        "        return arr\n",
        "\n",
        "s = Solution()\n",
        "print(s.countBits( int(input()) ))       "
      ],
      "execution_count": 19,
      "outputs": [
        {
          "output_type": "stream",
          "name": "stdout",
          "text": [
            "5\n",
            "[0, 1, 1, 2, 1, 2]\n"
          ]
        }
      ]
    },
    {
      "cell_type": "code",
      "metadata": {
        "id": "dqDwTNDuR52i"
      },
      "source": [
        ""
      ],
      "execution_count": null,
      "outputs": []
    }
  ]
}