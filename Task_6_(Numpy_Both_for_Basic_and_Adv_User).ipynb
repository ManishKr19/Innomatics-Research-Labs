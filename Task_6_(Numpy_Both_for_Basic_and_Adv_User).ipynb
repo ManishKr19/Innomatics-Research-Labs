{
  "nbformat": 4,
  "nbformat_minor": 0,
  "metadata": {
    "colab": {
      "name": "Task - 6 (Numpy - Both for Basic and Adv User)",
      "provenance": [],
      "collapsed_sections": [],
      "authorship_tag": "ABX9TyP4ryWUKd81zL99EwetqwFD",
      "include_colab_link": true
    },
    "kernelspec": {
      "name": "python3",
      "display_name": "Python 3"
    },
    "language_info": {
      "name": "python"
    }
  },
  "cells": [
    {
      "cell_type": "markdown",
      "metadata": {
        "id": "view-in-github",
        "colab_type": "text"
      },
      "source": [
        "<a href=\"https://colab.research.google.com/github/ManishKr19/Innomatics-Research-Labs/blob/main/Task_6_(Numpy_Both_for_Basic_and_Adv_User).ipynb\" target=\"_parent\"><img src=\"https://colab.research.google.com/assets/colab-badge.svg\" alt=\"Open In Colab\"/></a>"
      ]
    },
    {
      "cell_type": "markdown",
      "metadata": {
        "id": "e4XEQcLTCRuX"
      },
      "source": [
        "## **Task - 6 (Numpy - Both for Basic and Adv User)**\n",
        "\n",
        "\n",
        "\n",
        "[https://www.hackerrank.com/domains/python?filters%5Bsubdomains%5D%5B%5D=numpy]( https://www.hackerrank.com/domains/python?filters%5Bsubdomains%5D%5B%5D=numpy)"
      ]
    },
    {
      "cell_type": "markdown",
      "metadata": {
        "id": "gep6XeV91B35"
      },
      "source": [
        "***Arrays***"
      ]
    },
    {
      "cell_type": "code",
      "metadata": {
        "id": "yZPcqFKO1Dcu",
        "colab": {
          "base_uri": "https://localhost:8080/"
        },
        "outputId": "f5c32679-efec-49a4-ca05-b192e60473ef"
      },
      "source": [
        "import numpy\n",
        "def arrays(arr):\n",
        "    arr = [float(it) for it in arr]\n",
        "    return numpy.array(arr[::-1])\n",
        "\n",
        "arr = input().strip().split(' ')\n",
        "result = arrays(arr)\n",
        "print(result)"
      ],
      "execution_count": null,
      "outputs": [
        {
          "output_type": "stream",
          "name": "stdout",
          "text": [
            "1 2 3 4 -8 -10\n",
            "[-10.  -8.   4.   3.   2.   1.]\n"
          ]
        }
      ]
    },
    {
      "cell_type": "markdown",
      "metadata": {
        "id": "C4YdkOk21CFr"
      },
      "source": [
        "***Shape and Reshape***"
      ]
    },
    {
      "cell_type": "code",
      "metadata": {
        "id": "dHzpz5821EJG",
        "colab": {
          "base_uri": "https://localhost:8080/"
        },
        "outputId": "2a06654a-2337-4d5e-eb6c-266774acb82d"
      },
      "source": [
        "import numpy as np\n",
        "lst = list(map(int, input().split()))\n",
        "arr = np.array(lst)\n",
        "print(arr.reshape(3,3))"
      ],
      "execution_count": 1,
      "outputs": [
        {
          "output_type": "stream",
          "name": "stdout",
          "text": [
            "1 2 3 4 5 6 7 8 9\n",
            "[[1 2 3]\n",
            " [4 5 6]\n",
            " [7 8 9]]\n"
          ]
        }
      ]
    },
    {
      "cell_type": "markdown",
      "metadata": {
        "id": "81pEKHBi1COf"
      },
      "source": [
        "***Transpose and Flatten***"
      ]
    },
    {
      "cell_type": "code",
      "metadata": {
        "id": "2yERMOQP1E96",
        "colab": {
          "base_uri": "https://localhost:8080/"
        },
        "outputId": "c1a0e092-e731-4c89-ef6e-cb21f85f5fd1"
      },
      "source": [
        "import numpy as np\n",
        "arr = np.array([input().split() for y in range(int(input().split()[0] ))], int)\n",
        "print(np.transpose(arr), arr.flatten(), sep=\"\\n\")\n"
      ],
      "execution_count": 2,
      "outputs": [
        {
          "output_type": "stream",
          "name": "stdout",
          "text": [
            "2 2\n",
            "1 2\n",
            "3 4\n",
            "[[1 3]\n",
            " [2 4]]\n",
            "[1 2 3 4]\n"
          ]
        }
      ]
    },
    {
      "cell_type": "markdown",
      "metadata": {
        "id": "L3gkqoYI1CRd"
      },
      "source": [
        "***Cocatenate***"
      ]
    },
    {
      "cell_type": "code",
      "metadata": {
        "id": "vfDajrgP1F0X",
        "colab": {
          "base_uri": "https://localhost:8080/"
        },
        "outputId": "f5fadaaa-063a-4fde-efc0-3be0bc13af94"
      },
      "source": [
        "import numpy as np\n",
        "N,M,P = map(int, input().split())\n",
        "arr = np.array([input().split() for y in range(N)], int)\n",
        "\n",
        "arr1 = np.array([input().split() for y in range(M)], int)\n",
        "\n",
        "print(np.concatenate((arr,arr1), axis=0))"
      ],
      "execution_count": 3,
      "outputs": [
        {
          "output_type": "stream",
          "name": "stdout",
          "text": [
            "4 3 2\n",
            "1 2\n",
            "1 2\n",
            "1 2\n",
            "1 2\n",
            "3 4\n",
            "3 4\n",
            "3 4\n",
            "[[1 2]\n",
            " [1 2]\n",
            " [1 2]\n",
            " [1 2]\n",
            " [3 4]\n",
            " [3 4]\n",
            " [3 4]]\n"
          ]
        }
      ]
    },
    {
      "cell_type": "markdown",
      "metadata": {
        "id": "y5h70Xbo1CUH"
      },
      "source": [
        "***Zeros and Ones***"
      ]
    },
    {
      "cell_type": "code",
      "metadata": {
        "id": "6Dj2k1-R1GjU",
        "colab": {
          "base_uri": "https://localhost:8080/"
        },
        "outputId": "87045acd-9c92-4aec-cf0b-95181ec12159"
      },
      "source": [
        "import numpy as np\n",
        "tup = tuple(map(int, input().split()))\n",
        "print(np.zeros(tup, dtype=np.int64))\n",
        "print(np.ones(tup,dtype=np.int64))\n"
      ],
      "execution_count": 5,
      "outputs": [
        {
          "output_type": "stream",
          "name": "stdout",
          "text": [
            "3 3 3\n",
            "[[[0 0 0]\n",
            "  [0 0 0]\n",
            "  [0 0 0]]\n",
            "\n",
            " [[0 0 0]\n",
            "  [0 0 0]\n",
            "  [0 0 0]]\n",
            "\n",
            " [[0 0 0]\n",
            "  [0 0 0]\n",
            "  [0 0 0]]]\n",
            "[[[1 1 1]\n",
            "  [1 1 1]\n",
            "  [1 1 1]]\n",
            "\n",
            " [[1 1 1]\n",
            "  [1 1 1]\n",
            "  [1 1 1]]\n",
            "\n",
            " [[1 1 1]\n",
            "  [1 1 1]\n",
            "  [1 1 1]]]\n"
          ]
        }
      ]
    },
    {
      "cell_type": "markdown",
      "metadata": {
        "id": "wVg8Tg_p1CZ2"
      },
      "source": [
        "***Eye and Identity***"
      ]
    },
    {
      "cell_type": "code",
      "metadata": {
        "id": "oHLbXgTq1IrN",
        "colab": {
          "base_uri": "https://localhost:8080/"
        },
        "outputId": "a4aad0f6-c12b-4139-b69d-71ca2784e2fe"
      },
      "source": [
        "import numpy as np\n",
        "n,m = map(int, input().split())\n",
        "np.set_printoptions(sign=' ')\n",
        "print(np.eye(n,m))"
      ],
      "execution_count": 7,
      "outputs": [
        {
          "output_type": "stream",
          "name": "stdout",
          "text": [
            "3 3\n",
            "[[ 1.  0.  0.]\n",
            " [ 0.  1.  0.]\n",
            " [ 0.  0.  1.]]\n"
          ]
        }
      ]
    },
    {
      "cell_type": "markdown",
      "metadata": {
        "id": "wSV4m1PTCAzL"
      },
      "source": [
        "***Array Mathematics***"
      ]
    },
    {
      "cell_type": "code",
      "metadata": {
        "id": "k_uwXwoV_kQJ",
        "colab": {
          "base_uri": "https://localhost:8080/"
        },
        "outputId": "03ef5965-16ae-4f24-9e42-70919d94ccad"
      },
      "source": [
        "import numpy as np\n",
        "n,m = map(int,input().split())\n",
        "\n",
        "a=np.zeros((n,m),int)\n",
        "b=np.zeros((n,m),int)\n",
        "for i in range(n):\n",
        "  a[i]=np.array(input().split(),int)\n",
        "for i in range(n):\n",
        "  b[i]=np.array(input().split(),int)  \n",
        "\n",
        "print(a+b)\n",
        "print(a-b)\n",
        "print(a*b)\n",
        "print(np.array(a/b,int))\n",
        "print(a%b)\n",
        "print(a**b)"
      ],
      "execution_count": 8,
      "outputs": [
        {
          "output_type": "stream",
          "name": "stdout",
          "text": [
            "1 4\n",
            "1 2 3 4\n",
            "5 6 7 8\n",
            "[[ 6  8 10 12]]\n",
            "[[-4 -4 -4 -4]]\n",
            "[[ 5 12 21 32]]\n",
            "[[0 0 0 0]]\n",
            "[[1 2 3 4]]\n",
            "[[    1    64  2187 65536]]\n"
          ]
        }
      ]
    },
    {
      "cell_type": "markdown",
      "metadata": {
        "id": "OVwZ4_YWCGr9"
      },
      "source": [
        "***Floor, Ceil and Rint***"
      ]
    },
    {
      "cell_type": "code",
      "metadata": {
        "id": "FUQmxvuXCJKF",
        "colab": {
          "base_uri": "https://localhost:8080/"
        },
        "outputId": "7097061e-138c-425e-d994-e70c9095637f"
      },
      "source": [
        "import numpy as np\n",
        "np.set_printoptions(legacy = '1.13')\n",
        "ar = np.array(input().strip().split(), float)\n",
        "print(np.floor(ar), np.ceil(ar), np.rint(ar), sep = \"\\n\")"
      ],
      "execution_count": 9,
      "outputs": [
        {
          "output_type": "stream",
          "name": "stdout",
          "text": [
            "1.1 2.2 3.3 4.4 5.5 6.6 7.7 8.8 9.9\n",
            "[ 1.  2.  3.  4.  5.  6.  7.  8.  9.]\n",
            "[  2.   3.   4.   5.   6.   7.   8.   9.  10.]\n",
            "[  1.   2.   3.   4.   6.   7.   8.   9.  10.]\n"
          ]
        }
      ]
    },
    {
      "cell_type": "markdown",
      "metadata": {
        "id": "GI1UvAB4CJr5"
      },
      "source": [
        "***Sum and Prod***"
      ]
    },
    {
      "cell_type": "code",
      "metadata": {
        "id": "QhAR7lHICMTN",
        "colab": {
          "base_uri": "https://localhost:8080/"
        },
        "outputId": "ada79172-9500-4780-87fd-db23a335915b"
      },
      "source": [
        "import numpy as np\n",
        "print(np.prod(np.sum(np.array([input().split() for _ in range(int(input().split()[0])) ],int),axis=0)))"
      ],
      "execution_count": 12,
      "outputs": [
        {
          "output_type": "stream",
          "name": "stdout",
          "text": [
            "2 2\n",
            "1 2\n",
            "3 4\n",
            "24\n"
          ]
        }
      ]
    },
    {
      "cell_type": "markdown",
      "metadata": {
        "id": "2l3cAgrOCUme"
      },
      "source": [
        "***Min and Max***"
      ]
    },
    {
      "cell_type": "code",
      "metadata": {
        "id": "AEJAQzFzCXRo",
        "colab": {
          "base_uri": "https://localhost:8080/"
        },
        "outputId": "42b90dbf-8225-4631-f2f7-e9d17016423b"
      },
      "source": [
        "import numpy as np\n",
        "N,M = map(int, input().split())\n",
        "arr = np.array([input().split() for y in range(N)], int)\n",
        "\n",
        "print(np.max(np.min(arr, axis=1)))"
      ],
      "execution_count": 13,
      "outputs": [
        {
          "output_type": "stream",
          "name": "stdout",
          "text": [
            "2 2\n",
            "1 2\n",
            "3 4\n",
            "3\n"
          ]
        }
      ]
    },
    {
      "cell_type": "markdown",
      "metadata": {
        "id": "zOSq-Tw9CX0Z"
      },
      "source": [
        "***Mean, Var, and Std***"
      ]
    },
    {
      "cell_type": "code",
      "metadata": {
        "id": "7JaLANGGFVC1",
        "colab": {
          "base_uri": "https://localhost:8080/"
        },
        "outputId": "96ab61c8-3e24-4ef5-ac28-50a06a3c1e39"
      },
      "source": [
        "import numpy\n",
        "\n",
        "nm = input().split()\n",
        "n = int(nm[0])\n",
        "m = int(nm[1])\n",
        "arr = []\n",
        "for i in range(n):\n",
        "    m = list(map(int, input().split()))\n",
        "    arr.append(m)\n",
        "arr = numpy.array(arr)\n",
        "\n",
        "mean = numpy.mean(arr, axis = 1)\n",
        "var = numpy.var(arr, axis = 0)\n",
        "std = numpy.std(arr)\n",
        "\n",
        "print(mean)\n",
        "print(var)\n",
        "\n",
        "rnd = numpy.around(std, 11)\n",
        "print(rnd)"
      ],
      "execution_count": 14,
      "outputs": [
        {
          "output_type": "stream",
          "name": "stdout",
          "text": [
            "2 2\n",
            "1 2\n",
            "3 4\n",
            "[ 1.5  3.5]\n",
            "[ 1.  1.]\n",
            "1.11803398875\n"
          ]
        }
      ]
    },
    {
      "cell_type": "markdown",
      "metadata": {
        "id": "wbFfVGP0Ccbw"
      },
      "source": [
        "***Dot and Cross***"
      ]
    },
    {
      "cell_type": "code",
      "metadata": {
        "id": "25_gx9lbCf19",
        "colab": {
          "base_uri": "https://localhost:8080/"
        },
        "outputId": "11e5f5e6-9fec-467f-f72d-35af204f44ad"
      },
      "source": [
        "import numpy\n",
        "n = int(input())\n",
        "a = numpy.array([input().split() for _ in range(n)], int)\n",
        "b = numpy.array([input().split() for _ in range(n)], int)\n",
        "print(numpy.dot(a, b))"
      ],
      "execution_count": 15,
      "outputs": [
        {
          "output_type": "stream",
          "name": "stdout",
          "text": [
            "2\n",
            "1 2\n",
            "3 4\n",
            "1 2\n",
            "3 4\n",
            "[[ 7 10]\n",
            " [15 22]]\n"
          ]
        }
      ]
    },
    {
      "cell_type": "markdown",
      "metadata": {
        "id": "-4pW8WH_Cgc9"
      },
      "source": [
        "***Inner and Outer***"
      ]
    },
    {
      "cell_type": "code",
      "metadata": {
        "id": "0WUY62uFCkHZ",
        "colab": {
          "base_uri": "https://localhost:8080/"
        },
        "outputId": "d83adf72-f6a9-4001-9be5-6715a7a35659"
      },
      "source": [
        "import numpy as np\n",
        "A = np.array(input().split(), int)\n",
        "B = np.array(input().split(), int)\n",
        "print(np.inner(A,B), np.outer(A,B), sep='\\n')"
      ],
      "execution_count": 1,
      "outputs": [
        {
          "output_type": "stream",
          "name": "stdout",
          "text": [
            "0 1\n",
            "2 3\n",
            "3\n",
            "[[0 0]\n",
            " [2 3]]\n"
          ]
        }
      ]
    },
    {
      "cell_type": "markdown",
      "metadata": {
        "id": "_3BHNGXmCkt9"
      },
      "source": [
        "***Polynomials***"
      ]
    },
    {
      "cell_type": "code",
      "metadata": {
        "id": "Y9jH4neRCnnb",
        "colab": {
          "base_uri": "https://localhost:8080/"
        },
        "outputId": "80b74f98-9a52-46af-c04f-0c8cd5a5b72f"
      },
      "source": [
        "print(__import__('numpy').polyval(list(map(float,input().split())),float(input())))"
      ],
      "execution_count": 2,
      "outputs": [
        {
          "output_type": "stream",
          "name": "stdout",
          "text": [
            "1.1 2 3\n",
            "0\n",
            "3.0\n"
          ]
        }
      ]
    },
    {
      "cell_type": "markdown",
      "metadata": {
        "id": "wO99BJq4FpAv"
      },
      "source": [
        "***Linear Algebra***"
      ]
    },
    {
      "cell_type": "code",
      "metadata": {
        "id": "DjspTJWZkEah",
        "colab": {
          "base_uri": "https://localhost:8080/"
        },
        "outputId": "363593c9-fa90-4f21-f492-0206fcafa159"
      },
      "source": [
        "import numpy\n",
        "print(round(numpy.linalg.det(numpy.array([list(map(float,input().split())) for _ in range(int(input()))])),2))"
      ],
      "execution_count": 3,
      "outputs": [
        {
          "output_type": "stream",
          "name": "stdout",
          "text": [
            "2\n",
            "1.1 1.1\n",
            "1.1 1.1\n",
            "0.0\n"
          ]
        }
      ]
    },
    {
      "cell_type": "code",
      "metadata": {
        "id": "V0H7LiaZ8uCm"
      },
      "source": [
        ""
      ],
      "execution_count": null,
      "outputs": []
    }
  ]
}