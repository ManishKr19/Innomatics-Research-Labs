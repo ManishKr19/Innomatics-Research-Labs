{
  "nbformat": 4,
  "nbformat_minor": 0,
  "metadata": {
    "colab": {
      "name": "Task - 2 (Data Types)",
      "provenance": [],
      "collapsed_sections": [],
      "authorship_tag": "ABX9TyPKqYdVg2V9fCVkghqfFj/Y",
      "include_colab_link": true
    },
    "kernelspec": {
      "name": "python3",
      "display_name": "Python 3"
    },
    "language_info": {
      "name": "python"
    }
  },
  "cells": [
    {
      "cell_type": "markdown",
      "metadata": {
        "id": "view-in-github",
        "colab_type": "text"
      },
      "source": [
        "<a href=\"https://colab.research.google.com/github/ManishKr19/Innomatics-Research-Labs/blob/main/Task_2_(Data_Types).ipynb\" target=\"_parent\"><img src=\"https://colab.research.google.com/assets/colab-badge.svg\" alt=\"Open In Colab\"/></a>"
      ]
    },
    {
      "cell_type": "markdown",
      "metadata": {
        "id": "e4XEQcLTCRuX"
      },
      "source": [
        "# **Task - 2 (Data Types)**\n",
        "\n",
        "[*https://www.hackerrank.com/domains/python?filters%5Bsubdomains%5D%5B%5D=py-basic-data-types&filters%5Bsubdomains%5D%5B%5D=py-sets*](https://www.hackerrank.com/domains/python?filters%5Bsubdomains%5D%5B%5D=py-basic-data-types&filters%5Bsubdomains%5D%5B%5D=py-sets)"
      ]
    },
    {
      "cell_type": "markdown",
      "metadata": {
        "id": "3gt7KWX1CWdE"
      },
      "source": [
        "***LIST COMPREHENSIONS***"
      ]
    },
    {
      "cell_type": "code",
      "metadata": {
        "colab": {
          "base_uri": "https://localhost:8080/"
        },
        "id": "0Op9RPRcEN0j",
        "outputId": "6eeb11ff-e716-4270-bcd3-dc866165d7e6"
      },
      "source": [
        "if __name__ == '__main__':\n",
        "    x = int(input())\n",
        "    y = int(input())\n",
        "    z = int(input())\n",
        "    n = int(input())\n",
        "    print ([[a,b,c] for a in range(0,x+1) for b in range(0,y+1) for c in range(0,z+1) if a + b + c != n ])"
      ],
      "execution_count": null,
      "outputs": [
        {
          "output_type": "stream",
          "name": "stdout",
          "text": [
            "1\n",
            "1\n",
            "1\n",
            "3\n",
            "[[0, 0, 0], [0, 0, 1], [0, 1, 0], [0, 1, 1], [1, 0, 0], [1, 0, 1], [1, 1, 0]]\n"
          ]
        }
      ]
    },
    {
      "cell_type": "markdown",
      "metadata": {
        "id": "uSINJB-sCW4N"
      },
      "source": [
        "***Find the Runner-Up Score!***"
      ]
    },
    {
      "cell_type": "code",
      "metadata": {
        "colab": {
          "base_uri": "https://localhost:8080/"
        },
        "id": "YOMkhVVJCN-E",
        "outputId": "f524afa0-e460-48c6-e6da-a1ea5260292d"
      },
      "source": [
        "if __name__ == '__main__':\n",
        "    n = int(input())\n",
        "    arr = sorted(list(set(map(int, input().split()))))\n",
        "    print(arr[-2])"
      ],
      "execution_count": null,
      "outputs": [
        {
          "output_type": "stream",
          "name": "stdout",
          "text": [
            "6\n",
            "1 4 3 4 3 6\n",
            "4\n"
          ]
        }
      ]
    },
    {
      "cell_type": "markdown",
      "metadata": {
        "id": "_h2sOUTRCXIV"
      },
      "source": [
        "***Finding the percentage***"
      ]
    },
    {
      "cell_type": "code",
      "metadata": {
        "colab": {
          "base_uri": "https://localhost:8080/"
        },
        "id": "HyBbPuzXGCaf",
        "outputId": "0f4f6798-9bdd-4b75-8856-08b528ffe7ae"
      },
      "source": [
        "if __name__ == '__main__':\n",
        "    n = int(input())\n",
        "    student_marks = {}\n",
        "    for _ in range(n):\n",
        "        name, *line = input().split()\n",
        "        scores = list(map(float, line))\n",
        "        student_marks[name] = scores\n",
        "    query_name = input()\n",
        "    res = student_marks[query_name]\n",
        "    print(\"{:.2f}\".format((sum(res)/len(res))))"
      ],
      "execution_count": null,
      "outputs": [
        {
          "output_type": "stream",
          "name": "stdout",
          "text": [
            "2\n",
            "Harsh 25 26.5 28 \n",
            "Anurag 26 28 30\n",
            "Harsh\n",
            "26.50\n"
          ]
        }
      ]
    },
    {
      "cell_type": "markdown",
      "metadata": {
        "id": "fMowas8fCXTC"
      },
      "source": [
        "***Lists***"
      ]
    },
    {
      "cell_type": "code",
      "metadata": {
        "colab": {
          "base_uri": "https://localhost:8080/"
        },
        "id": "eC4bipzmyJXc",
        "outputId": "bb4ba517-e6d1-49a7-c4ee-03549ac50db6"
      },
      "source": [
        "if __name__ == '__main__':\n",
        "    n = int(input())\n",
        "    l = []\n",
        "    for _ in range(n):\n",
        "        s = input().split()\n",
        "        st, args = s[0], s[1:]\n",
        "        if st !=\"print\":\n",
        "            st += \"(\"+ \",\".join(args) +\")\"\n",
        "            eval(\"l.\"+st)\n",
        "        else:\n",
        "            print(l)"
      ],
      "execution_count": 1,
      "outputs": [
        {
          "output_type": "stream",
          "name": "stdout",
          "text": [
            "12\n",
            "insert 0 5\n",
            "insert 1 10\n",
            "insert 0 6\n",
            "print\n",
            "[6, 5, 10]\n",
            "remove 6\n",
            "append 9\n",
            "sort\n",
            "print\n",
            "[5, 9, 10]\n",
            "pop\n",
            "reverse\n",
            "print\n",
            "[9, 5]\n",
            "print\n",
            "[9, 5]\n"
          ]
        }
      ]
    },
    {
      "cell_type": "markdown",
      "metadata": {
        "id": "49Ehf7ogCXei"
      },
      "source": [
        "***Tuples***"
      ]
    },
    {
      "cell_type": "code",
      "metadata": {
        "colab": {
          "base_uri": "https://localhost:8080/"
        },
        "id": "zbnDT4byyIez",
        "outputId": "1b3d5a26-8ccc-4712-a5a5-e8fe60333647"
      },
      "source": [
        "if __name__ == '__main__':\n",
        "    n = int(input())\n",
        "    integer_list = map(int, input().split())\n",
        "    print(hash(tuple(integer_list)))"
      ],
      "execution_count": 4,
      "outputs": [
        {
          "output_type": "stream",
          "name": "stdout",
          "text": [
            "2\n",
            "1 2\n",
            "3713081631934410656\n"
          ]
        }
      ]
    },
    {
      "cell_type": "markdown",
      "metadata": {
        "id": "e_Id9SOA0iLC"
      },
      "source": [
        "***Introduction to Sets***"
      ]
    },
    {
      "cell_type": "code",
      "metadata": {
        "colab": {
          "base_uri": "https://localhost:8080/"
        },
        "id": "LkpYjj0S0HDE",
        "outputId": "8ee0649b-cba7-4a6a-8893-7987ff079333"
      },
      "source": [
        "def average(array):\n",
        "    return sum(set(array))/len(set(array))\n",
        "\n",
        "if __name__ == '__main__':\n",
        "    n = int(input())\n",
        "    arr = list(map(int, input().split()))\n",
        "    result = average(arr)\n",
        "    print(result)"
      ],
      "execution_count": 5,
      "outputs": [
        {
          "output_type": "stream",
          "name": "stdout",
          "text": [
            "10\n",
            "161 182 161 154 176 170 167 171 170 174\n",
            "169.375\n"
          ]
        }
      ]
    },
    {
      "cell_type": "markdown",
      "metadata": {
        "id": "4d7Ac9Ai02zm"
      },
      "source": [
        "***No Idea!***"
      ]
    },
    {
      "cell_type": "code",
      "metadata": {
        "colab": {
          "base_uri": "https://localhost:8080/"
        },
        "id": "LiWARXmS0wzI",
        "outputId": "ff1a00ab-28a3-47ab-bb6e-3222b690c1b8"
      },
      "source": [
        "n, m = input().split()\n",
        "sc_ar = input().split()\n",
        "\n",
        "A = set(input().split())\n",
        "B = set(input().split())\n",
        "\n",
        "print(sum([(i in A) - (i in B) for i in sc_ar]))"
      ],
      "execution_count": 6,
      "outputs": [
        {
          "output_type": "stream",
          "name": "stdout",
          "text": [
            "3 2\n",
            "1 5 3\n",
            "3 1\n",
            "5 7\n",
            "1\n"
          ]
        }
      ]
    },
    {
      "cell_type": "markdown",
      "metadata": {
        "id": "gep6XeV91B35"
      },
      "source": [
        "***Symmetric Difference***"
      ]
    },
    {
      "cell_type": "code",
      "metadata": {
        "colab": {
          "base_uri": "https://localhost:8080/"
        },
        "id": "yZPcqFKO1Dcu",
        "outputId": "cac4f1e8-3e00-4a3d-cfaa-809b9df87151"
      },
      "source": [
        "a,b = [set(input().split()) for _ in range(4)][1::2]\n",
        "print('\\n'.join(sorted(a^b, key=int)))"
      ],
      "execution_count": 7,
      "outputs": [
        {
          "output_type": "stream",
          "name": "stdout",
          "text": [
            "4\n",
            "2 4 5 9\n",
            "4\n",
            "2 4 11 12\n",
            "5\n",
            "9\n",
            "11\n",
            "12\n"
          ]
        }
      ]
    },
    {
      "cell_type": "markdown",
      "metadata": {
        "id": "C4YdkOk21CFr"
      },
      "source": [
        "***Set.add()***"
      ]
    },
    {
      "cell_type": "code",
      "metadata": {
        "colab": {
          "base_uri": "https://localhost:8080/"
        },
        "id": "dHzpz5821EJG",
        "outputId": "8dd2fb12-1140-408d-b2cd-aad17506daac"
      },
      "source": [
        "s = set()\n",
        "for _ in range(int(input())):\n",
        "    s.add(input())\n",
        "print(len(s))"
      ],
      "execution_count": 8,
      "outputs": [
        {
          "output_type": "stream",
          "name": "stdout",
          "text": [
            "7\n",
            "UK\n",
            "China\n",
            "USA\n",
            "France\n",
            "UK\n",
            "New Zealand\n",
            "UK\n",
            "5\n"
          ]
        }
      ]
    },
    {
      "cell_type": "markdown",
      "metadata": {
        "id": "81pEKHBi1COf"
      },
      "source": [
        "***Set.discard(), .remove() & .pop()***"
      ]
    },
    {
      "cell_type": "code",
      "metadata": {
        "colab": {
          "base_uri": "https://localhost:8080/"
        },
        "id": "2yERMOQP1E96",
        "outputId": "2d9f5359-6817-4082-ee45-ff18fd426e01"
      },
      "source": [
        "n = int(input())\n",
        "s = set(map(int, input().split())) \n",
        "for i in range(int(input())):\n",
        "    eval('s.{0}({1})'.format(*input().split()+['']))\n",
        "\n",
        "print(sum(s))"
      ],
      "execution_count": 10,
      "outputs": [
        {
          "output_type": "stream",
          "name": "stdout",
          "text": [
            "9\n",
            "1 2 3 4 5 6 7 8 9\n",
            "3\n",
            "remove 9\n",
            "discard 8\n",
            "pop\n",
            "27\n"
          ]
        }
      ]
    },
    {
      "cell_type": "markdown",
      "metadata": {
        "id": "L3gkqoYI1CRd"
      },
      "source": [
        "***Set.union() Operation***"
      ]
    },
    {
      "cell_type": "code",
      "metadata": {
        "colab": {
          "base_uri": "https://localhost:8080/"
        },
        "id": "vfDajrgP1F0X",
        "outputId": "6c58f807-e040-42a3-b256-c1832433796d"
      },
      "source": [
        "_, a = input(), set(input().split())\n",
        "_, b = input(), set(input().split())\n",
        "print(len(a.union(b)))"
      ],
      "execution_count": 11,
      "outputs": [
        {
          "output_type": "stream",
          "name": "stdout",
          "text": [
            "9\n",
            "1 2 3 4 5 6 7 8 9\n",
            "9\n",
            "11 22 33 44\n",
            "13\n"
          ]
        }
      ]
    },
    {
      "cell_type": "markdown",
      "metadata": {
        "id": "y5h70Xbo1CUH"
      },
      "source": [
        "***Set .intersection() Operation***"
      ]
    },
    {
      "cell_type": "code",
      "metadata": {
        "colab": {
          "base_uri": "https://localhost:8080/"
        },
        "id": "6Dj2k1-R1GjU",
        "outputId": "a4637bb5-9ae9-48d5-d3ab-6e0cd459bcd9"
      },
      "source": [
        "_, a = input(), set(input().split())\n",
        "_, b = input(), set(input().split())\n",
        "print(len(a.intersection(b)))"
      ],
      "execution_count": 12,
      "outputs": [
        {
          "output_type": "stream",
          "name": "stdout",
          "text": [
            "3\n",
            "1 2 3\n",
            "5\n",
            "2 3 5 7 9\n",
            "2\n"
          ]
        }
      ]
    },
    {
      "cell_type": "markdown",
      "metadata": {
        "id": "W6zhEVOK1CXH"
      },
      "source": [
        "***Set .difference() Operation***"
      ]
    },
    {
      "cell_type": "code",
      "metadata": {
        "colab": {
          "base_uri": "https://localhost:8080/"
        },
        "id": "E_9tsaom1IDB",
        "outputId": "e59880b3-716a-44b7-96be-5ac0cc540889"
      },
      "source": [
        "_, a = input(), set(input().split())\n",
        "_, b = input(), set(input().split())\n",
        "print(len(a.difference(b)))"
      ],
      "execution_count": 13,
      "outputs": [
        {
          "output_type": "stream",
          "name": "stdout",
          "text": [
            "3\n",
            "1 2 3\n",
            "4\n",
            "4 5 6 7\n",
            "3\n"
          ]
        }
      ]
    },
    {
      "cell_type": "markdown",
      "metadata": {
        "id": "wVg8Tg_p1CZ2"
      },
      "source": [
        "***Set .symmetric_difference() Operation***"
      ]
    },
    {
      "cell_type": "code",
      "metadata": {
        "colab": {
          "base_uri": "https://localhost:8080/"
        },
        "id": "oHLbXgTq1IrN",
        "outputId": "d2c01e39-f6e4-4223-8ce1-46d316e83e96"
      },
      "source": [
        "_, a = input(), set(input().split())\n",
        "_, b = input(), set(input().split())\n",
        "print(len(a.symmetric_difference(b)))"
      ],
      "execution_count": 14,
      "outputs": [
        {
          "output_type": "stream",
          "name": "stdout",
          "text": [
            "3\n",
            "1 2 3\n",
            "5\n",
            "2 3 45\n",
            "2\n"
          ]
        }
      ]
    },
    {
      "cell_type": "markdown",
      "metadata": {
        "id": "yVcm2-cH1CdH"
      },
      "source": [
        "***Set Mutations***"
      ]
    },
    {
      "cell_type": "code",
      "metadata": {
        "colab": {
          "base_uri": "https://localhost:8080/"
        },
        "id": "tmi7AuE11KOl",
        "outputId": "f9a129eb-37c9-4568-91eb-5f984799552c"
      },
      "source": [
        "if __name__ == '__main__':\n",
        "    (_, A) = (int(input()),set(map(int, input().split())))\n",
        "    B = int(input())\n",
        "    for _ in range(B):\n",
        "        (command, newSet) = (input().split()[0],set(map(int, input().split())))\n",
        "        getattr(A, command)(newSet)\n",
        "\n",
        "    print (sum(A))"
      ],
      "execution_count": 15,
      "outputs": [
        {
          "output_type": "stream",
          "name": "stdout",
          "text": [
            "16\n",
            "1 2 3 4 5 6 7 8 9 10 11 12 13 14 24 52\n",
            "4\n",
            "intersection_update 10\n",
            "2 3 5 6 8 9 1 4 7 11\n",
            "update 2\n",
            "55 66\n",
            "symmetric_difference_update 5\n",
            "22 7 35 62 58\n",
            "difference_update 7\n",
            "11 22 35 55 58 62 66\n",
            "38\n"
          ]
        }
      ]
    },
    {
      "cell_type": "markdown",
      "metadata": {
        "id": "HrsXyiPe1CgO"
      },
      "source": [
        "***The Captain's Room***"
      ]
    },
    {
      "cell_type": "code",
      "metadata": {
        "colab": {
          "base_uri": "https://localhost:8080/"
        },
        "id": "dpFfPdUi1LBo",
        "outputId": "55381902-98a4-4ec6-8b98-283f5d0e03ed"
      },
      "source": [
        "_, a = input(), sorted(input().split())\n",
        "print((set(a[0::2])^set(a[1::2])).pop())"
      ],
      "execution_count": 16,
      "outputs": [
        {
          "output_type": "stream",
          "name": "stdout",
          "text": [
            "5\n",
            "1 2 3 6 5 4 4 2 5 3 6 1 6 5 3 2 4 1 2 5 1 4 3 6 8 4 3 1 5 6 2\n",
            "8\n"
          ]
        }
      ]
    },
    {
      "cell_type": "markdown",
      "metadata": {
        "id": "XBLKVN5b6lie"
      },
      "source": [
        "***Check Subset***"
      ]
    },
    {
      "cell_type": "code",
      "metadata": {
        "colab": {
          "base_uri": "https://localhost:8080/"
        },
        "id": "8xiB8G136nLn",
        "outputId": "97413d3e-410e-43ea-e3a7-350fe5bbe4d5"
      },
      "source": [
        "for _ in range(int(input())):\n",
        "    x, a, z, b = input(), set(input().split()), input(), set(input().split())\n",
        "    print(a.issubset(b))"
      ],
      "execution_count": 17,
      "outputs": [
        {
          "output_type": "stream",
          "name": "stdout",
          "text": [
            "3\n",
            "5\n",
            "1 2 3 5 6\n",
            "9\n",
            "9 8 5 6 3 2 1 4 7\n",
            "True\n",
            "1\n",
            "2\n",
            "5\n",
            "3 6 5 4 1\n",
            "False\n",
            "7\n",
            "1 2 3 5 6 8 9\n",
            "3\n",
            "9 8 2\n",
            "False\n"
          ]
        }
      ]
    },
    {
      "cell_type": "markdown",
      "metadata": {
        "id": "Gpjjitgu6l9u"
      },
      "source": [
        "***Check Strict Superset***"
      ]
    },
    {
      "cell_type": "code",
      "metadata": {
        "colab": {
          "base_uri": "https://localhost:8080/"
        },
        "id": "r2Zekqua6n7G",
        "outputId": "33f98f80-4646-44c1-85b1-0dbea1fce055"
      },
      "source": [
        "a = set(input().split())\n",
        "print(all(a > set(input().split()) for _ in range(int(input()))))"
      ],
      "execution_count": 18,
      "outputs": [
        {
          "output_type": "stream",
          "name": "stdout",
          "text": [
            "1 2 3 4 5 6 7 8 9 10 11 12 23 45 84 78\n",
            "2\n",
            "1 2 3 4 5 6\n",
            "100 11 12\n",
            "False\n"
          ]
        }
      ]
    },
    {
      "cell_type": "markdown",
      "metadata": {
        "id": "fewXgXtJ6mX4"
      },
      "source": [
        "***Nested Lists***"
      ]
    },
    {
      "cell_type": "code",
      "metadata": {
        "colab": {
          "base_uri": "https://localhost:8080/"
        },
        "id": "2pHri-8e6dVf",
        "outputId": "44a8e392-e1be-4923-efc3-2a924aca471b"
      },
      "source": [
        "if __name__ == '__main__':\n",
        "    a= []\n",
        "    for _ in range(int(input())):\n",
        "        name = input()\n",
        "        score = float(input())\n",
        "        a.append([score, name])\n",
        "\n",
        "    a.sort()\n",
        "    b = [i for i in a if i[0] != a[0][0]]\n",
        "    c = [j for j in b if j[0] == b[0][0]]\n",
        "    \n",
        "    c.sort(key=lambda x: x[1])\n",
        "    for i in range(len(c)):\n",
        "        print(c[i][1])"
      ],
      "execution_count": 19,
      "outputs": [
        {
          "output_type": "stream",
          "name": "stdout",
          "text": [
            "5\n",
            "Harry\n",
            "37.71\n",
            "Berry\n",
            "37.21\n",
            "Tina\n",
            "37.2\n",
            "Akriti\n",
            "41\n",
            "Harsh\n",
            "39\n",
            "Berry\n"
          ]
        }
      ]
    },
    {
      "cell_type": "code",
      "metadata": {
        "id": "EOxzjI6i7zn7"
      },
      "source": [
        ""
      ],
      "execution_count": null,
      "outputs": []
    }
  ]
}