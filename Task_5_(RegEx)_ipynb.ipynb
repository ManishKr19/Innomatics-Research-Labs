{
  "nbformat": 4,
  "nbformat_minor": 0,
  "metadata": {
    "colab": {
      "name": "Task - 5 (RegEx). ipynb",
      "provenance": [],
      "collapsed_sections": [],
      "authorship_tag": "ABX9TyO5itKYDhUDjXSOcc5WMMv6",
      "include_colab_link": true
    },
    "kernelspec": {
      "name": "python3",
      "display_name": "Python 3"
    },
    "language_info": {
      "name": "python"
    }
  },
  "cells": [
    {
      "cell_type": "markdown",
      "metadata": {
        "id": "view-in-github",
        "colab_type": "text"
      },
      "source": [
        "<a href=\"https://colab.research.google.com/github/ManishKr19/Innomatics-Research-Labs/blob/main/Task_5_(RegEx)_ipynb.ipynb\" target=\"_parent\"><img src=\"https://colab.research.google.com/assets/colab-badge.svg\" alt=\"Open In Colab\"/></a>"
      ]
    },
    {
      "cell_type": "markdown",
      "metadata": {
        "id": "e4XEQcLTCRuX"
      },
      "source": [
        "# **Task - 5 (RegEx)**\n",
        "\n",
        "\n",
        "\n",
        "[https://www.hackerrank.com/domains/python?filters%5Bsubdomains%5D%5B%5D=py-regex]( https://www.hackerrank.com/domains/python?filters%5Bsubdomains%5D%5B%5D=py-regex)"
      ]
    },
    {
      "cell_type": "markdown",
      "metadata": {
        "id": "gep6XeV91B35"
      },
      "source": [
        "***Detect Floating Point Number***"
      ]
    },
    {
      "cell_type": "code",
      "metadata": {
        "id": "yZPcqFKO1Dcu",
        "colab": {
          "base_uri": "https://localhost:8080/"
        },
        "outputId": "d7b348cb-cde2-4bc7-f413-ab45577a4a44"
      },
      "source": [
        "import re\n",
        "for _ in range(int(input())):\n",
        "    print( bool( re.match( r'^[-+]?[0-9]*\\.[0-9]+$', input() ) ) )"
      ],
      "execution_count": null,
      "outputs": [
        {
          "output_type": "stream",
          "name": "stdout",
          "text": [
            "4\n",
            "4.0o0\n",
            "False\n",
            "+1.01\n",
            "True\n",
            "-4.30\n",
            "True\n",
            "sdfghjkl\n",
            "False\n"
          ]
        }
      ]
    },
    {
      "cell_type": "markdown",
      "metadata": {
        "id": "C4YdkOk21CFr"
      },
      "source": [
        "***Re.split()***"
      ]
    },
    {
      "cell_type": "code",
      "metadata": {
        "id": "dHzpz5821EJG",
        "colab": {
          "base_uri": "https://localhost:8080/"
        },
        "outputId": "86c18888-f0e0-4868-9380-e33ea1c64a97"
      },
      "source": [
        "import re\n",
        "regex_pattern = r\"\\D+\"\t\n",
        "print(\"\\n\".join(re.split(regex_pattern, input())))"
      ],
      "execution_count": null,
      "outputs": [
        {
          "output_type": "stream",
          "name": "stdout",
          "text": [
            "100,000,000.000\n",
            "100\n",
            "000\n",
            "000\n",
            "000\n"
          ]
        }
      ]
    },
    {
      "cell_type": "markdown",
      "metadata": {
        "id": "81pEKHBi1COf"
      },
      "source": [
        "***Group(), Groups() & Groupdict()***"
      ]
    },
    {
      "cell_type": "code",
      "metadata": {
        "id": "2yERMOQP1E96",
        "colab": {
          "base_uri": "https://localhost:8080/"
        },
        "outputId": "4f2391d3-3161-48c9-efa5-468fde7adc08"
      },
      "source": [
        "import re\n",
        "\n",
        "s=input()\n",
        "m=re.search(r'((\\w(?!_))\\2{1,})',s)\n",
        "print(s[m.start()] if m else '-1')"
      ],
      "execution_count": null,
      "outputs": [
        {
          "output_type": "stream",
          "name": "stdout",
          "text": [
            "..12311\n",
            "1\n"
          ]
        }
      ]
    },
    {
      "cell_type": "markdown",
      "metadata": {
        "id": "L3gkqoYI1CRd"
      },
      "source": [
        "***Re.findall() & Re.finditer()***"
      ]
    },
    {
      "cell_type": "code",
      "metadata": {
        "id": "vfDajrgP1F0X",
        "colab": {
          "base_uri": "https://localhost:8080/"
        },
        "outputId": "b482df3f-da41-43ec-a82f-88593164bfaa"
      },
      "source": [
        "import re\n",
        "s = '[qwrtypsdfghjklzxcvbnm]'\n",
        "a = re.findall('(?<=' + s +')([aeiou]{2,})' + s, input(), re.I)\n",
        "print('\\n'.join(a or ['-1']))"
      ],
      "execution_count": null,
      "outputs": [
        {
          "output_type": "stream",
          "name": "stdout",
          "text": [
            "rabcdeefgyYhFjkIoomnpOeorteeeeet\n",
            "ee\n",
            "Ioo\n",
            "Oeo\n",
            "eeeee\n"
          ]
        }
      ]
    },
    {
      "cell_type": "markdown",
      "metadata": {
        "id": "y5h70Xbo1CUH"
      },
      "source": [
        "***Re.start() & Re.end()***"
      ]
    },
    {
      "cell_type": "code",
      "metadata": {
        "id": "6Dj2k1-R1GjU",
        "colab": {
          "base_uri": "https://localhost:8080/"
        },
        "outputId": "3903b450-6816-4f0b-96c1-2a1845c2a67d"
      },
      "source": [
        "import re\n",
        "s,subs = input(), input()\n",
        "matches = list(re.finditer(r'(?={})'.format(subs), s))\n",
        "if matches:\n",
        "    print('\\n'.join(str((match.start(),\n",
        "          match.start() + len(subs) - 1)) for match in matches))\n",
        "else:\n",
        "    print('(-1, -1)')"
      ],
      "execution_count": null,
      "outputs": [
        {
          "output_type": "stream",
          "name": "stdout",
          "text": [
            "aaadaa\n",
            "aa\n",
            "(0, 1)\n",
            "(1, 2)\n",
            "(4, 5)\n"
          ]
        }
      ]
    },
    {
      "cell_type": "markdown",
      "metadata": {
        "id": "wVg8Tg_p1CZ2"
      },
      "source": [
        "***Regex Substitution***"
      ]
    },
    {
      "cell_type": "code",
      "metadata": {
        "id": "oHLbXgTq1IrN",
        "colab": {
          "base_uri": "https://localhost:8080/"
        },
        "outputId": "d93caec3-e50f-4137-835f-14378d3aaabe"
      },
      "source": [
        "for _ in range(int(input())):\n",
        "    line = input()\n",
        "    \n",
        "    while ' && ' in line or ' || ' in line:\n",
        "        line = line.replace(\" && \", \" and \").replace(\" || \", \" or \")\n",
        "    \n",
        "    print(line)"
      ],
      "execution_count": null,
      "outputs": [
        {
          "output_type": "stream",
          "name": "stdout",
          "text": [
            "2\n",
            "s=1;\n",
            "s=1;\n",
            "b = input();\n",
            "b = input();\n"
          ]
        }
      ]
    },
    {
      "cell_type": "markdown",
      "metadata": {
        "id": "wSV4m1PTCAzL"
      },
      "source": [
        "***Validating Roman Numerals***"
      ]
    },
    {
      "cell_type": "code",
      "metadata": {
        "id": "k_uwXwoV_kQJ",
        "colab": {
          "base_uri": "https://localhost:8080/"
        },
        "outputId": "2e0410e3-4509-4440-efad-0f8f8dfc85b4"
      },
      "source": [
        "regex_pattern =r'^M{,3}(C(D|M)|D?C{,3})(X(L|C)|L?X{,3})(I(X|V)|(X|V)?I{,3})$'\n",
        "import re\n",
        "print(str(bool(re.match(regex_pattern, input()))))"
      ],
      "execution_count": null,
      "outputs": [
        {
          "output_type": "stream",
          "name": "stdout",
          "text": [
            "CDXXI\n",
            "True\n"
          ]
        }
      ]
    },
    {
      "cell_type": "markdown",
      "metadata": {
        "id": "OVwZ4_YWCGr9"
      },
      "source": [
        "***Validating Phone Numbers***"
      ]
    },
    {
      "cell_type": "code",
      "metadata": {
        "id": "FUQmxvuXCJKF",
        "colab": {
          "base_uri": "https://localhost:8080/"
        },
        "outputId": "1f07aa8d-c0c2-4b35-b06c-7bf3cb7b6969"
      },
      "source": [
        "import re\n",
        "[print('YES' if re.match(r'[789]\\d{9}$',input()) else 'NO') for _ in range(int(input()))]"
      ],
      "execution_count": null,
      "outputs": [
        {
          "output_type": "stream",
          "name": "stdout",
          "text": [
            "2\n",
            "9587456281\n",
            "YES\n",
            "1252478965\n",
            "NO\n"
          ]
        },
        {
          "output_type": "execute_result",
          "data": {
            "text/plain": [
              "[None, None]"
            ]
          },
          "metadata": {},
          "execution_count": 9
        }
      ]
    },
    {
      "cell_type": "markdown",
      "metadata": {
        "id": "5SqbBqIrcnnJ"
      },
      "source": [
        "***Validating and Parsing Email Addresses***"
      ]
    },
    {
      "cell_type": "code",
      "metadata": {
        "id": "nPRwD5a-crvN",
        "colab": {
          "base_uri": "https://localhost:8080/"
        },
        "outputId": "104598fb-7e8e-4477-dae0-9404852aae6f"
      },
      "source": [
        "import email.utils\n",
        "import re\n",
        "\n",
        "for i in range(int(input())):\n",
        "    a, b = map(str,email.utils.parseaddr(input()))\n",
        "    validEmail = re.search(r'^[a-zA-Z]+[a-zA-Z0-9_.-]+[@][a-zA-Z]+[.][a-zA-Z]{1,3}$', b)\n",
        "    if validEmail:\n",
        "        print(email.utils.formataddr((a, b)))"
      ],
      "execution_count": null,
      "outputs": [
        {
          "name": "stdout",
          "output_type": "stream",
          "text": [
            "2\n",
            "DEXTER <dexter@hotmail.com>\n",
            "DEXTER <dexter@hotmail.com>\n",
            " VIRUS <virus!@variable.:p>\n"
          ]
        }
      ]
    },
    {
      "cell_type": "markdown",
      "metadata": {
        "id": "GI1UvAB4CJr5"
      },
      "source": [
        "***Hex Color Code***"
      ]
    },
    {
      "cell_type": "code",
      "metadata": {
        "id": "QhAR7lHICMTN",
        "colab": {
          "base_uri": "https://localhost:8080/"
        },
        "outputId": "f58b98e5-4253-4bdc-fe46-73511832380e"
      },
      "source": [
        "import re\n",
        "pattern=r'(#[0-9a-fA-F]{3,6}){1,2}[^\\n ]'\n",
        "for _ in range(int(input())):\n",
        "    for x in re.findall(pattern,input()):\n",
        "        print(x)"
      ],
      "execution_count": null,
      "outputs": [
        {
          "name": "stdout",
          "output_type": "stream",
          "text": [
            "11\n",
            "#BED\n",
            "{\n",
            "color: #FfFdF8; background-color:#aef;\n",
            "#FfFdF8\n",
            "#aef\n",
            "font-size: 123px;\n",
            " \n",
            " \n",
            " \n",
            " \n",
            "}\n",
            " \n",
            " \n"
          ]
        }
      ]
    },
    {
      "cell_type": "markdown",
      "metadata": {
        "id": "2l3cAgrOCUme"
      },
      "source": [
        "***HTML Parser - Part 1***"
      ]
    },
    {
      "cell_type": "code",
      "metadata": {
        "id": "AEJAQzFzCXRo",
        "colab": {
          "base_uri": "https://localhost:8080/"
        },
        "outputId": "fb8a1950-2a80-4ccd-cf27-06cb2c6bd008"
      },
      "source": [
        "import re\n",
        "\n",
        "tag_filter = re.compile(r\"(?<=<)(?:.*?)(?=>)\")\n",
        "attrib_filter = re.compile(r\"([\\w-]+)(?:=[\\\"'](.*?)[\\\"'])?\")\n",
        "\n",
        "s = \"\"\n",
        "\n",
        "# get input stream\n",
        "for _ in range(int(input())):\n",
        "    s += input()\n",
        "\n",
        "# discard comments\n",
        "s = re.sub(r\"(?:<!--(.|\\s)*?(?:-->))\",\"\",s)\n",
        "\n",
        "# extract individual tag information\n",
        "tags = tag_filter.findall(s)\n",
        "\n",
        "# iterate over the extracted tag information\n",
        "for tag in tags:\n",
        "    # tag handling logic\n",
        "    if tag[0] == \"/\":\n",
        "        print(\"End   :\",tag[1:])\n",
        "    else:\n",
        "        attribs = attrib_filter.findall(tag)\n",
        "        if tag[-1] == \"/\":\n",
        "            print(\"Empty :\",attribs[0][0])\n",
        "        else:\n",
        "            print(\"Start :\",attribs[0][0])\n",
        "            \n",
        "        for i in range(1,len(attribs)):\n",
        "            a = attribs[i][0]\n",
        "            if attribs[i][1] == '': \n",
        "                v = 'None' \n",
        "            else: \n",
        "                v = attribs[i][1]\n",
        "            print(\"-> {} > {}\".format(a,v))"
      ],
      "execution_count": null,
      "outputs": [
        {
          "output_type": "stream",
          "name": "stdout",
          "text": [
            "2\n",
            "<html><head><title>HTML Parser - I</title></head>\n",
            "<body data-modal-target class='1'><h1>HackerRank</h1><br /></body></html>\n",
            "Start : html\n",
            "Start : head\n",
            "Start : title\n",
            "End   : title\n",
            "End   : head\n",
            "Start : body\n",
            "-> data-modal-target > None\n",
            "-> class > 1\n",
            "Start : h1\n",
            "End   : h1\n",
            "Empty : br\n",
            "End   : body\n",
            "End   : html\n"
          ]
        }
      ]
    },
    {
      "cell_type": "markdown",
      "metadata": {
        "id": "zOSq-Tw9CX0Z"
      },
      "source": [
        "***HTML Parser - Part 2***"
      ]
    },
    {
      "cell_type": "code",
      "metadata": {
        "id": "7JaLANGGFVC1",
        "colab": {
          "base_uri": "https://localhost:8080/"
        },
        "outputId": "0fdc27a9-803d-4a90-d34c-ff36f2498939"
      },
      "source": [
        "from html.parser import HTMLParser\n",
        "\n",
        "class MyHTMLParser(HTMLParser):\n",
        "    def handle_comment(self, comment):\n",
        "        if '\\n' in comment:\n",
        "            print('>>> Multi-line Comment')\n",
        "        else:\n",
        "            print('>>> Single-line Comment')\n",
        "            \n",
        "        print(comment)\n",
        "    \n",
        "    def handle_data(self, data):\n",
        "        if data == '\\n': return\n",
        "        print('>>> Data')\n",
        "        print(data)\n",
        "  \n",
        "html = \"\"       \n",
        "for i in range(int(input())):\n",
        "    html += input().rstrip()\n",
        "    html += '\\n'\n",
        "    \n",
        "parser = MyHTMLParser()\n",
        "parser.feed(html)\n",
        "parser.close()"
      ],
      "execution_count": null,
      "outputs": [
        {
          "output_type": "stream",
          "name": "stdout",
          "text": [
            "4\n",
            "<!--[if IE 9]>IE9-specific content\n",
            "<![endif]-->\n",
            "<div> Welcome to HackerRank</div>\n",
            "<!--[if IE 9]>IE9-specific content<![endif]-->\n",
            ">>> Multi-line Comment\n",
            "[if IE 9]>IE9-specific content\n",
            "<![endif]\n",
            ">>> Data\n",
            " Welcome to HackerRank\n",
            ">>> Single-line Comment\n",
            "[if IE 9]>IE9-specific content<![endif]\n"
          ]
        }
      ]
    },
    {
      "cell_type": "markdown",
      "metadata": {
        "id": "wbFfVGP0Ccbw"
      },
      "source": [
        "***Detect HTML Tags, Attributes and Attribute Values***"
      ]
    },
    {
      "cell_type": "code",
      "metadata": {
        "id": "25_gx9lbCf19",
        "colab": {
          "base_uri": "https://localhost:8080/"
        },
        "outputId": "fc1bcf5c-0dbc-4173-d831-3bb0dfd22a31"
      },
      "source": [
        "from html.parser import HTMLParser\n",
        "class MyHTMLParser(HTMLParser):\n",
        "    def handle_starttag(self, tag, attrs):\n",
        "        print(tag)\n",
        "        [print('-> {} > {}'.format(*attr)) for attr in attrs]\n",
        "        \n",
        "html = '\\n'.join([input() for _ in range(int(input()))])\n",
        "parser = MyHTMLParser()\n",
        "parser.feed(html)\n",
        "parser.close()"
      ],
      "execution_count": null,
      "outputs": [
        {
          "output_type": "stream",
          "name": "stdout",
          "text": [
            "9\n",
            "<head>\n",
            "<title>HTML</title>\n",
            "</head>\n",
            "<object type=\"application/x-flash\"\n",
            "data=\"your-file.swf\"\n",
            "  width=\"0\" height=\"0\">\n",
            "  <!-- <param name=\"movie\" value=\"your-file.swf\" /> -->\n",
            "  <param name=\"quality\" value=\"high\"/>\n",
            "</object>\n",
            "head\n",
            "title\n",
            "object\n",
            "-> type > application/x-flash\n",
            "-> data > your-file.swf\n",
            "-> width > 0\n",
            "-> height > 0\n",
            "param\n",
            "-> name > quality\n",
            "-> value > high\n"
          ]
        }
      ]
    },
    {
      "cell_type": "markdown",
      "metadata": {
        "id": "-4pW8WH_Cgc9"
      },
      "source": [
        "***Validating UID***"
      ]
    },
    {
      "cell_type": "code",
      "metadata": {
        "id": "0WUY62uFCkHZ",
        "colab": {
          "base_uri": "https://localhost:8080/"
        },
        "outputId": "f147a807-0504-4578-e926-38c52c3b7d00"
      },
      "source": [
        "import re\n",
        "for _ in range(int(input())):\n",
        "    s = input()\n",
        "    print('Valid' if all([re.search(r, s) for r in [r'[A-Za-z0-9]{10}',r'([A-Z].*){2}',r'([0-9].*){3}']]) and not re.search(r'.*(.).*\\1', s) else 'Invalid')"
      ],
      "execution_count": null,
      "outputs": [
        {
          "output_type": "stream",
          "name": "stdout",
          "text": [
            "2\n",
            "B1CD102354\n",
            "Invalid\n",
            "B1CDEF2354\n",
            "Valid\n"
          ]
        }
      ]
    },
    {
      "cell_type": "markdown",
      "metadata": {
        "id": "_3BHNGXmCkt9"
      },
      "source": [
        "***Validating Credit Card Numbers***"
      ]
    },
    {
      "cell_type": "code",
      "metadata": {
        "id": "Y9jH4neRCnnb",
        "colab": {
          "base_uri": "https://localhost:8080/"
        },
        "outputId": "f15bb2be-bd0b-44fa-f964-536cad6e849e"
      },
      "source": [
        "import re\n",
        "TESTER = re.compile(\n",
        "    r\"^\"\n",
        "    r\"(?!.*(\\d)(-?\\1){3})\"\n",
        "    r\"[456]\"\n",
        "    r\"\\d{3}\"\n",
        "    r\"(?:-?\\d{4}){3}\"\n",
        "    r\"$\")\n",
        "for _ in range(int(input().strip())):\n",
        "    print(\"Valid\" if TESTER.search(input().strip()) else \"Invalid\")"
      ],
      "execution_count": null,
      "outputs": [
        {
          "output_type": "stream",
          "name": "stdout",
          "text": [
            "1\n",
            "5123-4567-8912-3456\n",
            "Valid\n"
          ]
        }
      ]
    },
    {
      "cell_type": "markdown",
      "metadata": {
        "id": "wO99BJq4FpAv"
      },
      "source": [
        "***Validating Postal Codes***"
      ]
    },
    {
      "cell_type": "code",
      "metadata": {
        "id": "DjspTJWZkEah",
        "colab": {
          "base_uri": "https://localhost:8080/"
        },
        "outputId": "2acae93a-2c50-40f5-d50b-37b75eed34ac"
      },
      "source": [
        "import re\n",
        "s=input()\n",
        "print (bool(re.match(r'^[1-9][\\d]{5}$',s) and len(re.findall(r'(\\d)(?=\\d\\1)',s))<2 ))"
      ],
      "execution_count": null,
      "outputs": [
        {
          "output_type": "stream",
          "name": "stdout",
          "text": [
            "110000\n",
            "False\n"
          ]
        }
      ]
    },
    {
      "cell_type": "markdown",
      "metadata": {
        "id": "mt1uqUHsFuZb"
      },
      "source": [
        "***Matrix Script***"
      ]
    },
    {
      "cell_type": "code",
      "metadata": {
        "id": "i9XJsw3rFxFo",
        "colab": {
          "base_uri": "https://localhost:8080/"
        },
        "outputId": "11ed975e-50c5-42e9-81b0-9e87d7e6d332"
      },
      "source": [
        "import re\n",
        "\n",
        "n, m = map(int, input().split())\n",
        "a, b = [], \"\"\n",
        "for _ in range(n):\n",
        "    a.append(input())\n",
        "\n",
        "for z in zip(*a):\n",
        "    b += \"\".join(z)\n",
        "\n",
        "print(re.sub(r\"(?<=\\w)([^\\w]+)(?=\\w)\", \" \", b))"
      ],
      "execution_count": null,
      "outputs": [
        {
          "output_type": "stream",
          "name": "stdout",
          "text": [
            "7 3\n",
            "Tsi\n",
            "%x\n",
            "i #\n",
            "sM\n",
            "$a\n",
            "#t%\n",
            "ir!\n",
            "T is isx Matr\n"
          ]
        }
      ]
    },
    {
      "cell_type": "code",
      "metadata": {
        "id": "nEukQDcEk1sW"
      },
      "source": [
        ""
      ],
      "execution_count": null,
      "outputs": []
    }
  ]
}