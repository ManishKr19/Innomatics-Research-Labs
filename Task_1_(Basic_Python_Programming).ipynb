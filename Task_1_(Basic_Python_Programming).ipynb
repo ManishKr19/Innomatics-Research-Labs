{
  "nbformat": 4,
  "nbformat_minor": 0,
  "metadata": {
    "colab": {
      "name": "Task - 1 (Basic Python Programming).ipynb",
      "provenance": [],
      "collapsed_sections": [],
      "authorship_tag": "ABX9TyMAHtoNA9PD6dMNZXCYb2YB",
      "include_colab_link": true
    },
    "kernelspec": {
      "name": "python3",
      "display_name": "Python 3"
    },
    "language_info": {
      "name": "python"
    }
  },
  "cells": [
    {
      "cell_type": "markdown",
      "metadata": {
        "id": "view-in-github",
        "colab_type": "text"
      },
      "source": [
        "<a href=\"https://colab.research.google.com/github/ManishKr19/Innomatics-Research-Labs/blob/main/Task_1_(Basic_Python_Programming).ipynb\" target=\"_parent\"><img src=\"https://colab.research.google.com/assets/colab-badge.svg\" alt=\"Open In Colab\"/></a>"
      ]
    },
    {
      "cell_type": "markdown",
      "metadata": {
        "id": "sjUW8u68A6k0"
      },
      "source": [
        "# [ Python (Introduction)](https://www.hackerrank.com/domains/python?filters%5Bsubdomains%5D%5B%5D=py-introduction)"
      ]
    },
    {
      "cell_type": "code",
      "metadata": {
        "colab": {
          "base_uri": "https://localhost:8080/"
        },
        "id": "q_qy2NtABLdF",
        "outputId": "124322a5-cd5c-45b1-a7ae-6309f9fe958d"
      },
      "source": [
        "## Hello World\n",
        "\n",
        "print(\"Hello, World!\")\n"
      ],
      "execution_count": null,
      "outputs": [
        {
          "output_type": "stream",
          "name": "stdout",
          "text": [
            "Hello, World!\n"
          ]
        }
      ]
    },
    {
      "cell_type": "code",
      "metadata": {
        "colab": {
          "base_uri": "https://localhost:8080/"
        },
        "id": "sa7RNkZ3BypH",
        "outputId": "e995e9fa-0e3a-4c1c-dabc-6a042fc47cfd"
      },
      "source": [
        "## ARITHMATIC OPERATOR\n",
        "\n",
        "if __name__ == '__main__':\n",
        "    a = int(input())\n",
        "    b = int(input())\n",
        "    print(\"a+b: {}\\na-b: {}\\na*b: {}\".format(a+b, a-b, a*b))"
      ],
      "execution_count": null,
      "outputs": [
        {
          "output_type": "stream",
          "name": "stdout",
          "text": [
            "2\n",
            "3\n",
            "a+b: 5\n",
            "a-b: -1\n",
            "a*b: 6\n"
          ]
        }
      ]
    },
    {
      "cell_type": "code",
      "metadata": {
        "colab": {
          "base_uri": "https://localhost:8080/"
        },
        "id": "hzq56TRLCIBk",
        "outputId": "adb8c860-dc37-403a-8aeb-fb12cca72a37"
      },
      "source": [
        "## IF-ELSE\n",
        "\n",
        "import math, os, random, re, sys\n",
        "\n",
        "if __name__ == '__main__':\n",
        "    n = int(input().strip())\n",
        "    if n%2==0:\n",
        "        if n>20 or n in list(range(2,6)):\n",
        "            print(\"Not Weird\")\n",
        "        else:\n",
        "            print(\"Weird\")\n",
        "    else:\n",
        "        print(\"Weird\")"
      ],
      "execution_count": null,
      "outputs": [
        {
          "output_type": "stream",
          "name": "stdout",
          "text": [
            "23\n",
            "Weird\n"
          ]
        }
      ]
    },
    {
      "cell_type": "code",
      "metadata": {
        "colab": {
          "base_uri": "https://localhost:8080/"
        },
        "id": "l6SYhUOtD7Vq",
        "outputId": "27ae81eb-de44-4578-99f8-06665e531bbd"
      },
      "source": [
        "## Print Function\n",
        "\n",
        "if __name__ == '__main__':\n",
        "    n = int(input())\n",
        "    for i in list(range(1, n+1)):\n",
        "        print(i, end='')"
      ],
      "execution_count": null,
      "outputs": [
        {
          "output_type": "stream",
          "name": "stdout",
          "text": [
            "12\n",
            "123456789101112"
          ]
        }
      ]
    },
    {
      "cell_type": "code",
      "metadata": {
        "colab": {
          "base_uri": "https://localhost:8080/"
        },
        "id": "oj47iLVYMjdW",
        "outputId": "ab74abe7-0c4c-456b-d0b5-0072973e84c1"
      },
      "source": [
        "## python(Division)\n",
        "\n",
        "if __name__ == '__main__':\n",
        "    a = int(input())\n",
        "    b = int(input())\n",
        "    print(a//b,\"\\n\",a/b)"
      ],
      "execution_count": null,
      "outputs": [
        {
          "output_type": "stream",
          "name": "stdout",
          "text": [
            "4\n",
            "3\n",
            "1 \n",
            " 1.3333333333333333\n"
          ]
        }
      ]
    },
    {
      "cell_type": "code",
      "metadata": {
        "colab": {
          "base_uri": "https://localhost:8080/"
        },
        "id": "VfhFATriM8MR",
        "outputId": "37990772-e135-44c5-f805-826755037c91"
      },
      "source": [
        "## LOOPS\n",
        "\n",
        "if __name__ == '__main__':\n",
        "    n = int(input())\n",
        "    for i in range(n):\n",
        "        print(i*i)"
      ],
      "execution_count": null,
      "outputs": [
        {
          "output_type": "stream",
          "name": "stdout",
          "text": [
            "5\n",
            "0\n",
            "1\n",
            "4\n",
            "9\n",
            "16\n"
          ]
        }
      ]
    },
    {
      "cell_type": "code",
      "metadata": {
        "colab": {
          "base_uri": "https://localhost:8080/"
        },
        "id": "V_6TywOeNSdO",
        "outputId": "367c5dcb-29cf-488d-9f1c-63d8e9998bb7"
      },
      "source": [
        "## Fuctions(LEAP)\n",
        "\n",
        "def is_leap(year):\n",
        "    leap = False\n",
        "    if year % 4 == 0:\n",
        "        if year % 100 != 0:\n",
        "            leap = True\n",
        "        elif year % 400 == 0:\n",
        "            leap = True\n",
        "    return leap\n",
        "\n",
        "print(is_leap(int(input(\"Enter the Year: \"))))"
      ],
      "execution_count": null,
      "outputs": [
        {
          "output_type": "stream",
          "name": "stdout",
          "text": [
            "Enter the Year: 2016\n",
            "True\n"
          ]
        }
      ]
    },
    {
      "cell_type": "code",
      "metadata": {
        "id": "nKcEiKABOA_I"
      },
      "source": [
        ""
      ],
      "execution_count": null,
      "outputs": []
    }
  ]
}