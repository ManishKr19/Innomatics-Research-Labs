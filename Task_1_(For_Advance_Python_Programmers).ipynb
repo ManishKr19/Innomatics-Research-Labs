{
  "nbformat": 4,
  "nbformat_minor": 0,
  "metadata": {
    "colab": {
      "name": "Task - 1 (For Advance Python Programmers).ipynb",
      "provenance": [],
      "collapsed_sections": [],
      "authorship_tag": "ABX9TyNmalj4agoc84GTkCyxHBxT",
      "include_colab_link": true
    },
    "kernelspec": {
      "name": "python3",
      "display_name": "Python 3"
    },
    "language_info": {
      "name": "python"
    }
  },
  "cells": [
    {
      "cell_type": "markdown",
      "metadata": {
        "id": "view-in-github",
        "colab_type": "text"
      },
      "source": [
        "<a href=\"https://colab.research.google.com/github/ManishKr19/Innomatics-Research-Labs/blob/main/Task_1_(For_Advance_Python_Programmers).ipynb\" target=\"_parent\"><img src=\"https://colab.research.google.com/assets/colab-badge.svg\" alt=\"Open In Colab\"/></a>"
      ]
    },
    {
      "cell_type": "markdown",
      "metadata": {
        "id": "Px5iHdj442qU"
      },
      "source": [
        "# **Task - 1 (For Advance Python Programmers)**"
      ]
    },
    {
      "cell_type": "markdown",
      "metadata": {
        "id": "TbpMUyGF5AQU"
      },
      "source": [
        "***Running Sum of 1d Array***"
      ]
    },
    {
      "cell_type": "code",
      "metadata": {
        "colab": {
          "base_uri": "https://localhost:8080/"
        },
        "id": "H7cw_ddL419t",
        "outputId": "f31b17b1-c4f4-4c15-cac0-462546e5d62c"
      },
      "source": [
        "class Solution:\n",
        "    def runningSum(self, nums) :\n",
        "        return [sum(nums[:i]) for i in range(1,len(nums)+1)]\n",
        "\n",
        "s=Solution()\n",
        "print(s.runningSum([1,2,3,4]))"
      ],
      "execution_count": null,
      "outputs": [
        {
          "output_type": "stream",
          "name": "stdout",
          "text": [
            "[1, 3, 6, 10]\n"
          ]
        }
      ]
    },
    {
      "cell_type": "markdown",
      "metadata": {
        "id": "zT1aPv585E9c"
      },
      "source": [
        "***Shuffle the Array***"
      ]
    },
    {
      "cell_type": "code",
      "metadata": {
        "colab": {
          "base_uri": "https://localhost:8080/"
        },
        "id": "CNOs0WKK5KZq",
        "outputId": "7841ad9c-901e-4f65-e4ca-6e96e7f227d8"
      },
      "source": [
        "class Solution:\n",
        "    def shuffle(self, nums, n):\n",
        "        res=[]\n",
        "        num1,num2=nums[:n],nums[n:]\n",
        "        for i in range(min(len(num1),len(num2))):\n",
        "            res.append(num1.pop(0))\n",
        "            res.append(num2.pop(0))\n",
        "        if len(num1)>0:\n",
        "            res.extend(num1)\n",
        "        elif len(num2)>0:\n",
        "            res.extend(num2)\n",
        "        return res\n",
        "        \n",
        "s=Solution()\n",
        "print(s.shuffle([1,3,5,2,4,6,8],3))"
      ],
      "execution_count": null,
      "outputs": [
        {
          "output_type": "stream",
          "name": "stdout",
          "text": [
            "[1, 2, 3, 4, 5, 6, 8]\n"
          ]
        }
      ]
    },
    {
      "cell_type": "markdown",
      "metadata": {
        "id": "r4JMrrkFA_AY"
      },
      "source": [
        "***Kids With the Greatest Number of Candies***"
      ]
    },
    {
      "cell_type": "code",
      "metadata": {
        "colab": {
          "base_uri": "https://localhost:8080/"
        },
        "id": "-EfHOSr45Qr2",
        "outputId": "bcbbbc12-aacd-4b7a-f37e-c0b354d6e159"
      },
      "source": [
        "class Solution:\n",
        "    def kidsWithCandies(self, candies, extraCandies):\n",
        "        return [ True if (i + extraCandies) >= max(candies) else False for i in candies]\n",
        "\n",
        "s=Solution()\n",
        "print(s.kidsWithCandies([1,3,5,2,4,6,8],3))"
      ],
      "execution_count": null,
      "outputs": [
        {
          "output_type": "stream",
          "name": "stdout",
          "text": [
            "[False, False, True, False, False, True, True]\n"
          ]
        }
      ]
    },
    {
      "cell_type": "code",
      "metadata": {
        "id": "VGxuDlhlBEps"
      },
      "source": [
        ""
      ],
      "execution_count": null,
      "outputs": []
    }
  ]
}