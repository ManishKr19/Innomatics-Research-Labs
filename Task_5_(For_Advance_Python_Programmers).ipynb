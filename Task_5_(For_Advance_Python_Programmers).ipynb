{
  "nbformat": 4,
  "nbformat_minor": 0,
  "metadata": {
    "colab": {
      "name": "Task - 5 (For Advance Python Programmers).ipynb",
      "provenance": [],
      "collapsed_sections": [],
      "authorship_tag": "ABX9TyOmlQxRFrrtOlec4v5v8MUO",
      "include_colab_link": true
    },
    "kernelspec": {
      "name": "python3",
      "display_name": "Python 3"
    },
    "language_info": {
      "name": "python"
    }
  },
  "cells": [
    {
      "cell_type": "markdown",
      "metadata": {
        "id": "view-in-github",
        "colab_type": "text"
      },
      "source": [
        "<a href=\"https://colab.research.google.com/github/ManishKr19/Innomatics-Research-Labs/blob/main/Task_5_(For_Advance_Python_Programmers).ipynb\" target=\"_parent\"><img src=\"https://colab.research.google.com/assets/colab-badge.svg\" alt=\"Open In Colab\"/></a>"
      ]
    },
    {
      "cell_type": "markdown",
      "metadata": {
        "id": "aqW6XaZRH17Z"
      },
      "source": [
        "# **Task - 5 (For Advance Python Programmers)**"
      ]
    },
    {
      "cell_type": "markdown",
      "metadata": {
        "id": "gZX3CseiICrH"
      },
      "source": [
        "***Subsets***"
      ]
    },
    {
      "cell_type": "code",
      "metadata": {
        "colab": {
          "base_uri": "https://localhost:8080/"
        },
        "id": "F9wZ1OlqIWgg",
        "outputId": "f056bbd5-1a91-4120-b6bf-673a62f213d2"
      },
      "source": [
        "class Solution:\n",
        "    def subsets(self, nums):\n",
        "        res = []\n",
        "        for i in range(1 << len(nums)):\n",
        "            res.append([nums[j] for j in range(len(nums)) if (i & (1 << j))])\n",
        "        return res\n",
        "s = Solution()\n",
        "print(s.subsets([1,2,3]))"
      ],
      "execution_count": 2,
      "outputs": [
        {
          "output_type": "stream",
          "name": "stdout",
          "text": [
            "[[], [1], [2], [1, 2], [3], [1, 3], [2, 3], [1, 2, 3]]\n"
          ]
        }
      ]
    },
    {
      "cell_type": "markdown",
      "metadata": {
        "id": "R2p7NoqqIGp4"
      },
      "source": [
        "***Hamming Distance***"
      ]
    },
    {
      "cell_type": "code",
      "metadata": {
        "colab": {
          "base_uri": "https://localhost:8080/"
        },
        "id": "CMg88baUIXao",
        "outputId": "9e5848b9-cf55-466f-f85c-9bbb2676f536"
      },
      "source": [
        "class Solution:\n",
        "    def hammingDistance(self, x, y ):\n",
        "        if y < x:\n",
        "            y, x = x, y\n",
        "        count = 0\n",
        "        while y:\n",
        "            count += (y&1) ^ (x&1)\n",
        "            x>>=1\n",
        "            y>>=1\n",
        "        return count\n",
        "\n",
        "s = Solution()\n",
        "print(s.hammingDistance(1,4))"
      ],
      "execution_count": 3,
      "outputs": [
        {
          "output_type": "stream",
          "name": "stdout",
          "text": [
            "2\n"
          ]
        }
      ]
    },
    {
      "cell_type": "markdown",
      "metadata": {
        "id": "edwVo1JxIG2i"
      },
      "source": [
        "***Single Number II***"
      ]
    },
    {
      "cell_type": "code",
      "metadata": {
        "colab": {
          "base_uri": "https://localhost:8080/"
        },
        "id": "TyLioqxAIYO8",
        "outputId": "3f3a47c3-f246-4275-b948-5632d5b8af3c"
      },
      "source": [
        "class Solution:\n",
        "    def singleNumber(self, nums):\n",
        "        return (3*sum(set(nums))-sum(nums))//2\n",
        "\n",
        "s = Solution()\n",
        "print(s.singleNumber([1,2,1,2,3]))"
      ],
      "execution_count": 4,
      "outputs": [
        {
          "output_type": "stream",
          "name": "stdout",
          "text": [
            "4\n"
          ]
        }
      ]
    },
    {
      "cell_type": "code",
      "metadata": {
        "id": "iWcY38RzMTad"
      },
      "source": [
        ""
      ],
      "execution_count": null,
      "outputs": []
    }
  ]
}