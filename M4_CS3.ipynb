{
  "nbformat": 4,
  "nbformat_minor": 0,
  "metadata": {
    "kernelspec": {
      "display_name": "Python 3",
      "language": "python",
      "name": "python3"
    },
    "language_info": {
      "codemirror_mode": {
        "name": "ipython",
        "version": 3
      },
      "file_extension": ".py",
      "mimetype": "text/x-python",
      "name": "python",
      "nbconvert_exporter": "python",
      "pygments_lexer": "ipython3",
      "version": "3.6.3"
    },
    "colab": {
      "name": "M4_CS3.ipynb",
      "provenance": [],
      "collapsed_sections": [
        "8TwM-hpsowXx"
      ],
      "include_colab_link": true
    }
  },
  "cells": [
    {
      "cell_type": "markdown",
      "metadata": {
        "id": "view-in-github",
        "colab_type": "text"
      },
      "source": [
        "<a href=\"https://colab.research.google.com/github/ManishKr19/Innomatics-Research-Labs/blob/main/M4_CS3.ipynb\" target=\"_parent\"><img src=\"https://colab.research.google.com/assets/colab-badge.svg\" alt=\"Open In Colab\"/></a>"
      ]
    },
    {
      "cell_type": "code",
      "metadata": {
        "collapsed": true,
        "id": "ruCxgxS5owXs"
      },
      "source": [
        "import numpy as np\n",
        "import pandas as pd\n",
        "import matplotlib.pyplot as plt\n",
        "%matplotlib inline"
      ],
      "execution_count": 1,
      "outputs": []
    },
    {
      "cell_type": "markdown",
      "metadata": {
        "id": "s9yBdCMMowXt"
      },
      "source": [
        "#### **Q1.) You are given a dataset, which is present in the LMS, containing the number of hurricanes occurring in the United States along the coast of the Atlantic. Load the data from the dataset into your program and plot a Bar Graph of the data, taking the Year as the x-axis and the number of hurricanes occurring as the Y-axis.**"
      ]
    },
    {
      "cell_type": "code",
      "metadata": {
        "collapsed": true,
        "id": "pI7ooqQHowXu"
      },
      "source": [
        "hurricanes = pd.read_csv(r\"/content/Hurricanes.csv\")"
      ],
      "execution_count": 2,
      "outputs": []
    },
    {
      "cell_type": "code",
      "metadata": {
        "colab": {
          "base_uri": "https://localhost:8080/",
          "height": 206
        },
        "id": "RDsfcLcUowXu",
        "outputId": "54555bfd-a4b7-49a8-a9ff-b05f842c9abd"
      },
      "source": [
        "hurricanes.head()"
      ],
      "execution_count": 3,
      "outputs": [
        {
          "output_type": "execute_result",
          "data": {
            "text/html": [
              "<div>\n",
              "<style scoped>\n",
              "    .dataframe tbody tr th:only-of-type {\n",
              "        vertical-align: middle;\n",
              "    }\n",
              "\n",
              "    .dataframe tbody tr th {\n",
              "        vertical-align: top;\n",
              "    }\n",
              "\n",
              "    .dataframe thead th {\n",
              "        text-align: right;\n",
              "    }\n",
              "</style>\n",
              "<table border=\"1\" class=\"dataframe\">\n",
              "  <thead>\n",
              "    <tr style=\"text-align: right;\">\n",
              "      <th></th>\n",
              "      <th>Year</th>\n",
              "      <th>Hurricanes</th>\n",
              "    </tr>\n",
              "  </thead>\n",
              "  <tbody>\n",
              "    <tr>\n",
              "      <th>0</th>\n",
              "      <td>1914</td>\n",
              "      <td>0</td>\n",
              "    </tr>\n",
              "    <tr>\n",
              "      <th>1</th>\n",
              "      <td>1915</td>\n",
              "      <td>5</td>\n",
              "    </tr>\n",
              "    <tr>\n",
              "      <th>2</th>\n",
              "      <td>1916</td>\n",
              "      <td>10</td>\n",
              "    </tr>\n",
              "    <tr>\n",
              "      <th>3</th>\n",
              "      <td>1917</td>\n",
              "      <td>2</td>\n",
              "    </tr>\n",
              "    <tr>\n",
              "      <th>4</th>\n",
              "      <td>1918</td>\n",
              "      <td>4</td>\n",
              "    </tr>\n",
              "  </tbody>\n",
              "</table>\n",
              "</div>"
            ],
            "text/plain": [
              "   Year  Hurricanes\n",
              "0  1914           0\n",
              "1  1915           5\n",
              "2  1916          10\n",
              "3  1917           2\n",
              "4  1918           4"
            ]
          },
          "metadata": {},
          "execution_count": 3
        }
      ]
    },
    {
      "cell_type": "code",
      "metadata": {
        "colab": {
          "base_uri": "https://localhost:8080/",
          "height": 545
        },
        "id": "0Hd1B6U_owXv",
        "outputId": "5df8a303-6970-4a26-a5a6-0ba279251881"
      },
      "source": [
        "hurricanes.plot(x = 'Year', y = 'Hurricanes', kind = 'bar', figsize = (20,8), \n",
        "                title = 'No of Hurricanes in the United State along the coast of the Atlantic')"
      ],
      "execution_count": 4,
      "outputs": [
        {
          "output_type": "execute_result",
          "data": {
            "text/plain": [
              "<matplotlib.axes._subplots.AxesSubplot at 0x7f88f70653d0>"
            ]
          },
          "metadata": {},
          "execution_count": 4
        },
        {
          "output_type": "display_data",
          "data": {
            "image/png": "[encoded data removed]",
            "text/plain": [
              "<Figure size 1440x576 with 1 Axes>"
            ]
          },
          "metadata": {
            "needs_background": "light"
          }
        }
      ]
    },
    {
      "cell_type": "code",
      "metadata": {
        "colab": {
          "base_uri": "https://localhost:8080/",
          "height": 282
        },
        "id": "wa1aFpJHowXw",
        "outputId": "f327839d-c3fa-415a-b5dc-43ecd73188b7"
      },
      "source": [
        "plt.bar(hurricanes[\"Year\"], hurricanes[\"Hurricanes\"])"
      ],
      "execution_count": 5,
      "outputs": [
        {
          "output_type": "execute_result",
          "data": {
            "text/plain": [
              "<BarContainer object of 101 artists>"
            ]
          },
          "metadata": {},
          "execution_count": 5
        },
        {
          "output_type": "display_data",
          "data": {
            "image/png": "[encoded data removed]",
            "text/plain": [
              "<Figure size 432x288 with 1 Axes>"
            ]
          },
          "metadata": {
            "needs_background": "light"
          }
        }
      ]
    },
    {
      "cell_type": "markdown",
      "metadata": {
        "id": "8TwM-hpsowXx"
      },
      "source": [
        "#### **Q2.) The dataset given, records data of city temperatures over the years’2014 and 2015. Plot the histogram of the temperatures over this period for the cities of San Francisco and Moscow.**"
      ]
    },
    {
      "cell_type": "code",
      "metadata": {
        "collapsed": true,
        "id": "C4vDAPy2owXy"
      },
      "source": [
        "cityTemp = pd.read_csv(r'/content/CityTemps.csv')"
      ],
      "execution_count": 6,
      "outputs": []
    },
    {
      "cell_type": "code",
      "metadata": {
        "colab": {
          "base_uri": "https://localhost:8080/",
          "height": 206
        },
        "id": "eMmQSTJaowXz",
        "outputId": "3974baa7-9356-4336-ae3b-94a0349783ff"
      },
      "source": [
        "cityTemp.head()"
      ],
      "execution_count": 7,
      "outputs": [
        {
          "output_type": "execute_result",
          "data": {
            "text/html": [
              "<div>\n",
              "<style scoped>\n",
              "    .dataframe tbody tr th:only-of-type {\n",
              "        vertical-align: middle;\n",
              "    }\n",
              "\n",
              "    .dataframe tbody tr th {\n",
              "        vertical-align: top;\n",
              "    }\n",
              "\n",
              "    .dataframe thead th {\n",
              "        text-align: right;\n",
              "    }\n",
              "</style>\n",
              "<table border=\"1\" class=\"dataframe\">\n",
              "  <thead>\n",
              "    <tr style=\"text-align: right;\">\n",
              "      <th></th>\n",
              "      <th>Year</th>\n",
              "      <th>Month</th>\n",
              "      <th>Moscow</th>\n",
              "      <th>Melbourne</th>\n",
              "      <th>San Francisco</th>\n",
              "    </tr>\n",
              "  </thead>\n",
              "  <tbody>\n",
              "    <tr>\n",
              "      <th>0</th>\n",
              "      <td>2014</td>\n",
              "      <td>1</td>\n",
              "      <td>-8.6</td>\n",
              "      <td>22.0</td>\n",
              "      <td>12.8</td>\n",
              "    </tr>\n",
              "    <tr>\n",
              "      <th>1</th>\n",
              "      <td>2014</td>\n",
              "      <td>2</td>\n",
              "      <td>-1.9</td>\n",
              "      <td>21.5</td>\n",
              "      <td>12.7</td>\n",
              "    </tr>\n",
              "    <tr>\n",
              "      <th>2</th>\n",
              "      <td>2014</td>\n",
              "      <td>3</td>\n",
              "      <td>2.8</td>\n",
              "      <td>19.5</td>\n",
              "      <td>15.0</td>\n",
              "    </tr>\n",
              "    <tr>\n",
              "      <th>3</th>\n",
              "      <td>2014</td>\n",
              "      <td>4</td>\n",
              "      <td>7.0</td>\n",
              "      <td>15.8</td>\n",
              "      <td>15.7</td>\n",
              "    </tr>\n",
              "    <tr>\n",
              "      <th>4</th>\n",
              "      <td>2014</td>\n",
              "      <td>5</td>\n",
              "      <td>16.0</td>\n",
              "      <td>13.9</td>\n",
              "      <td>17.5</td>\n",
              "    </tr>\n",
              "  </tbody>\n",
              "</table>\n",
              "</div>"
            ],
            "text/plain": [
              "   Year  Month  Moscow  Melbourne  San Francisco\n",
              "0  2014      1    -8.6       22.0           12.8\n",
              "1  2014      2    -1.9       21.5           12.7\n",
              "2  2014      3     2.8       19.5           15.0\n",
              "3  2014      4     7.0       15.8           15.7\n",
              "4  2014      5    16.0       13.9           17.5"
            ]
          },
          "metadata": {},
          "execution_count": 7
        }
      ]
    },
    {
      "cell_type": "code",
      "metadata": {
        "colab": {
          "base_uri": "https://localhost:8080/",
          "height": 352
        },
        "id": "kzCjuY7gowXz",
        "outputId": "f48ab517-2848-4bc1-d088-fc80458977f9"
      },
      "source": [
        "plt.hist([cityTemp[\"San Francisco\"], cityTemp[\"Moscow\"]])"
      ],
      "execution_count": 8,
      "outputs": [
        {
          "output_type": "execute_result",
          "data": {
            "text/plain": [
              "(array([[0., 0., 0., 0., 0., 0., 1., 9., 6., 8.],\n",
              "        [1., 2., 4., 3., 3., 1., 0., 3., 4., 3.]]),\n",
              " array([-8.6 , -5.63, -2.66,  0.31,  3.28,  6.25,  9.22, 12.19, 15.16,\n",
              "        18.13, 21.1 ]),\n",
              " <a list of 2 Lists of Patches objects>)"
            ]
          },
          "metadata": {},
          "execution_count": 8
        },
        {
          "output_type": "display_data",
          "data": {
            "image/png": "[encoded data removed]",
            "text/plain": [
              "<Figure size 432x288 with 1 Axes>"
            ]
          },
          "metadata": {
            "needs_background": "light"
          }
        }
      ]
    },
    {
      "cell_type": "code",
      "metadata": {
        "colab": {
          "base_uri": "https://localhost:8080/"
        },
        "id": "bXhqv1mPowX0",
        "outputId": "fe7f68d1-f7c5-4470-9b78-a91b7e6836f0"
      },
      "source": [
        "for x in zip(cityTemp[\"San Francisco\"], cityTemp[\"Moscow\"]):\n",
        "    print(x)"
      ],
      "execution_count": 9,
      "outputs": [
        {
          "output_type": "stream",
          "name": "stdout",
          "text": [
            "(12.8, -8.6)\n",
            "(12.7, -1.9)\n",
            "(15.0, 2.8)\n",
            "(15.7, 7.0)\n",
            "(17.5, 16.0)\n",
            "(17.9, 16.1)\n",
            "(19.4, 21.1)\n",
            "(19.5, 19.2)\n",
            "(20.2, 12.3)\n",
            "(20.4, 3.7)\n",
            "(15.4, -1.3)\n",
            "(13.8, -3.9)\n",
            "(12.2, -4.4)\n",
            "(14.8, -2.2)\n",
            "(15.7, 2.0)\n",
            "(14.8, 6.1)\n",
            "(14.7, 14.2)\n",
            "(17.1, 17.9)\n",
            "(19.3, 18.3)\n",
            "(20.0, 17.6)\n",
            "(19.5, 13.8)\n",
            "(18.7, 4.4)\n",
            "(12.4, 0.8)\n",
            "(10.3, 0.2)\n"
          ]
        }
      ]
    },
    {
      "cell_type": "markdown",
      "metadata": {
        "id": "8bIDLRAfowX1"
      },
      "source": [
        "#### **Q3.) Create csv file from the data file available in LMS which goes by the name ‘M4_assign_dataset’and read this file into apandas data frame.**"
      ]
    },
    {
      "cell_type": "code",
      "metadata": {
        "collapsed": true,
        "id": "HX_hepd9owX2"
      },
      "source": [
        "sales=pd.read_csv(r\"/content/sample-salesv2.csv\",parse_dates=['date'])"
      ],
      "execution_count": 10,
      "outputs": []
    },
    {
      "cell_type": "code",
      "metadata": {
        "colab": {
          "base_uri": "https://localhost:8080/",
          "height": 206
        },
        "id": "wP9l3CgpowX2",
        "outputId": "a9055d24-34dc-46d2-f988-c4365679d374"
      },
      "source": [
        "sales.head()"
      ],
      "execution_count": 11,
      "outputs": [
        {
          "output_type": "execute_result",
          "data": {
            "text/html": [
              "<div>\n",
              "<style scoped>\n",
              "    .dataframe tbody tr th:only-of-type {\n",
              "        vertical-align: middle;\n",
              "    }\n",
              "\n",
              "    .dataframe tbody tr th {\n",
              "        vertical-align: top;\n",
              "    }\n",
              "\n",
              "    .dataframe thead th {\n",
              "        text-align: right;\n",
              "    }\n",
              "</style>\n",
              "<table border=\"1\" class=\"dataframe\">\n",
              "  <thead>\n",
              "    <tr style=\"text-align: right;\">\n",
              "      <th></th>\n",
              "      <th>account_number</th>\n",
              "      <th>name</th>\n",
              "      <th>item_code</th>\n",
              "      <th>category</th>\n",
              "      <th>quantity</th>\n",
              "      <th>unit price</th>\n",
              "      <th>net_price</th>\n",
              "      <th>date</th>\n",
              "    </tr>\n",
              "  </thead>\n",
              "  <tbody>\n",
              "    <tr>\n",
              "      <th>0</th>\n",
              "      <td>296809</td>\n",
              "      <td>Carroll PLC</td>\n",
              "      <td>QN-82852</td>\n",
              "      <td>Belt</td>\n",
              "      <td>13</td>\n",
              "      <td>44.48</td>\n",
              "      <td>578.24</td>\n",
              "      <td>2014-09-27 07:13:00</td>\n",
              "    </tr>\n",
              "    <tr>\n",
              "      <th>1</th>\n",
              "      <td>98022</td>\n",
              "      <td>Heidenreich-Bosco</td>\n",
              "      <td>MJ-21460</td>\n",
              "      <td>Shoes</td>\n",
              "      <td>19</td>\n",
              "      <td>53.62</td>\n",
              "      <td>1018.78</td>\n",
              "      <td>2014-07-29 02:10:00</td>\n",
              "    </tr>\n",
              "    <tr>\n",
              "      <th>2</th>\n",
              "      <td>563905</td>\n",
              "      <td>Kerluke, Reilly and Bechtelar</td>\n",
              "      <td>AS-93055</td>\n",
              "      <td>Shirt</td>\n",
              "      <td>12</td>\n",
              "      <td>24.16</td>\n",
              "      <td>289.92</td>\n",
              "      <td>2014-01-03 10:51:00</td>\n",
              "    </tr>\n",
              "    <tr>\n",
              "      <th>3</th>\n",
              "      <td>93356</td>\n",
              "      <td>Waters-Walker</td>\n",
              "      <td>AS-93055</td>\n",
              "      <td>Shirt</td>\n",
              "      <td>5</td>\n",
              "      <td>82.68</td>\n",
              "      <td>413.40</td>\n",
              "      <td>2013-11-17 20:41:00</td>\n",
              "    </tr>\n",
              "    <tr>\n",
              "      <th>4</th>\n",
              "      <td>659366</td>\n",
              "      <td>Waelchi-Fahey</td>\n",
              "      <td>AS-93055</td>\n",
              "      <td>Shirt</td>\n",
              "      <td>18</td>\n",
              "      <td>99.64</td>\n",
              "      <td>1793.52</td>\n",
              "      <td>2014-03-01 08:14:00</td>\n",
              "    </tr>\n",
              "  </tbody>\n",
              "</table>\n",
              "</div>"
            ],
            "text/plain": [
              "   account_number                           name  ... net_price                date\n",
              "0          296809                    Carroll PLC  ...    578.24 2014-09-27 07:13:00\n",
              "1           98022              Heidenreich-Bosco  ...   1018.78 2014-07-29 02:10:00\n",
              "2          563905  Kerluke, Reilly and Bechtelar  ...    289.92 2014-01-03 10:51:00\n",
              "3           93356                  Waters-Walker  ...    413.40 2013-11-17 20:41:00\n",
              "4          659366                  Waelchi-Fahey  ...   1793.52 2014-03-01 08:14:00\n",
              "\n",
              "[5 rows x 8 columns]"
            ]
          },
          "metadata": {},
          "execution_count": 11
        }
      ]
    },
    {
      "cell_type": "code",
      "metadata": {
        "colab": {
          "base_uri": "https://localhost:8080/"
        },
        "id": "sYJTjOn-owX3",
        "outputId": "4dd4403b-6b9c-48e5-990e-0cc9de336015"
      },
      "source": [
        "sales.category.value_counts()"
      ],
      "execution_count": 12,
      "outputs": [
        {
          "output_type": "execute_result",
          "data": {
            "text/plain": [
              "Shirt    404\n",
              "Shoes    400\n",
              "Belt     196\n",
              "Name: category, dtype: int64"
            ]
          },
          "metadata": {},
          "execution_count": 12
        }
      ]
    },
    {
      "cell_type": "code",
      "metadata": {
        "colab": {
          "base_uri": "https://localhost:8080/"
        },
        "id": "yaLjI8XRowX3",
        "outputId": "fde14a5a-46fa-4c79-bf85-de2d2233e947"
      },
      "source": [
        "sales.info()"
      ],
      "execution_count": 13,
      "outputs": [
        {
          "output_type": "stream",
          "name": "stdout",
          "text": [
            "<class 'pandas.core.frame.DataFrame'>\n",
            "RangeIndex: 1000 entries, 0 to 999\n",
            "Data columns (total 8 columns):\n",
            " #   Column          Non-Null Count  Dtype         \n",
            "---  ------          --------------  -----         \n",
            " 0   account_number  1000 non-null   int64         \n",
            " 1   name            1000 non-null   object        \n",
            " 2   item_code       1000 non-null   object        \n",
            " 3   category        1000 non-null   object        \n",
            " 4   quantity        1000 non-null   int64         \n",
            " 5   unit price      1000 non-null   float64       \n",
            " 6   net_price       1000 non-null   float64       \n",
            " 7   date            1000 non-null   datetime64[ns]\n",
            "dtypes: datetime64[ns](1), float64(2), int64(2), object(3)\n",
            "memory usage: 62.6+ KB\n"
          ]
        }
      ]
    },
    {
      "cell_type": "code",
      "metadata": {
        "collapsed": true,
        "id": "rcQM-SYtowX4"
      },
      "source": [
        "sales_by_name = sales.groupby('name')['net_price'].sum()"
      ],
      "execution_count": 14,
      "outputs": []
    },
    {
      "cell_type": "code",
      "metadata": {
        "colab": {
          "base_uri": "https://localhost:8080/",
          "height": 660
        },
        "id": "NO8rZ6EzowX4",
        "outputId": "dc1641b6-b4b6-4e3f-8c82-299fb8e529da"
      },
      "source": [
        "sales_by_name.plot(kind = 'bar', figsize = (15,8))"
      ],
      "execution_count": 15,
      "outputs": [
        {
          "output_type": "execute_result",
          "data": {
            "text/plain": [
              "<matplotlib.axes._subplots.AxesSubplot at 0x7f88f0a08210>"
            ]
          },
          "metadata": {},
          "execution_count": 15
        },
        {
          "output_type": "display_data",
          "data": {
            "image/png": "[encoded data removed]",
            "text/plain": [
              "<Figure size 1080x576 with 1 Axes>"
            ]
          },
          "metadata": {
            "needs_background": "light"
          }
        }
      ]
    },
    {
      "cell_type": "markdown",
      "metadata": {
        "id": "njU-VSl-7Fne"
      },
      "source": [
        "#### **4.Let the x axis data points and y axis data points are**\n",
        "    X = [1,2,3,4]\n",
        "    y = [20, 21, 20.5, 20.8]\n",
        "    \n",
        "  - 5.1: Draw a Simple plot\n",
        "  - 5.2: Configure the line and markers in simple plot\n",
        "  - 5.3: configure the axes\n",
        "  - 5.4: Give title of Graph & labels of x axis and y axis\n",
        "  - 5.5: Give error bar if  y_error = [0.12, 0.13, 0.2, 0.1]\n",
        "  - 5.6: define width, height as figsize=(4,5) DPI and adjust plot dpi=100\n",
        "  - 5.7: Give a font size of 14\n",
        "  - 5.8: Draw a scatter graph of any 50 random values of x and y axis\n",
        "  - 5.9: Create a dataframe from following data\n",
        "    \n",
        "        'first_name': ['Jason', 'Molly', 'Tina', 'Jake', 'Amy'], \n",
        "        'last_name': ['Miller', 'Jacobson', 'Ali', 'Milner', 'Cooze'], \n",
        "        'female': [0, 1, 1, 0, 1],'age': [42, 52, 36, 24, 73], \n",
        "        'preTestScore': [4, 24, 31, 2, 3],\n",
        "        'postTestScore': [25, 94, 57, 62, 70]"
      ]
    },
    {
      "cell_type": "code",
      "metadata": {
        "colab": {
          "base_uri": "https://localhost:8080/",
          "height": 494
        },
        "id": "pdfVnAxeowX4",
        "outputId": "93575990-cc72-4eee-f100-7121e1030acc"
      },
      "source": [
        "X = [1,2,3,4]\n",
        "y = [20, 21, 20.5, 20.8]\n",
        "#define plot size in inches (width, height) & resolution(DPI)\n",
        "fig = plt.figure(figsize=(4, 5), dpi=100)\n",
        "#define font size\n",
        "plt.rc(\"font\", size=14)\n",
        "#error data\n",
        "y_error = [0.12, 0.13, 0.2, 0.1]\n",
        "plt.plot(X, y, linestyle=\"dashed\", marker = \"o\", color= \"green\")\n",
        "plt.errorbar(X, y, yerr = y_error, marker='s', mfc='red',\n",
        "         mec='green', ms=20, mew=4)\n",
        "\n",
        "\n",
        "\n",
        "#configure X axes\n",
        "plt.xlim(0.5, 4.5)\n",
        "plt.xticks([1, 2, 3, 4])\n",
        "#Configure y axes\n",
        "plt.ylim(19.8, 21.2)\n",
        "plt.yticks([20, 21, 20.5, 20.8])\n",
        "plt.title(\"Simple Plot\")\n",
        "plt.xlabel(\"This is x axis\")\n",
        "plt.ylabel(\"This is y axis\")\n",
        "#adjust plot\n",
        "plt.subplots_adjust(left=0.18)"
      ],
      "execution_count": 21,
      "outputs": [
        {
          "output_type": "display_data",
          "data": {
            "image/png": "[encoded data removed]",
            "text/plain": [
              "<Figure size 400x500 with 1 Axes>"
            ]
          },
          "metadata": {
            "needs_background": "light"
          }
        }
      ]
    },
    {
      "cell_type": "code",
      "metadata": {
        "colab": {
          "base_uri": "https://localhost:8080/",
          "height": 286
        },
        "id": "diSSpsqLowX5",
        "outputId": "5d9500a3-7854-4e59-d89e-fac1570f1085"
      },
      "source": [
        "N = 50\n",
        "x = np.random.rand(N)\n",
        "y = np.random.rand(N)\n",
        "colors = np.random.rand(N)\n",
        "\n",
        "area = np.pi * (15* np.random.rand(N))**2 # 0 to 15 point radii\n",
        "plt.scatter(x,y, s = area, c = colors, alpha = 0.5)\n"
      ],
      "execution_count": 22,
      "outputs": [
        {
          "output_type": "execute_result",
          "data": {
            "text/plain": [
              "<matplotlib.collections.PathCollection at 0x7f88f07ab210>"
            ]
          },
          "metadata": {},
          "execution_count": 22
        },
        {
          "output_type": "display_data",
          "data": {
            "image/png": "[encoded data removed]",
            "text/plain": [
              "<Figure size 432x288 with 1 Axes>"
            ]
          },
          "metadata": {
            "needs_background": "light"
          }
        }
      ]
    },
    {
      "cell_type": "code",
      "metadata": {
        "collapsed": true,
        "id": "yC4gRuTAowX5"
      },
      "source": [
        "raw_data = {'first_name': ['Jason', 'Molly', 'Tina', 'Jake', 'Amy'],\n",
        "        'last_name': ['Miller', 'Jacobson', 'Ali', 'Milner', 'Cooze'],\n",
        "        'female': [0, 1, 1, 0, 1],\n",
        "        'age': [42, 52, 36, 24, 73],\n",
        "        'preTestScore': [4, 24, 31, 2, 3],\n",
        "        'postTestScore': [25, 94, 57, 62, 70]}"
      ],
      "execution_count": 23,
      "outputs": []
    },
    {
      "cell_type": "code",
      "metadata": {
        "colab": {
          "base_uri": "https://localhost:8080/",
          "height": 356
        },
        "id": "TTZlBb5_owX6",
        "outputId": "0c0d891f-a93e-483e-d5a4-d30bd5a9cfb2"
      },
      "source": [
        "df = pd.DataFrame(raw_data, columns = ['first_name', 'last_name', 'age', 'female', 'preTestScore', 'postTestScore'])\n",
        "print(df.head(3))\n",
        "plt.scatter(df.preTestScore, df.postTestScore, s=df.age)"
      ],
      "execution_count": 24,
      "outputs": [
        {
          "output_type": "stream",
          "name": "stdout",
          "text": [
            "  first_name last_name  age  female  preTestScore  postTestScore\n",
            "0      Jason    Miller   42       0             4             25\n",
            "1      Molly  Jacobson   52       1            24             94\n",
            "2       Tina       Ali   36       1            31             57\n"
          ]
        },
        {
          "output_type": "execute_result",
          "data": {
            "text/plain": [
              "<matplotlib.collections.PathCollection at 0x7f88f06f28d0>"
            ]
          },
          "metadata": {},
          "execution_count": 24
        },
        {
          "output_type": "display_data",
          "data": {
            "image/png": "[encoded data removed]",
            "text/plain": [
              "<Figure size 432x288 with 1 Axes>"
            ]
          },
          "metadata": {
            "needs_background": "light"
          }
        }
      ]
    },
    {
      "cell_type": "code",
      "metadata": {
        "colab": {
          "base_uri": "https://localhost:8080/",
          "height": 286
        },
        "id": "RxOn_53_owX6",
        "outputId": "cc253c30-6355-48d9-f942-b30e11b6b204"
      },
      "source": [
        "plt.scatter(df.preTestScore, df.postTestScore, s=300, c=df.female)"
      ],
      "execution_count": 25,
      "outputs": [
        {
          "output_type": "execute_result",
          "data": {
            "text/plain": [
              "<matplotlib.collections.PathCollection at 0x7f88f06dcd10>"
            ]
          },
          "metadata": {},
          "execution_count": 25
        },
        {
          "output_type": "display_data",
          "data": {
            "image/png": "[encoded data removed]",
            "text/plain": [
              "<Figure size 432x288 with 1 Axes>"
            ]
          },
          "metadata": {
            "needs_background": "light"
          }
        }
      ]
    },
    {
      "cell_type": "code",
      "metadata": {
        "collapsed": true,
        "id": "e-DjUp93owX6"
      },
      "source": [
        ""
      ],
      "execution_count": 25,
      "outputs": []
    }
  ]
}