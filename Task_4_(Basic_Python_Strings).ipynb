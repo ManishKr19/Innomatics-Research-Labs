{
  "nbformat": 4,
  "nbformat_minor": 0,
  "metadata": {
    "colab": {
      "name": "Task - 4 (Basic Python - Strings)",
      "provenance": [],
      "collapsed_sections": [],
      "authorship_tag": "ABX9TyMB+/9c8zGSDvhDEHP4cCrU",
      "include_colab_link": true
    },
    "kernelspec": {
      "name": "python3",
      "display_name": "Python 3"
    },
    "language_info": {
      "name": "python"
    }
  },
  "cells": [
    {
      "cell_type": "markdown",
      "metadata": {
        "id": "view-in-github",
        "colab_type": "text"
      },
      "source": [
        "<a href=\"https://colab.research.google.com/github/ManishKr19/Innomatics-Research-Labs/blob/main/Task_4_(Basic_Python_Strings).ipynb\" target=\"_parent\"><img src=\"https://colab.research.google.com/assets/colab-badge.svg\" alt=\"Open In Colab\"/></a>"
      ]
    },
    {
      "cell_type": "markdown",
      "metadata": {
        "id": "e4XEQcLTCRuX"
      },
      "source": [
        "# **Task - 4 (Basic Python - Strings)**\n",
        "\n",
        "[https://www.hackerrank.com/domains/python?filters%5Bsubdomains%5D%5B%5D=py-strings]( https://www.hackerrank.com/domains/python?filters%5Bsubdomains%5D%5B%5D=py-strings)"
      ]
    },
    {
      "cell_type": "markdown",
      "metadata": {
        "id": "gep6XeV91B35"
      },
      "source": [
        "***sWAP cASE***"
      ]
    },
    {
      "cell_type": "code",
      "metadata": {
        "colab": {
          "base_uri": "https://localhost:8080/"
        },
        "id": "yZPcqFKO1Dcu",
        "outputId": "7bae3bc4-4a38-4d78-b7dd-ea98bb2c9cb5"
      },
      "source": [
        "def swap_case(s):\n",
        "    return s.swapcase()\n",
        "\n",
        "if __name__ == '__main__':\n",
        "    s = input()\n",
        "    result = swap_case(s)\n",
        "    print(result)"
      ],
      "execution_count": null,
      "outputs": [
        {
          "output_type": "stream",
          "name": "stdout",
          "text": [
            "HackerRank.com presents \"Pythonist 2\".\n",
            "hACKERrANK.COM PRESENTS \"pYTHONIST 2\".\n"
          ]
        }
      ]
    },
    {
      "cell_type": "markdown",
      "metadata": {
        "id": "C4YdkOk21CFr"
      },
      "source": [
        "***String Split and Join***"
      ]
    },
    {
      "cell_type": "code",
      "metadata": {
        "id": "dHzpz5821EJG",
        "colab": {
          "base_uri": "https://localhost:8080/"
        },
        "outputId": "e2d6fe54-c2b9-402b-9d27-4df0b654a5c5"
      },
      "source": [
        "def split_and_join(line):\n",
        "    return(\"-\".join(line.split()))\n",
        "\n",
        "if __name__ == '__main__':\n",
        "    line = input()\n",
        "    result = split_and_join(line)\n",
        "    print(result)"
      ],
      "execution_count": 1,
      "outputs": [
        {
          "output_type": "stream",
          "name": "stdout",
          "text": [
            "this is a string\n",
            "this-is-a-string\n"
          ]
        }
      ]
    },
    {
      "cell_type": "markdown",
      "metadata": {
        "id": "81pEKHBi1COf"
      },
      "source": [
        "***What's Your Name?***"
      ]
    },
    {
      "cell_type": "code",
      "metadata": {
        "id": "2yERMOQP1E96",
        "colab": {
          "base_uri": "https://localhost:8080/"
        },
        "outputId": "cb6892bd-aea3-4d01-9c12-841774f6dfe7"
      },
      "source": [
        "def print_full_name(first, last):\n",
        "    print(\"Hello {} {}! You just delved into python.\".format(first,last))\n",
        "\n",
        "if __name__ == '__main__':\n",
        "    first_name = input()\n",
        "    last_name = input()\n",
        "    print_full_name(first_name, last_name)"
      ],
      "execution_count": 2,
      "outputs": [
        {
          "output_type": "stream",
          "name": "stdout",
          "text": [
            "Ross\n",
            "Taylor\n",
            "Hello Ross Taylor! You just delved into python.\n"
          ]
        }
      ]
    },
    {
      "cell_type": "markdown",
      "metadata": {
        "id": "L3gkqoYI1CRd"
      },
      "source": [
        "***Mutations***"
      ]
    },
    {
      "cell_type": "code",
      "metadata": {
        "id": "vfDajrgP1F0X",
        "colab": {
          "base_uri": "https://localhost:8080/"
        },
        "outputId": "00cb7b5d-3789-48a5-8f9b-9f738103e918"
      },
      "source": [
        "def mutate_string(string, position, character):\n",
        "    return string[:position] + character + string[position + 1:]\n",
        "\n",
        "if __name__ == '__main__':\n",
        "    s = input()\n",
        "    i, c = input().split()\n",
        "    s_new = mutate_string(s, int(i), c)\n",
        "    print(s_new)"
      ],
      "execution_count": 3,
      "outputs": [
        {
          "output_type": "stream",
          "name": "stdout",
          "text": [
            "abracadabra\n",
            "5 k\n",
            "abrackdabra\n"
          ]
        }
      ]
    },
    {
      "cell_type": "markdown",
      "metadata": {
        "id": "y5h70Xbo1CUH"
      },
      "source": [
        "***Find a string***"
      ]
    },
    {
      "cell_type": "code",
      "metadata": {
        "id": "6Dj2k1-R1GjU",
        "colab": {
          "base_uri": "https://localhost:8080/"
        },
        "outputId": "f0c14e6f-ac42-4fb9-e25e-2039a01b25dc"
      },
      "source": [
        "def count_substring(string, sub_string):\n",
        "    count = 0\n",
        "    for i in range(len(string)):\n",
        "        if string[i:].startswith(sub_string):\n",
        "            count += 1\n",
        "    return count\n",
        "\n",
        "if __name__ == '__main__':\n",
        "    string = input().strip()\n",
        "    sub_string = input().strip()\n",
        "    \n",
        "    count = count_substring(string, sub_string)\n",
        "    print(count)"
      ],
      "execution_count": 4,
      "outputs": [
        {
          "output_type": "stream",
          "name": "stdout",
          "text": [
            "ABCDCDC\n",
            "CDC\n",
            "2\n"
          ]
        }
      ]
    },
    {
      "cell_type": "markdown",
      "metadata": {
        "id": "wVg8Tg_p1CZ2"
      },
      "source": [
        "***String Validators***"
      ]
    },
    {
      "cell_type": "code",
      "metadata": {
        "id": "oHLbXgTq1IrN",
        "colab": {
          "base_uri": "https://localhost:8080/"
        },
        "outputId": "9492e511-e71c-464d-a415-5290a40477aa"
      },
      "source": [
        "if __name__ == '__main__':\n",
        "    s = input()\n",
        "    t = type(s)\n",
        "    for method in [t.isalnum, t.isalpha, t.isdigit, t.islower, t.isupper]:\n",
        "      print(any(method(c) for c in s))\n"
      ],
      "execution_count": 5,
      "outputs": [
        {
          "output_type": "stream",
          "name": "stdout",
          "text": [
            "qA2\n",
            "True\n",
            "True\n",
            "True\n",
            "True\n",
            "True\n"
          ]
        }
      ]
    },
    {
      "cell_type": "markdown",
      "metadata": {
        "id": "wSV4m1PTCAzL"
      },
      "source": [
        "***Text Alignment***"
      ]
    },
    {
      "cell_type": "code",
      "metadata": {
        "id": "k_uwXwoV_kQJ",
        "colab": {
          "base_uri": "https://localhost:8080/"
        },
        "outputId": "95591b88-fa98-4e29-ef9f-d2b51585a45c"
      },
      "source": [
        "def h(x):\n",
        "    for a in range (x+1):\n",
        "        d=(x-1)//2\n",
        "        print(\" \"*d,end='')\n",
        "        print('H'*x,end='')\n",
        "        print(' '*(x*3),end=\"\")\n",
        "        print('H'*x,end='')\n",
        "        print(' '*d,end='')\n",
        "        print()\n",
        "    \n",
        "x=int(input())\n",
        "m=x+(x-1)\n",
        "n=1\n",
        "for i in range(x,0,-1):\n",
        "    for j in range(1,x+1):\n",
        "        if j<i:\n",
        "            print(' ',end='')\n",
        "        else:\n",
        "            print('H'*n,end=\"\")\n",
        "            n+=2\n",
        "            break\n",
        "    print()\n",
        "h(x)\n",
        "f=(x-1)//2\n",
        "for b in range((x+1)//2):\n",
        "    print(\" \"*f,end='')\n",
        "    print('H'*(x*5),end='')\n",
        "    print(\" \"*f,end='')\n",
        "    print()\n",
        "h(x)\n",
        "\n",
        "for i in range(x,0,-1):\n",
        "    print(' '*(x*4),end='')\n",
        "    for j in range(x,0,-1):\n",
        "        if j>i:\n",
        "            print(' ',end='')\n",
        "        else:\n",
        "            print('H'*m,end=\"\")\n",
        "            m-=2\n",
        "            break\n",
        "    print()  "
      ],
      "execution_count": 6,
      "outputs": [
        {
          "output_type": "stream",
          "name": "stdout",
          "text": [
            "5\n",
            "    H\n",
            "   HHH\n",
            "  HHHHH\n",
            " HHHHHHH\n",
            "HHHHHHHHH\n",
            "  HHHHH               HHHHH  \n",
            "  HHHHH               HHHHH  \n",
            "  HHHHH               HHHHH  \n",
            "  HHHHH               HHHHH  \n",
            "  HHHHH               HHHHH  \n",
            "  HHHHH               HHHHH  \n",
            "  HHHHHHHHHHHHHHHHHHHHHHHHH  \n",
            "  HHHHHHHHHHHHHHHHHHHHHHHHH  \n",
            "  HHHHHHHHHHHHHHHHHHHHHHHHH  \n",
            "  HHHHH               HHHHH  \n",
            "  HHHHH               HHHHH  \n",
            "  HHHHH               HHHHH  \n",
            "  HHHHH               HHHHH  \n",
            "  HHHHH               HHHHH  \n",
            "  HHHHH               HHHHH  \n",
            "                    HHHHHHHHH\n",
            "                     HHHHHHH\n",
            "                      HHHHH\n",
            "                       HHH\n",
            "                        H\n"
          ]
        }
      ]
    },
    {
      "cell_type": "markdown",
      "metadata": {
        "id": "OVwZ4_YWCGr9"
      },
      "source": [
        "***Text Wrap***"
      ]
    },
    {
      "cell_type": "code",
      "metadata": {
        "id": "FUQmxvuXCJKF",
        "colab": {
          "base_uri": "https://localhost:8080/"
        },
        "outputId": "1ed2c742-8e2f-4039-ea15-9a454cdaad68"
      },
      "source": [
        "import textwrap\n",
        "\n",
        "def wrap(string, max_width):\n",
        "    return(\"\\n\".join(textwrap.wrap(string, max_width)))\n",
        "\n",
        "if __name__ == '__main__':\n",
        "    string, max_width = input(), int(input())\n",
        "    result = wrap(string, max_width)\n",
        "    print(result)"
      ],
      "execution_count": 7,
      "outputs": [
        {
          "output_type": "stream",
          "name": "stdout",
          "text": [
            "ABCDEFGHIJKLIMNOQRSTUVWXYZ\n",
            "4\n",
            "ABCD\n",
            "EFGH\n",
            "IJKL\n",
            "IMNO\n",
            "QRST\n",
            "UVWX\n",
            "YZ\n"
          ]
        }
      ]
    },
    {
      "cell_type": "markdown",
      "metadata": {
        "id": "GI1UvAB4CJr5"
      },
      "source": [
        "***Designer Door Mat***"
      ]
    },
    {
      "cell_type": "code",
      "metadata": {
        "id": "QhAR7lHICMTN",
        "colab": {
          "base_uri": "https://localhost:8080/"
        },
        "outputId": "a0f753e6-9d2b-4e09-ca47-1a5d05007fd6"
      },
      "source": [
        "N, M = map(int, input().split()) \n",
        "for i in range(1,N,2): \n",
        "    print((i*'.|.').center(M,'-'))\n",
        "print('WELCOME'.center(M,'-')) \n",
        "for i in range(N-2,-1,-2): \n",
        "    print((i*'.|.').center(M, '-'))"
      ],
      "execution_count": 8,
      "outputs": [
        {
          "output_type": "stream",
          "name": "stdout",
          "text": [
            "7 21\n",
            "---------.|.---------\n",
            "------.|..|..|.------\n",
            "---.|..|..|..|..|.---\n",
            "-------WELCOME-------\n",
            "---.|..|..|..|..|.---\n",
            "------.|..|..|.------\n",
            "---------.|.---------\n"
          ]
        }
      ]
    },
    {
      "cell_type": "markdown",
      "metadata": {
        "id": "2l3cAgrOCUme"
      },
      "source": [
        "***String Formatting***"
      ]
    },
    {
      "cell_type": "code",
      "metadata": {
        "id": "AEJAQzFzCXRo",
        "colab": {
          "base_uri": "https://localhost:8080/"
        },
        "outputId": "48ec6c77-0a2c-4436-c66f-170e777674c4"
      },
      "source": [
        "def print_formatted(n):\n",
        "    for i in range(1,n + 1):\n",
        "        pad = n.bit_length()\n",
        "        print(f'{i:{pad}d} {i:{pad}o} {i:{pad}X} {i:{pad}b}')\n",
        "\n",
        "if __name__ == '__main__':\n",
        "    n = int(input())\n",
        "    print_formatted(n)"
      ],
      "execution_count": 9,
      "outputs": [
        {
          "output_type": "stream",
          "name": "stdout",
          "text": [
            "2\n",
            " 1  1  1  1\n",
            " 2  2  2 10\n"
          ]
        }
      ]
    },
    {
      "cell_type": "markdown",
      "metadata": {
        "id": "zOSq-Tw9CX0Z"
      },
      "source": [
        "***Alphabet Rangoli***"
      ]
    },
    {
      "cell_type": "code",
      "metadata": {
        "id": "ASsZwWEXCb02",
        "colab": {
          "base_uri": "https://localhost:8080/"
        },
        "outputId": "ac8f941a-2585-42cf-93e9-5259c44ebe24"
      },
      "source": [
        "from string import ascii_lowercase as chars\n",
        "def print_rangoli(n):\n",
        "    heap = [(('-'.join(chars[i:n])[::-1]+'-'.join(chars[i:n])[1:])).center(4*n-3, '-')for i in range(n)]\n",
        "    print(*(heap[::-1]+heap[1:]), sep=\"\\n\")\n",
        "\n",
        "if __name__ == '__main__':\n",
        "    n = int(input())\n",
        "    print_rangoli(n)"
      ],
      "execution_count": 10,
      "outputs": [
        {
          "output_type": "stream",
          "name": "stdout",
          "text": [
            "5\n",
            "--------e--------\n",
            "------e-d-e------\n",
            "----e-d-c-d-e----\n",
            "--e-d-c-b-c-d-e--\n",
            "e-d-c-b-a-b-c-d-e\n",
            "--e-d-c-b-c-d-e--\n",
            "----e-d-c-d-e----\n",
            "------e-d-e------\n",
            "--------e--------\n"
          ]
        }
      ]
    },
    {
      "cell_type": "markdown",
      "metadata": {
        "id": "wbFfVGP0Ccbw"
      },
      "source": [
        "***Capitalize***"
      ]
    },
    {
      "cell_type": "code",
      "metadata": {
        "id": "25_gx9lbCf19",
        "colab": {
          "base_uri": "https://localhost:8080/"
        },
        "outputId": "aaae901c-d5ef-453a-9e61-18a78d6b0a11"
      },
      "source": [
        "#!/bin/python3\n",
        "\n",
        "import math\n",
        "import os\n",
        "import random\n",
        "import re\n",
        "import sys\n",
        "\n",
        "# Complete the solve function below.\n",
        "def solve(s):\n",
        "    return(' '.join(map(str.capitalize, s.split(' '))))\n",
        "\n",
        "if __name__ == '__main__':\n",
        "    s = input()\n",
        "    result = solve(s)\n",
        "    print(result)"
      ],
      "execution_count": 11,
      "outputs": [
        {
          "output_type": "stream",
          "name": "stdout",
          "text": [
            "hello world\n",
            "Hello World\n"
          ]
        }
      ]
    },
    {
      "cell_type": "markdown",
      "metadata": {
        "id": "-4pW8WH_Cgc9"
      },
      "source": [
        "***The Minion Game***"
      ]
    },
    {
      "cell_type": "code",
      "metadata": {
        "id": "0WUY62uFCkHZ",
        "colab": {
          "base_uri": "https://localhost:8080/"
        },
        "outputId": "35bde796-5f1c-4614-b4f1-32524cf41d24"
      },
      "source": [
        "def minion_game(string):\n",
        "    vowel =['A','E','I','O','U']\n",
        "    S=0\n",
        "    K=0\n",
        "    for i in range(len(string)):\n",
        "        if string[i] in vowel:\n",
        "            K+= len(string)-i\n",
        "        else:\n",
        "            S+=len(string)-i\n",
        "    if S>K:\n",
        "        print(\"Stuart\"+\" \"+ \"%d\" % S)\n",
        "    elif K>S:\n",
        "        print(\"Kevin\"+\" \"+'%d' % K)\n",
        "    else:\n",
        "        print(\"Draw\")\n",
        "\n",
        "if __name__ == '__main__':\n",
        "    s = input()\n",
        "    minion_game(s)"
      ],
      "execution_count": 12,
      "outputs": [
        {
          "output_type": "stream",
          "name": "stdout",
          "text": [
            "BANANA\n",
            "Stuart 12\n"
          ]
        }
      ]
    },
    {
      "cell_type": "markdown",
      "metadata": {
        "id": "_3BHNGXmCkt9"
      },
      "source": [
        "***Merge the Tools***"
      ]
    },
    {
      "cell_type": "code",
      "metadata": {
        "id": "Y9jH4neRCnnb",
        "colab": {
          "base_uri": "https://localhost:8080/"
        },
        "outputId": "a1c9bf62-2129-4b8a-bfa4-6d9e0d65dc1f"
      },
      "source": [
        "def merge_the_tools(string, k):\n",
        "    for i in range(0, len(string), k):\n",
        "        uniq = ''\n",
        "        for c in string[i : i+k]:\n",
        "            if (c not in uniq):\n",
        "                uniq+=c\n",
        "        print(uniq)\n",
        "        \n",
        "if __name__ == '__main__':\n",
        "    string, k = input(), int(input())\n",
        "    merge_the_tools(string, k)"
      ],
      "execution_count": 13,
      "outputs": [
        {
          "output_type": "stream",
          "name": "stdout",
          "text": [
            "AABCAAADA\n",
            "3\n",
            "AB\n",
            "CA\n",
            "AD\n"
          ]
        }
      ]
    },
    {
      "cell_type": "code",
      "metadata": {
        "id": "DjspTJWZkEah"
      },
      "source": [
        ""
      ],
      "execution_count": 13,
      "outputs": []
    }
  ]
}