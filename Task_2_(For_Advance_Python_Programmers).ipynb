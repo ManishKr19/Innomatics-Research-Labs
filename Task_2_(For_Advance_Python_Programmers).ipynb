{
  "nbformat": 4,
  "nbformat_minor": 0,
  "metadata": {
    "colab": {
      "name": "Task - 2 (For Advance Python Programmers).ipynb",
      "provenance": [],
      "collapsed_sections": [],
      "authorship_tag": "ABX9TyNhh/VuhfJ7HiAY3zmqazPa",
      "include_colab_link": true
    },
    "kernelspec": {
      "name": "python3",
      "display_name": "Python 3"
    },
    "language_info": {
      "name": "python"
    }
  },
  "cells": [
    {
      "cell_type": "markdown",
      "metadata": {
        "id": "view-in-github",
        "colab_type": "text"
      },
      "source": [
        "<a href=\"https://colab.research.google.com/github/ManishKr19/Innomatics-Research-Labs/blob/main/Task_2_(For_Advance_Python_Programmers).ipynb\" target=\"_parent\"><img src=\"https://colab.research.google.com/assets/colab-badge.svg\" alt=\"Open In Colab\"/></a>"
      ]
    },
    {
      "cell_type": "markdown",
      "metadata": {
        "id": "aqW6XaZRH17Z"
      },
      "source": [
        "# **Task - 2 (For Advance Python Programmers)**"
      ]
    },
    {
      "cell_type": "markdown",
      "metadata": {
        "id": "gZX3CseiICrH"
      },
      "source": [
        "***Defanging an IP Address***"
      ]
    },
    {
      "cell_type": "code",
      "metadata": {
        "colab": {
          "base_uri": "https://localhost:8080/"
        },
        "id": "F9wZ1OlqIWgg",
        "outputId": "83580eb3-77ec-41c0-b448-64c4364ac866"
      },
      "source": [
        "class Solution:\n",
        "    def defangIPaddr(self, address):\n",
        "        return(address.replace('.','[.]'))\n",
        "\n",
        "s = Solution()\n",
        "print(s.defangIPaddr(\"1.1.1.1\"))"
      ],
      "execution_count": 6,
      "outputs": [
        {
          "output_type": "stream",
          "name": "stdout",
          "text": [
            "1[.]1[.]1[.]1\n"
          ]
        }
      ]
    },
    {
      "cell_type": "markdown",
      "metadata": {
        "id": "R2p7NoqqIGp4"
      },
      "source": [
        "***Find Numbers with Even Number of Digits***"
      ]
    },
    {
      "cell_type": "code",
      "metadata": {
        "colab": {
          "base_uri": "https://localhost:8080/"
        },
        "id": "CMg88baUIXao",
        "outputId": "bba667d7-a820-415d-f8ab-5c6975af6c82"
      },
      "source": [
        "class Solution:\n",
        "    def findNumbers(self, nums):\n",
        "        count=0\n",
        "        for i in nums:\n",
        "            if len(str(i))%2==0:\n",
        "                count+=1\n",
        "        return count\n",
        "\n",
        "s = Solution()\n",
        "print(s.findNumbers([12,345,2,6,7896]))"
      ],
      "execution_count": 5,
      "outputs": [
        {
          "output_type": "stream",
          "name": "stdout",
          "text": [
            "2\n"
          ]
        }
      ]
    },
    {
      "cell_type": "markdown",
      "metadata": {
        "id": "edwVo1JxIG2i"
      },
      "source": [
        "***Number of Good Pairs***"
      ]
    },
    {
      "cell_type": "code",
      "metadata": {
        "colab": {
          "base_uri": "https://localhost:8080/"
        },
        "id": "TyLioqxAIYO8",
        "outputId": "abc7565a-bcc1-4583-c8a4-8b83d59086f8"
      },
      "source": [
        "class Solution:\n",
        "    def numIdenticalPairs(self, nums):\n",
        "        tmp = [nums.count(i) for i in set(nums)]\n",
        "        res=0\n",
        "        for i in tmp:\n",
        "            res += (i*(i-1))//2\n",
        "        return res\n",
        "\n",
        "s = Solution()\n",
        "print(s.numIdenticalPairs([1,1,2,3,1,3]))"
      ],
      "execution_count": 8,
      "outputs": [
        {
          "output_type": "stream",
          "name": "stdout",
          "text": [
            "4\n"
          ]
        }
      ]
    },
    {
      "cell_type": "markdown",
      "metadata": {
        "id": "lvW09AW0IOfY"
      },
      "source": [
        "***How Many Numbers Are Smaller Than the Current Number***"
      ]
    },
    {
      "cell_type": "code",
      "metadata": {
        "colab": {
          "base_uri": "https://localhost:8080/"
        },
        "id": "0kLkzCjUIZGS",
        "outputId": "66877b57-1581-4ae5-d215-edf1ddcac2d0"
      },
      "source": [
        "class Solution:\n",
        "    def smallerNumbersThanCurrent(self, nums):\n",
        "        t = sorted(nums)\n",
        "        return [t.index(i) for i in nums]\n",
        "\n",
        "s = Solution()\n",
        "print(s.smallerNumbersThanCurrent([1,1,2,3,1,3]))"
      ],
      "execution_count": 9,
      "outputs": [
        {
          "output_type": "stream",
          "name": "stdout",
          "text": [
            "[0, 0, 3, 4, 0, 4]\n"
          ]
        }
      ]
    },
    {
      "cell_type": "markdown",
      "metadata": {
        "id": "ikbg678oIOqY"
      },
      "source": [
        "***Subtract the Product and Sum of Digits of an Integer***"
      ]
    },
    {
      "cell_type": "code",
      "metadata": {
        "colab": {
          "base_uri": "https://localhost:8080/"
        },
        "id": "w8qOp6ASIZ4-",
        "outputId": "75210257-b85b-43e1-b5fd-22109e78af89"
      },
      "source": [
        "import numpy as np\n",
        "class Solution:\n",
        "    def subtractProductAndSum(self, num):\n",
        "        p = [int(i) for i in str(num)]\n",
        "        return(np.prod(p) - sum(p))\n",
        "\n",
        "s = Solution()\n",
        "print(s.subtractProductAndSum( int(input()) ))       "
      ],
      "execution_count": 11,
      "outputs": [
        {
          "output_type": "stream",
          "name": "stdout",
          "text": [
            "1234\n",
            "14\n"
          ]
        }
      ]
    },
    {
      "cell_type": "markdown",
      "metadata": {
        "id": "feFTe0npIOzb"
      },
      "source": [
        "***XOR Operation in an Array***"
      ]
    },
    {
      "cell_type": "code",
      "metadata": {
        "colab": {
          "base_uri": "https://localhost:8080/"
        },
        "id": "5sJguUc0Hy9a",
        "outputId": "0b96f95f-237c-4a1c-8829-57603093ee23"
      },
      "source": [
        "import numpy as np\n",
        "class Solution:\n",
        "    def xorOperation(self, n, start):\n",
        "        tmp = [(start + 2*i) for i in range(n)]\n",
        "        val = 0\n",
        "        for i in tmp:\n",
        "            val ^= i \n",
        "        return val\n",
        "\n",
        "s = Solution()\n",
        "print(s.xorOperation( int(input()), int(input()) ))     "
      ],
      "execution_count": 12,
      "outputs": [
        {
          "output_type": "stream",
          "name": "stdout",
          "text": [
            "4\n",
            "3\n",
            "8\n"
          ]
        }
      ]
    },
    {
      "cell_type": "code",
      "metadata": {
        "id": "dqDwTNDuR52i"
      },
      "source": [
        ""
      ],
      "execution_count": null,
      "outputs": []
    }
  ]
}