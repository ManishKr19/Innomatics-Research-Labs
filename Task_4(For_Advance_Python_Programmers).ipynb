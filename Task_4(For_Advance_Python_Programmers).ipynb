{
  "nbformat": 4,
  "nbformat_minor": 0,
  "metadata": {
    "colab": {
      "name": "Task - 4(For Advance Python Programmers).ipynb",
      "provenance": [],
      "collapsed_sections": [],
      "authorship_tag": "ABX9TyOG8Im3KksmioTMcNMkayFh",
      "include_colab_link": true
    },
    "kernelspec": {
      "name": "python3",
      "display_name": "Python 3"
    },
    "language_info": {
      "name": "python"
    }
  },
  "cells": [
    {
      "cell_type": "markdown",
      "metadata": {
        "id": "view-in-github",
        "colab_type": "text"
      },
      "source": [
        "<a href=\"https://colab.research.google.com/github/ManishKr19/Innomatics-Research-Labs/blob/main/Task_4(For_Advance_Python_Programmers).ipynb\" target=\"_parent\"><img src=\"https://colab.research.google.com/assets/colab-badge.svg\" alt=\"Open In Colab\"/></a>"
      ]
    },
    {
      "cell_type": "markdown",
      "metadata": {
        "id": "aqW6XaZRH17Z"
      },
      "source": [
        "# **Task - 4 (For Advance Python Programmers)**"
      ]
    },
    {
      "cell_type": "markdown",
      "metadata": {
        "id": "gZX3CseiICrH"
      },
      "source": [
        "***Single Number***"
      ]
    },
    {
      "cell_type": "code",
      "metadata": {
        "colab": {
          "base_uri": "https://localhost:8080/"
        },
        "id": "F9wZ1OlqIWgg",
        "outputId": "86b4c2ef-1357-43af-99c7-a1f6f382362b"
      },
      "source": [
        "class Solution:\n",
        "    def singleNumber(self, nums):\n",
        "        for i in set(nums):\n",
        "            if nums.count(i)==1:\n",
        "                return i\n",
        "\n",
        "s = Solution()\n",
        "print(s.singleNumber([4,1,2,2,1,3]))"
      ],
      "execution_count": 1,
      "outputs": [
        {
          "output_type": "stream",
          "name": "stdout",
          "text": [
            "3\n"
          ]
        }
      ]
    },
    {
      "cell_type": "markdown",
      "metadata": {
        "id": "R2p7NoqqIGp4"
      },
      "source": [
        "***Sort Integers by The Number of 1 Bits***"
      ]
    },
    {
      "cell_type": "code",
      "metadata": {
        "colab": {
          "base_uri": "https://localhost:8080/"
        },
        "id": "CMg88baUIXao",
        "outputId": "1d2f389f-f77b-4c8f-ca21-f2490ce88f35"
      },
      "source": [
        "class Solution:\n",
        "    def sortByBits(self, arr):\n",
        "        res = {}\n",
        "        for i in sorted(arr):\n",
        "            res[i] = str(bin(i)).count('1')\n",
        "            \n",
        "        res = dict(sorted(res.items(), key=lambda kv: kv[1]))\n",
        "        \n",
        "        test = res.keys()\n",
        "        if len(arr) == len(test):\n",
        "          return test\n",
        "        else:\n",
        "          return arr\n",
        "\n",
        "s = Solution()\n",
        "print(s.sortByBits([4,1,8,2,16,3]))"
      ],
      "execution_count": 2,
      "outputs": [
        {
          "output_type": "stream",
          "name": "stdout",
          "text": [
            "dict_keys([1, 2, 4, 8, 16, 3])\n"
          ]
        }
      ]
    },
    {
      "cell_type": "code",
      "metadata": {
        "id": "VCYr7_hCk-_4"
      },
      "source": [
        "standard_code = \"\"\"class Solution:\n",
        "    def countBits(self, n):\n",
        "        count = 0\n",
        "        while n:\n",
        "            n &= n - 1\n",
        "            count += 1    \n",
        "        return count\n",
        "        \n",
        "    def sortByBits(self, arr: List[int]) -> List[int]:\n",
        "        d = {}\n",
        "        arr.sort()\n",
        "        for num in arr:\n",
        "            bits = self.countBits(num)\n",
        "            if d.get(bits):\n",
        "                d[bits].append(num)\n",
        "            else:\n",
        "                d[bits] = [num]\n",
        "        ans = []\n",
        "        for i in range(15):\n",
        "            if d.get(i):\n",
        "                ans += d[i]    \n",
        "        return ans\n",
        "\"\"\""
      ],
      "execution_count": 3,
      "outputs": []
    },
    {
      "cell_type": "markdown",
      "metadata": {
        "id": "edwVo1JxIG2i"
      },
      "source": [
        "***Single Number III***"
      ]
    },
    {
      "cell_type": "code",
      "metadata": {
        "colab": {
          "base_uri": "https://localhost:8080/"
        },
        "id": "TyLioqxAIYO8",
        "outputId": "abc51555-34f4-4f44-d95f-711f7f0e8947"
      },
      "source": [
        "class Solution:\n",
        "    def singleNumber(self, nums):\n",
        "        res = []\n",
        "        for it in set(nums):\n",
        "            if nums.count(it) == 1:\n",
        "                res.append(it)\n",
        "        return res\n",
        "\n",
        "s = Solution()\n",
        "print(s.singleNumber([1,2,1,3,2,5]))"
      ],
      "execution_count": 4,
      "outputs": [
        {
          "output_type": "stream",
          "name": "stdout",
          "text": [
            "[3, 5]\n"
          ]
        }
      ]
    },
    {
      "cell_type": "markdown",
      "metadata": {
        "id": "lvW09AW0IOfY"
      },
      "source": [
        "***Subsets***"
      ]
    },
    {
      "cell_type": "code",
      "metadata": {
        "colab": {
          "base_uri": "https://localhost:8080/"
        },
        "id": "0kLkzCjUIZGS",
        "outputId": "f43359ca-6c27-4c6a-be66-c78523c852cc"
      },
      "source": [
        "class Solution:\n",
        "    def subsets(self, nums):\n",
        "        res = []\n",
        "        for i in range(1 << len(nums)):\n",
        "            res.append([nums[j] for j in range(len(nums)) if (i & (1 << j))])\n",
        "        return res\n",
        "\n",
        "s = Solution()\n",
        "print(s.subsets([1,2,1,4]))"
      ],
      "execution_count": 5,
      "outputs": [
        {
          "output_type": "stream",
          "name": "stdout",
          "text": [
            "[[], [1], [2], [1, 2], [1], [1, 1], [2, 1], [1, 2, 1], [4], [1, 4], [2, 4], [1, 2, 4], [1, 4], [1, 1, 4], [2, 1, 4], [1, 2, 1, 4]]\n"
          ]
        }
      ]
    },
    {
      "cell_type": "code",
      "metadata": {
        "id": "7oER8ZO3osrA"
      },
      "source": [
        ""
      ],
      "execution_count": 5,
      "outputs": []
    }
  ]
}