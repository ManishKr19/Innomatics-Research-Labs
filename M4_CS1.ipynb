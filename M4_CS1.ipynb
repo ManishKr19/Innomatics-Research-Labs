{
  "nbformat": 4,
  "nbformat_minor": 0,
  "metadata": {
    "kernelspec": {
      "display_name": "Python 3",
      "language": "python",
      "name": "python3"
    },
    "language_info": {
      "codemirror_mode": {
        "name": "ipython",
        "version": 3
      },
      "file_extension": ".py",
      "mimetype": "text/x-python",
      "name": "python",
      "nbconvert_exporter": "python",
      "pygments_lexer": "ipython3",
      "version": "3.6.3"
    },
    "colab": {
      "name": "M4_CS1.ipynb",
      "provenance": [],
      "collapsed_sections": [],
      "include_colab_link": true
    }
  },
  "cells": [
    {
      "cell_type": "markdown",
      "metadata": {
        "id": "view-in-github",
        "colab_type": "text"
      },
      "source": [
        "<a href=\"https://colab.research.google.com/github/ManishKr19/Innomatics-Research-Labs/blob/main/M4_CS1.ipynb\" target=\"_parent\"><img src=\"https://colab.research.google.com/assets/colab-badge.svg\" alt=\"Open In Colab\"/></a>"
      ]
    },
    {
      "cell_type": "markdown",
      "metadata": {
        "id": "XLR5ArAOn9g_"
      },
      "source": [
        "**1. Extract data from the givenSalaryGender CSV file and store the data from each column in a separate NumPy array**"
      ]
    },
    {
      "cell_type": "code",
      "metadata": {
        "collapsed": true,
        "id": "ZXMcCp4Hn9hD"
      },
      "source": [
        "import pandas as pd\n",
        "import matplotlib.pyplot as plt\n",
        "%matplotlib inline \n",
        "import numpy as np\n",
        "import seaborn as sns"
      ],
      "execution_count": 32,
      "outputs": []
    },
    {
      "cell_type": "code",
      "metadata": {
        "collapsed": true,
        "id": "qg5AfQpCn9hD"
      },
      "source": [
        "salary = pd.read_csv(r\"/content/SalaryGender.csv\")"
      ],
      "execution_count": 2,
      "outputs": []
    },
    {
      "cell_type": "code",
      "metadata": {
        "collapsed": true,
        "id": "GWw4-bbZn9hE"
      },
      "source": [
        "salary_array = np.array(salary['Salary'])\n",
        "gender_array = np.array(salary['Gender'])\n",
        "age_array = np.array(salary['Age'])\n",
        "phd_array = np.array(salary['PhD'])"
      ],
      "execution_count": 3,
      "outputs": []
    },
    {
      "cell_type": "markdown",
      "metadata": {
        "id": "qJth9-eEn9hE"
      },
      "source": [
        "**2.a. The number of men with a PhD2.<br>\n",
        "2.b. The number of women with a PhD**"
      ]
    },
    {
      "cell_type": "code",
      "metadata": {
        "colab": {
          "base_uri": "https://localhost:8080/",
          "height": 0
        },
        "id": "tsVRCwdEn9hE",
        "outputId": "7a5f7884-2361-4d95-8689-48560d298a81"
      },
      "source": [
        "mp = len(salary[(salary[\"Gender\"] == 1) & (salary[\"PhD\"] == 1)])\n",
        "wp = len(salary[(salary[\"Gender\"] == 0) & (salary[\"PhD\"] == 1)])\n",
        "print(f\"The number of men with a PhD are: {mp},\\nand  {wp} women have Phd!\")"
      ],
      "execution_count": 4,
      "outputs": [
        {
          "output_type": "stream",
          "name": "stdout",
          "text": [
            "The number of men with a PhD are: 24,\n",
            "and  15 women have Phd!\n"
          ]
        }
      ]
    },
    {
      "cell_type": "markdown",
      "metadata": {
        "id": "iJ9fai-Dn9hF"
      },
      "source": [
        "**3. Use SalaryGender CSV file. Store the “Age” and “PhD” columns in one DataFrame and delete the data of all people who don’t have a PhD.**"
      ]
    },
    {
      "cell_type": "code",
      "metadata": {
        "collapsed": true,
        "id": "B5OSsviPn9hL"
      },
      "source": [
        "p3 = salary[salary[\"PhD\"] == 1][[\"Age\", \"PhD\"]]"
      ],
      "execution_count": 5,
      "outputs": []
    },
    {
      "cell_type": "markdown",
      "metadata": {
        "id": "SBKZ6lb2n9hL"
      },
      "source": [
        "**4. Calculate the total number of people who have a PhD degreefrom SalaryGender CSV file.**"
      ]
    },
    {
      "cell_type": "code",
      "metadata": {
        "colab": {
          "base_uri": "https://localhost:8080/",
          "height": 0
        },
        "id": "fhEII4hCn9hL",
        "outputId": "966bad71-234d-4bed-aba2-67d25fdb764f"
      },
      "source": [
        "len(salary[salary[\"PhD\"] == 1])"
      ],
      "execution_count": 6,
      "outputs": [
        {
          "output_type": "execute_result",
          "data": {
            "text/plain": [
              "39"
            ]
          },
          "metadata": {},
          "execution_count": 6
        }
      ]
    },
    {
      "cell_type": "markdown",
      "metadata": {
        "id": "6RSl_bYWn9hM"
      },
      "source": [
        "**5.How  do  you  Count  The  Number  Of  Times  Each  Value  Appears  In  An  Array  Of Integers?**\n",
        "\n",
        "        arr = [0, 5, 4, 0, 4, 4, 3, 0, 0, 5, 2, 1, 1, 9]\n",
        "\n",
        "**Answer:**\n",
        "      \n",
        "        count = [4, 2, 1, 1, 3, 2, 0, 0, 0, 1]\n",
        "_which means_\n",
        "    \n",
        "\n",
        "*   0 comes 4 times,\n",
        "*   1 comes 2 times,\n",
        "*   2 comes 1 time, \n",
        "*   3 comes 1 time and so on.\n",
        "    \n"
      ]
    },
    {
      "cell_type": "code",
      "metadata": {
        "collapsed": true,
        "colab": {
          "base_uri": "https://localhost:8080/",
          "height": 0
        },
        "id": "ITOlYZhDn9hM",
        "outputId": "35203814-8e8b-4f1f-bde6-7c7e34718c72"
      },
      "source": [
        "from collections import Counter\n",
        "a = np.array([0, 5, 4, 0, 4, 4, 3, 0, 0, 5, 2, 1, 1, 9])\n",
        "counter = Counter(a)\n",
        "for key in counter:\n",
        "    print(f\"{key} comes {counter[key]} times!\")"
      ],
      "execution_count": 10,
      "outputs": [
        {
          "output_type": "stream",
          "name": "stdout",
          "text": [
            "0 comes 4 times!\n",
            "5 comes 2 times!\n",
            "4 comes 3 times!\n",
            "3 comes 1 times!\n",
            "2 comes 1 times!\n",
            "1 comes 2 times!\n",
            "9 comes 1 times!\n"
          ]
        }
      ]
    },
    {
      "cell_type": "markdown",
      "metadata": {
        "collapsed": true,
        "id": "c-T_nLpIn9hN"
      },
      "source": [
        "**6. Create a numpyarray [[0, 1, 2],[ 3, 4, 5],[ 6, 7, 8],[ 9,10, 11]]) and filter the elements greater than 5.**"
      ]
    },
    {
      "cell_type": "code",
      "metadata": {
        "collapsed": true,
        "colab": {
          "base_uri": "https://localhost:8080/",
          "height": 0
        },
        "id": "i__FKaTzn9hN",
        "outputId": "9a1108fc-c91e-4652-b0e8-3197b66ffb19"
      },
      "source": [
        "a = np.reshape(np.array(range(12)), (4,3))\n",
        "print(f\"Elements greater than 5 from arrat a will be: {a[a>5]}\")"
      ],
      "execution_count": 11,
      "outputs": [
        {
          "output_type": "stream",
          "name": "stdout",
          "text": [
            "Elements greater than 5 from arrat a will be: [ 6  7  8  9 10 11]\n"
          ]
        }
      ]
    },
    {
      "cell_type": "markdown",
      "metadata": {
        "id": "D7cg_5mUn9hO"
      },
      "source": [
        "**7. Create a numpy array having NaN (Not a Number) and print it.**\n",
        "    \n",
        "        array([ nan, 1., 2., nan, 3., 4., 5.])\n",
        "\n",
        "  ***Print the same array omitting all elements which are nan.***"
      ]
    },
    {
      "cell_type": "code",
      "metadata": {
        "collapsed": true,
        "colab": {
          "base_uri": "https://localhost:8080/",
          "height": 0
        },
        "id": "z_02Tytdn9hO",
        "outputId": "15ca3ad5-9100-4b3b-a685-2a3fd91d5fec"
      },
      "source": [
        "nan = np.nan\n",
        "a = np.array([nan, 1., 2., nan, 3., 4., 5.])\n",
        "print(f\"array element excepts all nan: {a[np.logical_not(np.isnan(a))]}\")"
      ],
      "execution_count": 12,
      "outputs": [
        {
          "output_type": "stream",
          "name": "stdout",
          "text": [
            "array element excepts all nan: [1. 2. 3. 4. 5.]\n"
          ]
        }
      ]
    },
    {
      "cell_type": "markdown",
      "metadata": {
        "id": "eU5znbK2n9hO"
      },
      "source": [
        "**8. Create  a  10x10  array  with  random  values  and  find  the  minimum  and  maximum values**"
      ]
    },
    {
      "cell_type": "code",
      "metadata": {
        "collapsed": true,
        "colab": {
          "base_uri": "https://localhost:8080/",
          "height": 0
        },
        "id": "jAznibW7n9hP",
        "outputId": "1f18b56c-477b-4c64-97cb-36079ccea307"
      },
      "source": [
        "a = np.reshape(np.random.rand(100), (10,10))\n",
        "print(f\"Min of random {np.shape(a)} array is: {np.min(a)}, whereas the maximum value would be: {np.max(a)}\")"
      ],
      "execution_count": 13,
      "outputs": [
        {
          "output_type": "stream",
          "name": "stdout",
          "text": [
            "Min of random (10, 10) array is: 0.014898379330935851, whereas the maximum value would be: 0.9760803479563493\n"
          ]
        }
      ]
    },
    {
      "cell_type": "markdown",
      "metadata": {
        "id": "xMT_TSCtn9hP"
      },
      "source": [
        "**9. Create a random vector of size 30 and find the mean value.**\n"
      ]
    },
    {
      "cell_type": "code",
      "metadata": {
        "colab": {
          "base_uri": "https://localhost:8080/",
          "height": 0
        },
        "id": "LhepYcLan9hP",
        "outputId": "aa19a0dc-46e1-4e1c-d611-645bb2cda131"
      },
      "source": [
        "a = np.random.rand(30)\n",
        "print(f\"Mean value of random {np.shape(a)} array is: {np.mean(a)}\")"
      ],
      "execution_count": 14,
      "outputs": [
        {
          "output_type": "stream",
          "name": "stdout",
          "text": [
            "Mean value of random (30,) array is: 0.43654416890296444\n"
          ]
        }
      ]
    },
    {
      "cell_type": "markdown",
      "metadata": {
        "id": "co4kFAr_n9hQ"
      },
      "source": [
        "**10.Create numpy array having elements 0 to 10 And negate all the elements between 3 and 9.**"
      ]
    },
    {
      "cell_type": "code",
      "metadata": {
        "colab": {
          "base_uri": "https://localhost:8080/",
          "height": 0
        },
        "id": "kDkh3_xPn9hQ",
        "outputId": "de7e08dd-221a-43d2-d9ab-55de499bdd55"
      },
      "source": [
        "a = np.array(range(10))\n",
        "print(f\"Negating all the elements ranging between 3 and 9: {a[np.logical_and(a > 3, a <9)]}\")"
      ],
      "execution_count": 15,
      "outputs": [
        {
          "output_type": "stream",
          "name": "stdout",
          "text": [
            "Negating all the elements ranging between 3 and 9: [4 5 6 7 8]\n"
          ]
        }
      ]
    },
    {
      "cell_type": "markdown",
      "metadata": {
        "id": "KJPc9VAVn9hQ"
      },
      "source": [
        "**11.Create a random array of 3 rows and 3 columns and sort it according to 1stcolumn, 2ndcolumn or 3rdcolumn.**"
      ]
    },
    {
      "cell_type": "code",
      "metadata": {
        "collapsed": true,
        "colab": {
          "base_uri": "https://localhost:8080/",
          "height": 0
        },
        "id": "NYump5vXn9hR",
        "outputId": "ed221d70-e9bc-40c1-d71b-351609311d34"
      },
      "source": [
        "a = np.reshape(np.random.rand(9), (3,3))\n",
        "def sortByCols(a, col):\n",
        "    return sorted(a, key = lambda x: x[col-1])\n",
        "## We can pass the col as 1, 2, or 3\n",
        "sortByCols(a, 2)"
      ],
      "execution_count": 16,
      "outputs": [
        {
          "output_type": "execute_result",
          "data": {
            "text/plain": [
              "[array([0.46143466, 0.08147059, 0.58041799]),\n",
              " array([0.64433469, 0.29931426, 0.11886551]),\n",
              " array([0.16090904, 0.76193821, 0.79215518])]"
            ]
          },
          "metadata": {},
          "execution_count": 16
        }
      ]
    },
    {
      "cell_type": "markdown",
      "metadata": {
        "id": "uVBs0dscn9hR"
      },
      "source": [
        "**12.Create a four dimensions array get sum over the last two axis at once.**"
      ]
    },
    {
      "cell_type": "code",
      "metadata": {
        "collapsed": true,
        "colab": {
          "base_uri": "https://localhost:8080/",
          "height": 0
        },
        "id": "ZGN7RrZEn9hR",
        "outputId": "3470ce95-bd16-47f9-e49e-680b13670462"
      },
      "source": [
        "a = np.reshape(np.array(range(2*3*4*5)), (2, 3, 4, 5))\n",
        "np.sum(a, (-2,-1))\n"
      ],
      "execution_count": 17,
      "outputs": [
        {
          "output_type": "execute_result",
          "data": {
            "text/plain": [
              "array([[ 190,  590,  990],\n",
              "       [1390, 1790, 2190]])"
            ]
          },
          "metadata": {},
          "execution_count": 17
        }
      ]
    },
    {
      "cell_type": "markdown",
      "metadata": {
        "id": "7gU3htKkn9hS"
      },
      "source": [
        "**13.Create a random array and swap two rows of an array.**"
      ]
    },
    {
      "cell_type": "code",
      "metadata": {
        "collapsed": true,
        "colab": {
          "base_uri": "https://localhost:8080/",
          "height": 0
        },
        "id": "EkJKBsCNn9hS",
        "outputId": "e29e92d1-ec1c-4e01-afb1-c23e3e1591c7"
      },
      "source": [
        "a = np.reshape(np.array(range(30)), (5,6))\n",
        "\n",
        "def swapRows(a, x, y):\n",
        "    temp = np.copy(a[x-1])\n",
        "    a[x-1] = np.copy(a[y-1])\n",
        "    a[y-1] = np.copy(temp)\n",
        "    return a\n",
        "\n",
        "swapRows(a, 1, 4)\n"
      ],
      "execution_count": 19,
      "outputs": [
        {
          "output_type": "execute_result",
          "data": {
            "text/plain": [
              "array([[18, 19, 20, 21, 22, 23],\n",
              "       [ 6,  7,  8,  9, 10, 11],\n",
              "       [12, 13, 14, 15, 16, 17],\n",
              "       [ 0,  1,  2,  3,  4,  5],\n",
              "       [24, 25, 26, 27, 28, 29]])"
            ]
          },
          "metadata": {},
          "execution_count": 19
        }
      ]
    },
    {
      "cell_type": "markdown",
      "metadata": {
        "id": "QA-rGCk5tjta"
      },
      "source": [
        "**14.Create a randommatrix and Compute a matrix rank.**"
      ]
    },
    {
      "cell_type": "code",
      "metadata": {
        "colab": {
          "base_uri": "https://localhost:8080/",
          "height": 0
        },
        "id": "d-43WEZPn9hS",
        "outputId": "ac0564f6-dffe-44b2-8506-1e28d1273848"
      },
      "source": [
        "my_matrix = np.array([[1, 2, 1], [3, 4, 7], [3, 6, 3]])\n",
        "rank = np.linalg.matrix_rank(my_matrix)\n",
        "print(\"Rank of the given Matrix is : \",rank)"
      ],
      "execution_count": 20,
      "outputs": [
        {
          "output_type": "stream",
          "name": "stdout",
          "text": [
            "Rank of the given Matrix is :  2\n"
          ]
        }
      ]
    },
    {
      "cell_type": "markdown",
      "metadata": {
        "id": "ZakTq8tAuU30"
      },
      "source": [
        "#### **15.Analyse  various  school  outcomes  in  Tennessee  using  pandas.** \n",
        "\n",
        "Suppose  you  are  a public   schooladministrator. Some   schools   in   your   state   of   Tennessee   are performing  below  average  academically.\n",
        "Your  superintendent,  under  pressure from frustrated parents and voters, approached you with the task of understanding why  these  schools  are  under-performing.\n",
        "\n",
        "To  improve  school  performance,  you need to learn more about these schools and their students, just as a business needs to understand its own strengths and weaknesses and its customers. Though you is eager  to  build  an  impressive  explanatory  model,  you  knowthe  importance  of conducting  preliminary  research  to  prevent  possible  pitfalls  orblind  spots.\n",
        "\n",
        "Thus, you engages in a thorough exploratory analysis, which includes: a lit review, data collection, descriptive and inferential statistics, and data visualization."
      ]
    },
    {
      "cell_type": "markdown",
      "metadata": {
        "id": "sGsTUe8bvVSs"
      },
      "source": [
        "**Phase 1 -Data Collection**\n",
        "  - Read the data in pandas data frame\n",
        "  - Describe the data to find more details"
      ]
    },
    {
      "cell_type": "code",
      "metadata": {
        "colab": {
          "base_uri": "https://localhost:8080/",
          "height": 206
        },
        "id": "CZ9i0deVuwOK",
        "outputId": "cdde5fc5-84f9-47cf-c486-31d6451b5300"
      },
      "source": [
        "df = pd.read_csv(r\"/content/middle_tn_schools.csv\")\n",
        "df.head()"
      ],
      "execution_count": 23,
      "outputs": [
        {
          "output_type": "execute_result",
          "data": {
            "text/html": [
              "<div>\n",
              "<style scoped>\n",
              "    .dataframe tbody tr th:only-of-type {\n",
              "        vertical-align: middle;\n",
              "    }\n",
              "\n",
              "    .dataframe tbody tr th {\n",
              "        vertical-align: top;\n",
              "    }\n",
              "\n",
              "    .dataframe thead th {\n",
              "        text-align: right;\n",
              "    }\n",
              "</style>\n",
              "<table border=\"1\" class=\"dataframe\">\n",
              "  <thead>\n",
              "    <tr style=\"text-align: right;\">\n",
              "      <th></th>\n",
              "      <th>name</th>\n",
              "      <th>school_rating</th>\n",
              "      <th>size</th>\n",
              "      <th>reduced_lunch</th>\n",
              "      <th>state_percentile_16</th>\n",
              "      <th>state_percentile_15</th>\n",
              "      <th>stu_teach_ratio</th>\n",
              "      <th>school_type</th>\n",
              "      <th>avg_score_15</th>\n",
              "      <th>avg_score_16</th>\n",
              "      <th>full_time_teachers</th>\n",
              "      <th>percent_black</th>\n",
              "      <th>percent_white</th>\n",
              "      <th>percent_asian</th>\n",
              "      <th>percent_hispanic</th>\n",
              "    </tr>\n",
              "  </thead>\n",
              "  <tbody>\n",
              "    <tr>\n",
              "      <th>0</th>\n",
              "      <td>Allendale Elementary School</td>\n",
              "      <td>5.0</td>\n",
              "      <td>851.0</td>\n",
              "      <td>10.0</td>\n",
              "      <td>90.2</td>\n",
              "      <td>95.8</td>\n",
              "      <td>15.7</td>\n",
              "      <td>Public</td>\n",
              "      <td>89.4</td>\n",
              "      <td>85.2</td>\n",
              "      <td>54.0</td>\n",
              "      <td>2.9</td>\n",
              "      <td>85.5</td>\n",
              "      <td>1.6</td>\n",
              "      <td>5.6</td>\n",
              "    </tr>\n",
              "    <tr>\n",
              "      <th>1</th>\n",
              "      <td>Anderson Elementary</td>\n",
              "      <td>2.0</td>\n",
              "      <td>412.0</td>\n",
              "      <td>71.0</td>\n",
              "      <td>32.8</td>\n",
              "      <td>37.3</td>\n",
              "      <td>12.8</td>\n",
              "      <td>Public</td>\n",
              "      <td>43.0</td>\n",
              "      <td>38.3</td>\n",
              "      <td>32.0</td>\n",
              "      <td>3.9</td>\n",
              "      <td>86.7</td>\n",
              "      <td>1.0</td>\n",
              "      <td>4.9</td>\n",
              "    </tr>\n",
              "    <tr>\n",
              "      <th>2</th>\n",
              "      <td>Avoca Elementary</td>\n",
              "      <td>4.0</td>\n",
              "      <td>482.0</td>\n",
              "      <td>43.0</td>\n",
              "      <td>78.4</td>\n",
              "      <td>83.6</td>\n",
              "      <td>16.6</td>\n",
              "      <td>Public</td>\n",
              "      <td>75.7</td>\n",
              "      <td>73.0</td>\n",
              "      <td>29.0</td>\n",
              "      <td>1.0</td>\n",
              "      <td>91.5</td>\n",
              "      <td>1.2</td>\n",
              "      <td>4.4</td>\n",
              "    </tr>\n",
              "    <tr>\n",
              "      <th>3</th>\n",
              "      <td>Bailey Middle</td>\n",
              "      <td>0.0</td>\n",
              "      <td>394.0</td>\n",
              "      <td>91.0</td>\n",
              "      <td>1.6</td>\n",
              "      <td>1.0</td>\n",
              "      <td>13.1</td>\n",
              "      <td>Public Magnet</td>\n",
              "      <td>2.1</td>\n",
              "      <td>4.4</td>\n",
              "      <td>30.0</td>\n",
              "      <td>80.7</td>\n",
              "      <td>11.7</td>\n",
              "      <td>2.3</td>\n",
              "      <td>4.3</td>\n",
              "    </tr>\n",
              "    <tr>\n",
              "      <th>4</th>\n",
              "      <td>Barfield Elementary</td>\n",
              "      <td>4.0</td>\n",
              "      <td>948.0</td>\n",
              "      <td>26.0</td>\n",
              "      <td>85.3</td>\n",
              "      <td>89.2</td>\n",
              "      <td>14.8</td>\n",
              "      <td>Public</td>\n",
              "      <td>81.3</td>\n",
              "      <td>79.6</td>\n",
              "      <td>64.0</td>\n",
              "      <td>11.8</td>\n",
              "      <td>71.2</td>\n",
              "      <td>7.1</td>\n",
              "      <td>6.0</td>\n",
              "    </tr>\n",
              "  </tbody>\n",
              "</table>\n",
              "</div>"
            ],
            "text/plain": [
              "                          name  school_rating  ...  percent_asian  percent_hispanic\n",
              "0  Allendale Elementary School            5.0  ...            1.6               5.6\n",
              "1          Anderson Elementary            2.0  ...            1.0               4.9\n",
              "2             Avoca Elementary            4.0  ...            1.2               4.4\n",
              "3                Bailey Middle            0.0  ...            2.3               4.3\n",
              "4          Barfield Elementary            4.0  ...            7.1               6.0\n",
              "\n",
              "[5 rows x 15 columns]"
            ]
          },
          "metadata": {},
          "execution_count": 23
        }
      ]
    },
    {
      "cell_type": "code",
      "metadata": {
        "colab": {
          "base_uri": "https://localhost:8080/",
          "height": 0
        },
        "id": "HHH1BkEen9hT",
        "outputId": "cedd9036-4ccd-4d3d-fc69-ca8ce018b039"
      },
      "source": [
        "print(f\"{df.info()}\")\n",
        "print(\"---------------------------\")\n",
        "print(df.school_type.value_counts())"
      ],
      "execution_count": 24,
      "outputs": [
        {
          "output_type": "stream",
          "name": "stdout",
          "text": [
            "<class 'pandas.core.frame.DataFrame'>\n",
            "RangeIndex: 347 entries, 0 to 346\n",
            "Data columns (total 15 columns):\n",
            " #   Column               Non-Null Count  Dtype  \n",
            "---  ------               --------------  -----  \n",
            " 0   name                 347 non-null    object \n",
            " 1   school_rating        347 non-null    float64\n",
            " 2   size                 347 non-null    float64\n",
            " 3   reduced_lunch        347 non-null    float64\n",
            " 4   state_percentile_16  347 non-null    float64\n",
            " 5   state_percentile_15  341 non-null    float64\n",
            " 6   stu_teach_ratio      347 non-null    float64\n",
            " 7   school_type          347 non-null    object \n",
            " 8   avg_score_15         341 non-null    float64\n",
            " 9   avg_score_16         347 non-null    float64\n",
            " 10  full_time_teachers   347 non-null    float64\n",
            " 11  percent_black        347 non-null    float64\n",
            " 12  percent_white        347 non-null    float64\n",
            " 13  percent_asian        347 non-null    float64\n",
            " 14  percent_hispanic     347 non-null    float64\n",
            "dtypes: float64(13), object(2)\n",
            "memory usage: 40.8+ KB\n",
            "None\n",
            "---------------------------\n",
            "Public            292\n",
            "Public Magnet      46\n",
            "Public Charter      8\n",
            "Public Virtual      1\n",
            "Name: school_type, dtype: int64\n"
          ]
        }
      ]
    },
    {
      "cell_type": "code",
      "metadata": {
        "colab": {
          "base_uri": "https://localhost:8080/",
          "height": 352
        },
        "id": "fHLtVG9Cn9hT",
        "outputId": "a944f840-fc07-4c43-b589-e65b594c811c"
      },
      "source": [
        "print(f\"Total records in dataframe is :{df.shape[0]}\\n\\n\")\n",
        "\n",
        "df.describe()"
      ],
      "execution_count": 28,
      "outputs": [
        {
          "output_type": "stream",
          "name": "stdout",
          "text": [
            "Total records in dataframe is :347\n",
            "\n",
            "\n"
          ]
        },
        {
          "output_type": "execute_result",
          "data": {
            "text/html": [
              "<div>\n",
              "<style scoped>\n",
              "    .dataframe tbody tr th:only-of-type {\n",
              "        vertical-align: middle;\n",
              "    }\n",
              "\n",
              "    .dataframe tbody tr th {\n",
              "        vertical-align: top;\n",
              "    }\n",
              "\n",
              "    .dataframe thead th {\n",
              "        text-align: right;\n",
              "    }\n",
              "</style>\n",
              "<table border=\"1\" class=\"dataframe\">\n",
              "  <thead>\n",
              "    <tr style=\"text-align: right;\">\n",
              "      <th></th>\n",
              "      <th>school_rating</th>\n",
              "      <th>size</th>\n",
              "      <th>reduced_lunch</th>\n",
              "      <th>state_percentile_16</th>\n",
              "      <th>state_percentile_15</th>\n",
              "      <th>stu_teach_ratio</th>\n",
              "      <th>avg_score_15</th>\n",
              "      <th>avg_score_16</th>\n",
              "      <th>full_time_teachers</th>\n",
              "      <th>percent_black</th>\n",
              "      <th>percent_white</th>\n",
              "      <th>percent_asian</th>\n",
              "      <th>percent_hispanic</th>\n",
              "    </tr>\n",
              "  </thead>\n",
              "  <tbody>\n",
              "    <tr>\n",
              "      <th>count</th>\n",
              "      <td>347.000000</td>\n",
              "      <td>347.000000</td>\n",
              "      <td>347.000000</td>\n",
              "      <td>347.000000</td>\n",
              "      <td>341.000000</td>\n",
              "      <td>347.000000</td>\n",
              "      <td>341.000000</td>\n",
              "      <td>347.000000</td>\n",
              "      <td>347.000000</td>\n",
              "      <td>347.000000</td>\n",
              "      <td>347.000000</td>\n",
              "      <td>347.000000</td>\n",
              "      <td>347.000000</td>\n",
              "    </tr>\n",
              "    <tr>\n",
              "      <th>mean</th>\n",
              "      <td>2.968300</td>\n",
              "      <td>699.472622</td>\n",
              "      <td>50.279539</td>\n",
              "      <td>58.801729</td>\n",
              "      <td>58.249267</td>\n",
              "      <td>15.461671</td>\n",
              "      <td>57.004692</td>\n",
              "      <td>57.049856</td>\n",
              "      <td>44.939481</td>\n",
              "      <td>21.197983</td>\n",
              "      <td>61.673487</td>\n",
              "      <td>2.642651</td>\n",
              "      <td>11.164553</td>\n",
              "    </tr>\n",
              "    <tr>\n",
              "      <th>std</th>\n",
              "      <td>1.690377</td>\n",
              "      <td>400.598636</td>\n",
              "      <td>25.480236</td>\n",
              "      <td>32.540747</td>\n",
              "      <td>32.702630</td>\n",
              "      <td>5.725170</td>\n",
              "      <td>26.696450</td>\n",
              "      <td>27.968974</td>\n",
              "      <td>22.053386</td>\n",
              "      <td>23.562538</td>\n",
              "      <td>27.274859</td>\n",
              "      <td>3.109629</td>\n",
              "      <td>12.030608</td>\n",
              "    </tr>\n",
              "    <tr>\n",
              "      <th>min</th>\n",
              "      <td>0.000000</td>\n",
              "      <td>53.000000</td>\n",
              "      <td>2.000000</td>\n",
              "      <td>0.200000</td>\n",
              "      <td>0.600000</td>\n",
              "      <td>4.700000</td>\n",
              "      <td>1.500000</td>\n",
              "      <td>0.100000</td>\n",
              "      <td>2.000000</td>\n",
              "      <td>0.000000</td>\n",
              "      <td>1.100000</td>\n",
              "      <td>0.000000</td>\n",
              "      <td>0.000000</td>\n",
              "    </tr>\n",
              "    <tr>\n",
              "      <th>25%</th>\n",
              "      <td>2.000000</td>\n",
              "      <td>420.500000</td>\n",
              "      <td>30.000000</td>\n",
              "      <td>30.950000</td>\n",
              "      <td>27.100000</td>\n",
              "      <td>13.700000</td>\n",
              "      <td>37.600000</td>\n",
              "      <td>37.000000</td>\n",
              "      <td>30.000000</td>\n",
              "      <td>3.600000</td>\n",
              "      <td>40.600000</td>\n",
              "      <td>0.750000</td>\n",
              "      <td>3.800000</td>\n",
              "    </tr>\n",
              "    <tr>\n",
              "      <th>50%</th>\n",
              "      <td>3.000000</td>\n",
              "      <td>595.000000</td>\n",
              "      <td>51.000000</td>\n",
              "      <td>66.400000</td>\n",
              "      <td>65.800000</td>\n",
              "      <td>15.000000</td>\n",
              "      <td>61.800000</td>\n",
              "      <td>60.700000</td>\n",
              "      <td>40.000000</td>\n",
              "      <td>13.500000</td>\n",
              "      <td>68.700000</td>\n",
              "      <td>1.600000</td>\n",
              "      <td>6.400000</td>\n",
              "    </tr>\n",
              "    <tr>\n",
              "      <th>75%</th>\n",
              "      <td>4.000000</td>\n",
              "      <td>851.000000</td>\n",
              "      <td>71.500000</td>\n",
              "      <td>88.000000</td>\n",
              "      <td>88.600000</td>\n",
              "      <td>16.700000</td>\n",
              "      <td>79.600000</td>\n",
              "      <td>80.250000</td>\n",
              "      <td>54.000000</td>\n",
              "      <td>28.350000</td>\n",
              "      <td>85.950000</td>\n",
              "      <td>3.100000</td>\n",
              "      <td>13.800000</td>\n",
              "    </tr>\n",
              "    <tr>\n",
              "      <th>max</th>\n",
              "      <td>5.000000</td>\n",
              "      <td>2314.000000</td>\n",
              "      <td>98.000000</td>\n",
              "      <td>99.800000</td>\n",
              "      <td>99.800000</td>\n",
              "      <td>111.000000</td>\n",
              "      <td>99.000000</td>\n",
              "      <td>98.900000</td>\n",
              "      <td>140.000000</td>\n",
              "      <td>97.400000</td>\n",
              "      <td>99.700000</td>\n",
              "      <td>21.100000</td>\n",
              "      <td>65.200000</td>\n",
              "    </tr>\n",
              "  </tbody>\n",
              "</table>\n",
              "</div>"
            ],
            "text/plain": [
              "       school_rating         size  ...  percent_asian  percent_hispanic\n",
              "count     347.000000   347.000000  ...     347.000000        347.000000\n",
              "mean        2.968300   699.472622  ...       2.642651         11.164553\n",
              "std         1.690377   400.598636  ...       3.109629         12.030608\n",
              "min         0.000000    53.000000  ...       0.000000          0.000000\n",
              "25%         2.000000   420.500000  ...       0.750000          3.800000\n",
              "50%         3.000000   595.000000  ...       1.600000          6.400000\n",
              "75%         4.000000   851.000000  ...       3.100000         13.800000\n",
              "max         5.000000  2314.000000  ...      21.100000         65.200000\n",
              "\n",
              "[8 rows x 13 columns]"
            ]
          },
          "metadata": {},
          "execution_count": 28
        }
      ]
    },
    {
      "cell_type": "markdown",
      "metadata": {
        "id": "L_5bi--Iv8JG"
      },
      "source": [
        "**Phase 2 -Group data by school ratings**"
      ]
    },
    {
      "cell_type": "code",
      "metadata": {
        "collapsed": true,
        "id": "POlPgxiEn9hU"
      },
      "source": [
        "dfg = df.groupby('school_rating')"
      ],
      "execution_count": 29,
      "outputs": []
    },
    {
      "cell_type": "code",
      "metadata": {
        "colab": {
          "base_uri": "https://localhost:8080/",
          "height": 282
        },
        "id": "FajiQS7Xn9hU",
        "outputId": "0f5266e3-3c37-4c66-92d5-cb0ebc8f8f07"
      },
      "source": [
        "plt.plot(dfg['size'].mean())"
      ],
      "execution_count": 33,
      "outputs": [
        {
          "output_type": "execute_result",
          "data": {
            "text/plain": [
              "[<matplotlib.lines.Line2D at 0x7f65f0328d10>]"
            ]
          },
          "metadata": {},
          "execution_count": 33
        },
        {
          "output_type": "display_data",
          "data": {
            "image/png": "[encoded data removed]",
            "text/plain": [
              "<Figure size 432x288 with 1 Axes>"
            ]
          },
          "metadata": {
            "needs_background": "light"
          }
        }
      ]
    },
    {
      "cell_type": "code",
      "metadata": {
        "collapsed": true,
        "id": "qcT6f1KCn9hU"
      },
      "source": [
        "rldf = dfg['reduced_lunch'].mean()"
      ],
      "execution_count": 34,
      "outputs": []
    },
    {
      "cell_type": "code",
      "metadata": {
        "colab": {
          "base_uri": "https://localhost:8080/",
          "height": 282
        },
        "id": "g129TRQBn9hU",
        "outputId": "2de6f415-5355-432f-e54a-815b6b40f5b4"
      },
      "source": [
        "plt.plot(rldf)"
      ],
      "execution_count": 35,
      "outputs": [
        {
          "output_type": "execute_result",
          "data": {
            "text/plain": [
              "[<matplotlib.lines.Line2D at 0x7f65ffbecf90>]"
            ]
          },
          "metadata": {},
          "execution_count": 35
        },
        {
          "output_type": "display_data",
          "data": {
            "image/png": "[encoded data removed]",
            "text/plain": [
              "<Figure size 432x288 with 1 Axes>"
            ]
          },
          "metadata": {
            "needs_background": "light"
          }
        }
      ]
    },
    {
      "cell_type": "code",
      "metadata": {
        "colab": {
          "base_uri": "https://localhost:8080/",
          "height": 0
        },
        "id": "IGJ08PzOn9hV",
        "outputId": "e4f84370-546e-472f-94b1-665f2a0e2b1d"
      },
      "source": [
        "rldf.describe()"
      ],
      "execution_count": 36,
      "outputs": [
        {
          "output_type": "execute_result",
          "data": {
            "text/plain": [
              "count     6.000000\n",
              "mean     55.948734\n",
              "std      22.930743\n",
              "min      21.602564\n",
              "25%      43.321429\n",
              "50%      57.279221\n",
              "75%      72.280682\n",
              "max      83.581395\n",
              "Name: reduced_lunch, dtype: float64"
            ]
          },
          "metadata": {},
          "execution_count": 36
        }
      ]
    },
    {
      "cell_type": "markdown",
      "metadata": {
        "id": "znzmMK-rn9hV"
      },
      "source": [
        "**Phase 3**"
      ]
    },
    {
      "cell_type": "code",
      "metadata": {
        "colab": {
          "base_uri": "https://localhost:8080/",
          "height": 112
        },
        "id": "x9Usa6CQn9hV",
        "outputId": "036ac656-633f-4ae8-9e2a-565ceb7fe08f"
      },
      "source": [
        "df.loc[:, ['reduced_lunch', 'school_rating']].corr()"
      ],
      "execution_count": 37,
      "outputs": [
        {
          "output_type": "execute_result",
          "data": {
            "text/html": [
              "<div>\n",
              "<style scoped>\n",
              "    .dataframe tbody tr th:only-of-type {\n",
              "        vertical-align: middle;\n",
              "    }\n",
              "\n",
              "    .dataframe tbody tr th {\n",
              "        vertical-align: top;\n",
              "    }\n",
              "\n",
              "    .dataframe thead th {\n",
              "        text-align: right;\n",
              "    }\n",
              "</style>\n",
              "<table border=\"1\" class=\"dataframe\">\n",
              "  <thead>\n",
              "    <tr style=\"text-align: right;\">\n",
              "      <th></th>\n",
              "      <th>reduced_lunch</th>\n",
              "      <th>school_rating</th>\n",
              "    </tr>\n",
              "  </thead>\n",
              "  <tbody>\n",
              "    <tr>\n",
              "      <th>reduced_lunch</th>\n",
              "      <td>1.000000</td>\n",
              "      <td>-0.815757</td>\n",
              "    </tr>\n",
              "    <tr>\n",
              "      <th>school_rating</th>\n",
              "      <td>-0.815757</td>\n",
              "      <td>1.000000</td>\n",
              "    </tr>\n",
              "  </tbody>\n",
              "</table>\n",
              "</div>"
            ],
            "text/plain": [
              "               reduced_lunch  school_rating\n",
              "reduced_lunch       1.000000      -0.815757\n",
              "school_rating      -0.815757       1.000000"
            ]
          },
          "metadata": {},
          "execution_count": 37
        }
      ]
    },
    {
      "cell_type": "markdown",
      "metadata": {
        "id": "DZGXCGn-n9hV"
      },
      "source": [
        "**Phase 4 - Scatter plot**"
      ]
    },
    {
      "cell_type": "code",
      "metadata": {
        "colab": {
          "base_uri": "https://localhost:8080/",
          "height": 394
        },
        "id": "QKDNJsTmn9hV",
        "outputId": "e5b409ef-aa53-4dc3-89e4-d100b40e30dd"
      },
      "source": [
        "df.plot(x = 'reduced_lunch', y = 'school_rating', c = 'size', colormap = 'viridis', kind = 'scatter', figsize = (15,6),\n",
        "       title = \"School Rating vs Reduced Li=unch\")"
      ],
      "execution_count": 38,
      "outputs": [
        {
          "output_type": "execute_result",
          "data": {
            "text/plain": [
              "<matplotlib.axes._subplots.AxesSubplot at 0x7f65efd9c210>"
            ]
          },
          "metadata": {},
          "execution_count": 38
        },
        {
          "output_type": "display_data",
          "data": {
            "image/png": "[encoded data removed]",
            "text/plain": [
              "<Figure size 1080x432 with 2 Axes>"
            ]
          },
          "metadata": {
            "needs_background": "light"
          }
        }
      ]
    },
    {
      "cell_type": "code",
      "metadata": {
        "colab": {
          "base_uri": "https://localhost:8080/",
          "height": 297
        },
        "id": "p2lNDtvGn9hV",
        "outputId": "d5968b01-6140-4416-86fe-35ada3cc3bbb"
      },
      "source": [
        "df.plot(x = 'reduced_lunch', y = 'school_rating')"
      ],
      "execution_count": 39,
      "outputs": [
        {
          "output_type": "execute_result",
          "data": {
            "text/plain": [
              "<matplotlib.axes._subplots.AxesSubplot at 0x7f65efcd1990>"
            ]
          },
          "metadata": {},
          "execution_count": 39
        },
        {
          "output_type": "display_data",
          "data": {
            "image/png": "[encoded data removed]",
            "text/plain": [
              "<Figure size 432x288 with 1 Axes>"
            ]
          },
          "metadata": {
            "needs_background": "light"
          }
        }
      ]
    },
    {
      "cell_type": "markdown",
      "metadata": {
        "id": "K88Zh03xn9hV"
      },
      "source": [
        "**Phase 5 - Correlation Matrix**"
      ]
    },
    {
      "cell_type": "code",
      "metadata": {
        "colab": {
          "base_uri": "https://localhost:8080/",
          "height": 410
        },
        "id": "eanxLXs9n9hW",
        "outputId": "ad16f400-ea16-4453-febf-febe699041b0"
      },
      "source": [
        "def plot_corr(df, size = 5):\n",
        "    corr = df.corr()\n",
        "    fig, ax = plt.subplots(figsize = (size, size))\n",
        "    ax.matshow(corr)\n",
        "    plt.xticks(range(len(corr.columns)), corr.columns, rotation=90)\n",
        "    plt.yticks(range(len(corr.columns)), corr.columns)\n",
        "\n",
        "plot_corr(df)"
      ],
      "execution_count": 45,
      "outputs": [
        {
          "output_type": "display_data",
          "data": {
            "image/png": "[encoded data removed]",
            "text/plain": [
              "<Figure size 360x360 with 1 Axes>"
            ]
          },
          "metadata": {
            "needs_background": "light"
          }
        }
      ]
    },
    {
      "cell_type": "code",
      "metadata": {
        "collapsed": true,
        "id": "YC5AtHAZn9hW"
      },
      "source": [
        ""
      ],
      "execution_count": null,
      "outputs": []
    }
  ]
}