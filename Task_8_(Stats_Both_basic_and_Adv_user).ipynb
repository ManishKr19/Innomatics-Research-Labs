{
  "nbformat": 4,
  "nbformat_minor": 0,
  "metadata": {
    "colab": {
      "name": "Task - 8 (Stats - Both basic and Adv user).ipynb",
      "provenance": [],
      "collapsed_sections": [],
      "authorship_tag": "ABX9TyPjJKmfmXRH6ygaMiRDAlf4",
      "include_colab_link": true
    },
    "kernelspec": {
      "name": "python3",
      "display_name": "Python 3"
    },
    "language_info": {
      "name": "python"
    }
  },
  "cells": [
    {
      "cell_type": "markdown",
      "metadata": {
        "id": "view-in-github",
        "colab_type": "text"
      },
      "source": [
        "<a href=\"https://colab.research.google.com/github/ManishKr19/Innomatics-Research-Labs/blob/main/Task_8_(Stats_Both_basic_and_Adv_user).ipynb\" target=\"_parent\"><img src=\"https://colab.research.google.com/assets/colab-badge.svg\" alt=\"Open In Colab\"/></a>"
      ]
    },
    {
      "cell_type": "markdown",
      "metadata": {
        "id": "x5HrAGN6Mj_m"
      },
      "source": [
        "# **Task - 8 (Stats - Both basic and Adv user)**\n",
        "\n",
        "[Document_link](https://https://docs.google.com/document/d/1GU7LgovVpmY758x5WwThywlInohbgYTC8lTo0k0VWt4/edit?usp=sharing\n",
        ")\n"
      ]
    },
    {
      "cell_type": "markdown",
      "metadata": {
        "id": "4Jfu91nFNkpg"
      },
      "source": [
        "[Day 4: Binomial Distribution I](https://www.hackerrank.com/challenges/s10-binomial-distribution-1)"
      ]
    },
    {
      "cell_type": "code",
      "metadata": {
        "colab": {
          "base_uri": "https://localhost:8080/"
        },
        "id": "M7L36DosMM3a",
        "outputId": "8130073b-8acd-48d3-e062-7ddf98350e66"
      },
      "source": [
        "def fact(n):\n",
        "    return 1 if n == 0 else n*fact(n-1)\n",
        "\n",
        "def comb(n, x):\n",
        "    return fact(n) / (fact(x) * fact(n-x))\n",
        "\n",
        "def b(x, n, p):\n",
        "    return comb(n, x) * p**x * (1-p)**(n-x)\n",
        "\n",
        "l, r = list(map(float, input().split(\" \")))\n",
        "odds = l / r\n",
        "print(round(sum([b(i, 6, odds / (1 + odds)) for i in range(3, 7)]), 3))"
      ],
      "execution_count": 1,
      "outputs": [
        {
          "output_type": "stream",
          "name": "stdout",
          "text": [
            "1.09 1\n",
            "0.696\n"
          ]
        }
      ]
    },
    {
      "cell_type": "markdown",
      "metadata": {
        "id": "pglwlVr7N05l"
      },
      "source": [
        "[Day 4: Binomial Distribution II](https://www.hackerrank.com/challenges/s10-binomial-distribution-2)"
      ]
    },
    {
      "cell_type": "code",
      "metadata": {
        "colab": {
          "base_uri": "https://localhost:8080/"
        },
        "id": "Qq7Dd0j_OXyM",
        "outputId": "447a6ca9-85d3-46c9-81ab-3919cc011511"
      },
      "source": [
        "def fact(n):\n",
        "    return 1 if n == 0 else n*fact(n-1)\n",
        "\n",
        "def comb(n, x):\n",
        "    return fact(n) / (fact(x) * fact(n-x))\n",
        "\n",
        "def b(x, n, p):\n",
        "    return comb(n, x) * p**x * (1-p)**(n-x)\n",
        "\n",
        "p, n = list(map(int, input().split(\" \")))\n",
        "print(round(sum([b(i, n, p/100) for i in range(3)]), 3))\n",
        "print(round(sum([b(i, n, p/100) for i in range(2, n+1)]), 3))"
      ],
      "execution_count": 2,
      "outputs": [
        {
          "output_type": "stream",
          "name": "stdout",
          "text": [
            "12 10\n",
            "0.891\n",
            "0.342\n"
          ]
        }
      ]
    },
    {
      "cell_type": "markdown",
      "metadata": {
        "id": "GePtgxd8OYpO"
      },
      "source": [
        "[Day 5: Normal Distribution I](https://www.hackerrank.com/challenges/s10-normal-distribution-1)"
      ]
    },
    {
      "cell_type": "code",
      "metadata": {
        "colab": {
          "base_uri": "https://localhost:8080/"
        },
        "id": "ELDc1bNCOoAQ",
        "outputId": "6e30fa85-a5c3-4bd9-bbfc-6f16ae992a06"
      },
      "source": [
        "import math\n",
        "mean, std = 20, 2\n",
        "cdf = lambda x: 0.5 * (1 + math.erf((x - mean) / (std * (2 ** 0.5))))\n",
        "\n",
        "# Less than 19.5\n",
        "print('{:.3f}'.format(cdf(19.5)))\n",
        "# Between 20 and 22\n",
        "print('{:.3f}'.format(cdf(22) - cdf(20)))"
      ],
      "execution_count": 3,
      "outputs": [
        {
          "output_type": "stream",
          "name": "stdout",
          "text": [
            "0.401\n",
            "0.341\n"
          ]
        }
      ]
    },
    {
      "cell_type": "markdown",
      "metadata": {
        "id": "8uxM9XlDOo6p"
      },
      "source": [
        "[Day 5: Normal Distribution II](https://www.hackerrank.com/challenges/s10-normal-distribution-2)"
      ]
    },
    {
      "cell_type": "code",
      "metadata": {
        "colab": {
          "base_uri": "https://localhost:8080/"
        },
        "id": "kJfm-ye5PLhm",
        "outputId": "67d328ce-cf9f-43db-9e99-d7fd3cfddcfc"
      },
      "source": [
        "import math\n",
        "mean, std = 70, 10\n",
        "cdf = lambda x: 0.5 * (1 + math.erf((x - mean) / (std * (2 ** 0.5))))\n",
        "\n",
        "print(round((1-cdf(80))*100,2))\n",
        "print(round((1-cdf(60))*100,2))\n",
        "print(round((cdf(60))*100,2))"
      ],
      "execution_count": 4,
      "outputs": [
        {
          "output_type": "stream",
          "name": "stdout",
          "text": [
            "15.87\n",
            "84.13\n",
            "15.87\n"
          ]
        }
      ]
    },
    {
      "cell_type": "markdown",
      "metadata": {
        "id": "xRT9liaxPoAa"
      },
      "source": [
        "[Day 6: The Central Limit Theorem I](https://www.hackerrank.com/challenges/s10-the-central-limit-theorem-1)"
      ]
    },
    {
      "cell_type": "code",
      "metadata": {
        "colab": {
          "base_uri": "https://localhost:8080/"
        },
        "id": "F7Qba91YP4FE",
        "outputId": "edcbf7be-2bfb-42ee-cc68-fdd785b721d0"
      },
      "source": [
        "import math\n",
        "\n",
        "def less_than_boundary_cdf(x, mean, std):\n",
        "    return round(0.5 * (1 + math.erf((x - mean)/ (std * math.sqrt(2)))), 4)\n",
        "\n",
        "print(less_than_boundary_cdf(9800, 49 * 205, math.sqrt(49) * 15))"
      ],
      "execution_count": 6,
      "outputs": [
        {
          "output_type": "stream",
          "name": "stdout",
          "text": [
            "0.0098\n"
          ]
        }
      ]
    },
    {
      "cell_type": "markdown",
      "metadata": {
        "id": "SU-4EBrYP901"
      },
      "source": [
        "[Day 6: The Central Limit Theorem II](https://www.hackerrank.com/challenges/s10-the-central-limit-theorem-2)"
      ]
    },
    {
      "cell_type": "code",
      "metadata": {
        "colab": {
          "base_uri": "https://localhost:8080/"
        },
        "id": "Us_lw5mYQEFw",
        "outputId": "03c4c77a-1970-43a0-f80b-3958f3c51bee"
      },
      "source": [
        "from math import erf\n",
        "max_num = float(input())\n",
        "n = int(input())\n",
        "mu = float(input())\n",
        "std = float(input())\n",
        "mean = n*mu\n",
        "stan = std*(n**0.5)\n",
        "f = lambda x : 0.5*(1+erf((x-mean)/(stan*(2**0.5))))\n",
        "pro = f(max_num)\n",
        "pro = round(pro, 4)\n",
        "print(pro)"
      ],
      "execution_count": 7,
      "outputs": [
        {
          "output_type": "stream",
          "name": "stdout",
          "text": [
            "250\n",
            "100\n",
            "2.4\n",
            "2.0\n",
            "0.6915\n"
          ]
        }
      ]
    },
    {
      "cell_type": "markdown",
      "metadata": {
        "id": "OURHYsZcQEph"
      },
      "source": [
        "[Day 6: The Central Limit Theorem III](https://www.hackerrank.com/challenges/s10-the-central-limit-theorem-3)"
      ]
    },
    {
      "cell_type": "code",
      "metadata": {
        "colab": {
          "base_uri": "https://localhost:8080/"
        },
        "id": "bcTnuFI3QPzL",
        "outputId": "c75bc0f3-aa4a-4aae-9570-f7663b5ed876"
      },
      "source": [
        "samples = float(input())\n",
        "mean = float(input())\n",
        "sd = float(input())\n",
        "interval = float(input())\n",
        "z = float (input())\n",
        "\n",
        "sd_sample = sd / (samples**0.5)\n",
        "print(round(mean - sd_sample*z,2))\n",
        "print(round(mean + sd_sample*z,2))"
      ],
      "execution_count": 8,
      "outputs": [
        {
          "output_type": "stream",
          "name": "stdout",
          "text": [
            "100\n",
            "500\n",
            "80\n",
            ".95\n",
            "1.96\n",
            "484.32\n",
            "515.68\n"
          ]
        }
      ]
    },
    {
      "cell_type": "markdown",
      "metadata": {
        "id": "nm1if184QaYY"
      },
      "source": [
        "[Day 7: Pearson Correlation Coefficient I](https://www.hackerrank.com/challenges/s10-pearson-correlation-coefficient)"
      ]
    },
    {
      "cell_type": "code",
      "metadata": {
        "colab": {
          "base_uri": "https://localhost:8080/"
        },
        "id": "d7iGpo-pQjie",
        "outputId": "b8c9927e-6a84-4cbd-a0fb-3fa4ac8877d2"
      },
      "source": [
        "import statistics as st\n",
        "\n",
        "n = int(input())\n",
        "x = tuple(map(float,input().split()))\n",
        "y = tuple(map(float,input().split()))\n",
        "\n",
        "rho = sum([a*b for a,b in zip([i-st.mean(x) for i in x],[i-st.mean(y) for i in y])])/(n*st.pstdev(x)*st.pstdev(y))\n",
        "print(round(rho,3))"
      ],
      "execution_count": 9,
      "outputs": [
        {
          "output_type": "stream",
          "name": "stdout",
          "text": [
            "10\n",
            "10 9.8 8 7.8 7.7 7 6 5 4 2\n",
            "200 44 32 24 22 17 15 12 8 4\n",
            "0.612\n"
          ]
        }
      ]
    },
    {
      "cell_type": "markdown",
      "metadata": {
        "id": "tWT1MrA-QkI-"
      },
      "source": [
        "[Day 7: Pearson Correlation Coefficient II](https://www.hackerrank.com/challenges/s10-least-square-regression-line)"
      ]
    },
    {
      "cell_type": "code",
      "metadata": {
        "colab": {
          "base_uri": "https://localhost:8080/"
        },
        "id": "fbkfV7VVQnRm",
        "outputId": "4c69f68a-8b9a-43e0-e892-b41435934059"
      },
      "source": [
        "from statistics import mean\n",
        "from operator import itemgetter\n",
        "   \n",
        "def lr(ar,p):\n",
        "    x = list( map(itemgetter(0),ar))\n",
        "    y = list( map(itemgetter(1),ar))\n",
        "    xy = list(map(lambda a,b: a*b, x,y))\n",
        "    x2 = list(map(lambda a: a**2,x))\n",
        "    m = (mean(x)*mean(y) - mean(xy))/(((mean(x))**2) - mean(x2))\n",
        "    c = mean(y) - m*mean(x)\n",
        "    result = m*p + c\n",
        "    return result\n",
        "\n",
        "ar = []\n",
        "for i in range(5):\n",
        "    a = list(map(int, input().split()))\n",
        "    ar.append(a)\n",
        "p = 80\n",
        "print(format(lr(ar,p),'.3f'))"
      ],
      "execution_count": 10,
      "outputs": [
        {
          "output_type": "stream",
          "name": "stdout",
          "text": [
            "95 85\n",
            "85 95\n",
            "80 70\n",
            "70 65\n",
            "60 70\n",
            "78.288\n"
          ]
        }
      ]
    },
    {
      "cell_type": "markdown",
      "metadata": {
        "id": "kxvR7FVaQoEQ"
      },
      "source": [
        "[Day 7: Pearson Correlation Coefficient III](https://www.hackerrank.com/challenges/s10-multiple-linear-regression)"
      ]
    },
    {
      "cell_type": "code",
      "metadata": {
        "colab": {
          "base_uri": "https://localhost:8080/"
        },
        "id": "Jh4h79dUQ2az",
        "outputId": "93191546-f635-4ba1-cede-cfce2db85993"
      },
      "source": [
        "import numpy as np\n",
        "\n",
        "def solve(y, x, x_pred):\n",
        "  # x transpose\n",
        "  x_dash  = x.T\n",
        "  # product of x_dash and x\n",
        "  X       = x_dash.dot(x)\n",
        "  # inverse of X\n",
        "  X_inv = np.linalg.inv(X)\n",
        "  # producet of X_inv and x_dash\n",
        "  X_final = X_inv.dot(x_dash)\n",
        "  # product of X_final and y i.e B\n",
        "  B = X_final.dot(y)\n",
        "  # calculate the y_pred\n",
        "  y_pred  = x_pred.dot(B)\n",
        "  return y_pred\n",
        "\n",
        "def main():\n",
        "  m, n = map(int, input().strip().split())\n",
        "  y = []; x = []; x_pred = []\n",
        "  for _ in range(n):\n",
        "    *features, y_val = map(float, input().strip().split())\n",
        "    x.append([1] + features)\n",
        "    y.append(y_val)\n",
        "\n",
        "  for _ in range(int(input())):\n",
        "    features = list(map(float, input().strip().split()))\n",
        "    x_pred.append([1] + features)\n",
        "\n",
        "  y = np.array(y)\n",
        "  x = np.array(x)\n",
        "  x_pred = np.array(x_pred)\n",
        "  answer = solve(y, x, x_pred)\n",
        "  \n",
        "  for num in answer:\n",
        "    print(round(num, 2))\n",
        "\n",
        "if __name__ == \"__main__\":\n",
        "  main()"
      ],
      "execution_count": 11,
      "outputs": [
        {
          "output_type": "stream",
          "name": "stdout",
          "text": [
            "2 7\n",
            "0.18 0.89 109.85\n",
            "1.0 0.26 155.72\n",
            "0.92 0.11 137.66\n",
            "0.07 0.37 76.17\n",
            "0.85 0.16 139.75\n",
            "0.99 0.41 162.6\n",
            "0.87 0.47 151.77\n",
            "4\n",
            "0.49 0.18\n",
            "0.57 0.83\n",
            "0.56 0.64\n",
            "0.76 0.18\n",
            "105.21\n",
            "142.67\n",
            "132.94\n",
            "129.7\n"
          ]
        }
      ]
    },
    {
      "cell_type": "code",
      "metadata": {
        "id": "PTPCD6QsV4RL"
      },
      "source": [
        ""
      ],
      "execution_count": null,
      "outputs": []
    }
  ]
}